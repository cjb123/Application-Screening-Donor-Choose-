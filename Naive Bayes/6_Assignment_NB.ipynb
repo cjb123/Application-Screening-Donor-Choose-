{
 "cells": [
  {
   "cell_type": "markdown",
   "metadata": {},
   "source": [
    "# DonorsChoose"
   ]
  },
  {
   "cell_type": "markdown",
   "metadata": {},
   "source": [
    "<p>\n",
    "DonorsChoose.org receives hundreds of thousands of project proposals each year for classroom projects in need of funding. Right now, a large number of volunteers is needed to manually screen each submission before it's approved to be posted on the DonorsChoose.org website.\n",
    "</p>\n",
    "<p>\n",
    "    Next year, DonorsChoose.org expects to receive close to 500,000 project proposals. As a result, there are three main problems they need to solve:\n",
    "<ul>\n",
    "<li>\n",
    "    How to scale current manual processes and resources to screen 500,000 projects so that they can be posted as quickly and as efficiently as possible</li>\n",
    "    <li>How to increase the consistency of project vetting across different volunteers to improve the experience for teachers</li>\n",
    "    <li>How to focus volunteer time on the applications that need the most assistance</li>\n",
    "    </ul>\n",
    "</p>    \n",
    "<p>\n",
    "The goal of the competition is to predict whether or not a DonorsChoose.org project proposal submitted by a teacher will be approved, using the text of project descriptions as well as additional metadata about the project, teacher, and school. DonorsChoose.org can then use this information to identify projects most likely to need further review before approval.\n",
    "</p>"
   ]
  },
  {
   "cell_type": "markdown",
   "metadata": {},
   "source": [
    "## About the DonorsChoose Data Set\n",
    "\n",
    "The `train.csv` data set provided by DonorsChoose contains the following features:\n",
    "\n",
    "Feature | Description \n",
    "----------|---------------\n",
    "**`project_id`** | A unique identifier for the proposed project. **Example:** `p036502`   \n",
    "**`project_title`**    | Title of the project. **Examples:**<br><ul><li><code>Art Will Make You Happy!</code></li><li><code>First Grade Fun</code></li></ul> \n",
    "**`project_grade_category`** | Grade level of students for which the project is targeted. One of the following enumerated values: <br/><ul><li><code>Grades PreK-2</code></li><li><code>Grades 3-5</code></li><li><code>Grades 6-8</code></li><li><code>Grades 9-12</code></li></ul>  \n",
    " **`project_subject_categories`** | One or more (comma-separated) subject categories for the project from the following enumerated list of values:  <br/><ul><li><code>Applied Learning</code></li><li><code>Care &amp; Hunger</code></li><li><code>Health &amp; Sports</code></li><li><code>History &amp; Civics</code></li><li><code>Literacy &amp; Language</code></li><li><code>Math &amp; Science</code></li><li><code>Music &amp; The Arts</code></li><li><code>Special Needs</code></li><li><code>Warmth</code></li></ul><br/> **Examples:** <br/><ul><li><code>Music &amp; The Arts</code></li><li><code>Literacy &amp; Language, Math &amp; Science</code></li>  \n",
    "  **`school_state`** | State where school is located ([Two-letter U.S. postal code](https://en.wikipedia.org/wiki/List_of_U.S._state_abbreviations#Postal_codes)). **Example:** `WY`\n",
    "**`project_subject_subcategories`** | One or more (comma-separated) subject subcategories for the project. **Examples:** <br/><ul><li><code>Literacy</code></li><li><code>Literature &amp; Writing, Social Sciences</code></li></ul> \n",
    "**`project_resource_summary`** | An explanation of the resources needed for the project. **Example:** <br/><ul><li><code>My students need hands on literacy materials to manage sensory needs!</code</li></ul> \n",
    "**`project_essay_1`**    | First application essay<sup>*</sup>  \n",
    "**`project_essay_2`**    | Second application essay<sup>*</sup> \n",
    "**`project_essay_3`**    | Third application essay<sup>*</sup> \n",
    "**`project_essay_4`**    | Fourth application essay<sup>*</sup> \n",
    "**`project_submitted_datetime`** | Datetime when project application was submitted. **Example:** `2016-04-28 12:43:56.245`   \n",
    "**`teacher_id`** | A unique identifier for the teacher of the proposed project. **Example:** `bdf8baa8fedef6bfeec7ae4ff1c15c56`  \n",
    "**`teacher_prefix`** | Teacher's title. One of the following enumerated values: <br/><ul><li><code>nan</code></li><li><code>Dr.</code></li><li><code>Mr.</code></li><li><code>Mrs.</code></li><li><code>Ms.</code></li><li><code>Teacher.</code></li></ul>  \n",
    "**`teacher_number_of_previously_posted_projects`** | Number of project applications previously submitted by the same teacher. **Example:** `2` \n",
    "\n",
    "<sup>*</sup> See the section <b>Notes on the Essay Data</b> for more details about these features.\n",
    "\n",
    "Additionally, the `resources.csv` data set provides more data about the resources required for each project. Each line in this file represents a resource required by a project:\n",
    "\n",
    "Feature | Description \n",
    "----------|---------------\n",
    "**`id`** | A `project_id` value from the `train.csv` file.  **Example:** `p036502`   \n",
    "**`description`** | Desciption of the resource. **Example:** `Tenor Saxophone Reeds, Box of 25`   \n",
    "**`quantity`** | Quantity of the resource required. **Example:** `3`   \n",
    "**`price`** | Price of the resource required. **Example:** `9.95`   \n",
    "\n",
    "**Note:** Many projects require multiple resources. The `id` value corresponds to a `project_id` in train.csv, so you use it as a key to retrieve all resources needed for a project:\n",
    "\n",
    "The data set contains the following label (the value you will attempt to predict):\n",
    "\n",
    "Label | Description\n",
    "----------|---------------\n",
    "`project_is_approved` | A binary flag indicating whether DonorsChoose approved the project. A value of `0` indicates the project was not approved, and a value of `1` indicates the project was approved."
   ]
  },
  {
   "cell_type": "markdown",
   "metadata": {},
   "source": [
    "### Notes on the Essay Data\n",
    "\n",
    "<ul>\n",
    "Prior to May 17, 2016, the prompts for the essays were as follows:\n",
    "<li>__project_essay_1:__ \"Introduce us to your classroom\"</li>\n",
    "<li>__project_essay_2:__ \"Tell us more about your students\"</li>\n",
    "<li>__project_essay_3:__ \"Describe how your students will use the materials you're requesting\"</li>\n",
    "<li>__project_essay_3:__ \"Close by sharing why your project will make a difference\"</li>\n",
    "</ul>\n",
    "\n",
    "\n",
    "<ul>\n",
    "Starting on May 17, 2016, the number of essays was reduced from 4 to 2, and the prompts for the first 2 essays were changed to the following:<br>\n",
    "<li>__project_essay_1:__ \"Describe your students: What makes your students special? Specific details about their background, your neighborhood, and your school are all helpful.\"</li>\n",
    "<li>__project_essay_2:__ \"About your project: How will these materials make a difference in your students' learning and improve their school lives?\"</li>\n",
    "<br>For all projects with project_submitted_datetime of 2016-05-17 and later, the values of project_essay_3 and project_essay_4 will be NaN.\n",
    "</ul>\n"
   ]
  },
  {
   "cell_type": "code",
   "execution_count": 1,
   "metadata": {},
   "outputs": [],
   "source": [
    "%matplotlib inline\n",
    "import warnings\n",
    "warnings.filterwarnings(\"ignore\")\n",
    "\n",
    "import pandas as pd\n",
    "import numpy as np\n",
    "import nltk\n",
    "import string\n",
    "import matplotlib.pyplot as plt\n",
    "import seaborn as sns\n",
    "from sklearn.feature_extraction.text import TfidfTransformer\n",
    "from sklearn.feature_extraction.text import TfidfVectorizer\n",
    "\n",
    "from sklearn.feature_extraction.text import CountVectorizer\n",
    "from sklearn.metrics import confusion_matrix\n",
    "from sklearn import metrics\n",
    "from sklearn.linear_model import LogisticRegression,SGDClassifier\n",
    "from sklearn.metrics import roc_auc_score, auc , roc_curve\n",
    "from sklearn.model_selection import GridSearchCV\n",
    "\n",
    "from nltk.stem.porter import PorterStemmer\n",
    "import re\n",
    "from nltk.corpus import stopwords\n",
    "from nltk.stem import PorterStemmer\n",
    "from nltk.stem.wordnet import WordNetLemmatizer\n",
    "\n",
    "from gensim.models import Word2Vec\n",
    "from gensim.models import KeyedVectors\n",
    "\n",
    "from tqdm import tqdm_notebook as tqdm\n",
    "import os\n",
    "import pickle"
   ]
  },
  {
   "cell_type": "markdown",
   "metadata": {},
   "source": [
    "<h1>1. DATA</h1>"
   ]
  },
  {
   "cell_type": "code",
   "execution_count": 2,
   "metadata": {},
   "outputs": [],
   "source": [
    "data_projects = pd.read_csv('../Datasets/donor_choose_train_data.csv')\n",
    "data_resources = pd.read_csv('../Datasets/donor_choose_resources.csv')"
   ]
  },
  {
   "cell_type": "code",
   "execution_count": 3,
   "metadata": {},
   "outputs": [
    {
     "name": "stdout",
     "output_type": "stream",
     "text": [
      "Shape of training dataset = (109248, 17)\n",
      "Shape of resources dataset = (1541272, 4)\n"
     ]
    }
   ],
   "source": [
    "print(\"Shape of training dataset =\",data_projects.shape)\n",
    "print(\"Shape of resources dataset =\",data_resources.shape)"
   ]
  },
  {
   "cell_type": "code",
   "execution_count": 4,
   "metadata": {},
   "outputs": [
    {
     "name": "stdout",
     "output_type": "stream",
     "text": [
      "Columns in train dataset =  Index(['Unnamed: 0', 'id', 'teacher_id', 'teacher_prefix', 'school_state',\n",
      "       'project_submitted_datetime', 'project_grade_category',\n",
      "       'project_subject_categories', 'project_subject_subcategories',\n",
      "       'project_title', 'project_essay_1', 'project_essay_2',\n",
      "       'project_essay_3', 'project_essay_4', 'project_resource_summary',\n",
      "       'teacher_number_of_previously_posted_projects', 'project_is_approved'],\n",
      "      dtype='object')\n",
      "**************************************************\n",
      "Columns in resources dataset =  Index(['id', 'description', 'quantity', 'price'], dtype='object')\n"
     ]
    }
   ],
   "source": [
    "print(\"Columns in train dataset = \",data_projects.columns)\n",
    "print(\"*\"*50)\n",
    "print(\"Columns in resources dataset = \",data_resources.columns)\n"
   ]
  },
  {
   "cell_type": "markdown",
   "metadata": {},
   "source": [
    "<h2>1.1 Converting Date time format and sorting Data by Date</h2>"
   ]
  },
  {
   "cell_type": "code",
   "execution_count": 5,
   "metadata": {},
   "outputs": [
    {
     "data": {
      "text/html": [
       "<div>\n",
       "<style scoped>\n",
       "    .dataframe tbody tr th:only-of-type {\n",
       "        vertical-align: middle;\n",
       "    }\n",
       "\n",
       "    .dataframe tbody tr th {\n",
       "        vertical-align: top;\n",
       "    }\n",
       "\n",
       "    .dataframe thead th {\n",
       "        text-align: right;\n",
       "    }\n",
       "</style>\n",
       "<table border=\"1\" class=\"dataframe\">\n",
       "  <thead>\n",
       "    <tr style=\"text-align: right;\">\n",
       "      <th></th>\n",
       "      <th>Unnamed: 0</th>\n",
       "      <th>id</th>\n",
       "      <th>teacher_id</th>\n",
       "      <th>teacher_prefix</th>\n",
       "      <th>school_state</th>\n",
       "      <th>Date</th>\n",
       "      <th>project_grade_category</th>\n",
       "      <th>project_subject_categories</th>\n",
       "      <th>project_subject_subcategories</th>\n",
       "      <th>project_title</th>\n",
       "      <th>project_essay_1</th>\n",
       "      <th>project_essay_2</th>\n",
       "      <th>project_essay_3</th>\n",
       "      <th>project_essay_4</th>\n",
       "      <th>project_resource_summary</th>\n",
       "      <th>teacher_number_of_previously_posted_projects</th>\n",
       "      <th>project_is_approved</th>\n",
       "    </tr>\n",
       "  </thead>\n",
       "  <tbody>\n",
       "    <tr>\n",
       "      <td>55660</td>\n",
       "      <td>8393</td>\n",
       "      <td>p205479</td>\n",
       "      <td>2bf07ba08945e5d8b2a3f269b2b3cfe5</td>\n",
       "      <td>Mrs.</td>\n",
       "      <td>CA</td>\n",
       "      <td>2016-04-27 00:27:36</td>\n",
       "      <td>Grades PreK-2</td>\n",
       "      <td>Math &amp; Science</td>\n",
       "      <td>Applied Sciences, Health &amp; Life Science</td>\n",
       "      <td>Engineering STEAM into the Primary Classroom</td>\n",
       "      <td>I have been fortunate enough to use the Fairy ...</td>\n",
       "      <td>My students come from a variety of backgrounds...</td>\n",
       "      <td>Each month I try to do several science or STEM...</td>\n",
       "      <td>It is challenging to develop high quality scie...</td>\n",
       "      <td>My students need STEM kits to learn critical s...</td>\n",
       "      <td>53</td>\n",
       "      <td>1</td>\n",
       "    </tr>\n",
       "    <tr>\n",
       "      <td>76127</td>\n",
       "      <td>37728</td>\n",
       "      <td>p043609</td>\n",
       "      <td>3f60494c61921b3b43ab61bdde2904df</td>\n",
       "      <td>Ms.</td>\n",
       "      <td>UT</td>\n",
       "      <td>2016-04-27 00:31:25</td>\n",
       "      <td>Grades 3-5</td>\n",
       "      <td>Special Needs</td>\n",
       "      <td>Special Needs</td>\n",
       "      <td>Sensory Tools for Focus</td>\n",
       "      <td>Imagine being 8-9 years old. You're in your th...</td>\n",
       "      <td>Most of my students have autism, anxiety, anot...</td>\n",
       "      <td>It is tough to do more than one thing at a tim...</td>\n",
       "      <td>When my students are able to calm themselves d...</td>\n",
       "      <td>My students need Boogie Boards for quiet senso...</td>\n",
       "      <td>4</td>\n",
       "      <td>1</td>\n",
       "    </tr>\n",
       "  </tbody>\n",
       "</table>\n",
       "</div>"
      ],
      "text/plain": [
       "       Unnamed: 0       id                        teacher_id teacher_prefix  \\\n",
       "55660        8393  p205479  2bf07ba08945e5d8b2a3f269b2b3cfe5           Mrs.   \n",
       "76127       37728  p043609  3f60494c61921b3b43ab61bdde2904df            Ms.   \n",
       "\n",
       "      school_state                Date project_grade_category  \\\n",
       "55660           CA 2016-04-27 00:27:36          Grades PreK-2   \n",
       "76127           UT 2016-04-27 00:31:25             Grades 3-5   \n",
       "\n",
       "      project_subject_categories            project_subject_subcategories  \\\n",
       "55660             Math & Science  Applied Sciences, Health & Life Science   \n",
       "76127              Special Needs                            Special Needs   \n",
       "\n",
       "                                      project_title  \\\n",
       "55660  Engineering STEAM into the Primary Classroom   \n",
       "76127                       Sensory Tools for Focus   \n",
       "\n",
       "                                         project_essay_1  \\\n",
       "55660  I have been fortunate enough to use the Fairy ...   \n",
       "76127  Imagine being 8-9 years old. You're in your th...   \n",
       "\n",
       "                                         project_essay_2  \\\n",
       "55660  My students come from a variety of backgrounds...   \n",
       "76127  Most of my students have autism, anxiety, anot...   \n",
       "\n",
       "                                         project_essay_3  \\\n",
       "55660  Each month I try to do several science or STEM...   \n",
       "76127  It is tough to do more than one thing at a tim...   \n",
       "\n",
       "                                         project_essay_4  \\\n",
       "55660  It is challenging to develop high quality scie...   \n",
       "76127  When my students are able to calm themselves d...   \n",
       "\n",
       "                                project_resource_summary  \\\n",
       "55660  My students need STEM kits to learn critical s...   \n",
       "76127  My students need Boogie Boards for quiet senso...   \n",
       "\n",
       "       teacher_number_of_previously_posted_projects  project_is_approved  \n",
       "55660                                            53                    1  \n",
       "76127                                             4                    1  "
      ]
     },
     "execution_count": 5,
     "metadata": {},
     "output_type": "execute_result"
    }
   ],
   "source": [
    "# how to replace elements in list python: https://stackoverflow.com/a/2582163/4084039\n",
    "cols = ['Date' if x=='project_submitted_datetime' else x for x in list(data_projects.columns)]\n",
    "\n",
    "\n",
    "#sort dataframe based on time pandas python: https://stackoverflow.com/a/49702492/4084039\n",
    "data_projects['Date'] = pd.to_datetime(data_projects['project_submitted_datetime'])\n",
    "data_projects.drop('project_submitted_datetime', axis=1, inplace=True)\n",
    "data_projects.sort_values(by=['Date'], inplace=True)\n",
    "\n",
    "\n",
    "# how to reorder columns pandas python: https://stackoverflow.com/a/13148611/4084039\n",
    "data_projects = data_projects[cols]\n",
    "\n",
    "\n",
    "data_projects.head(2)"
   ]
  },
  {
   "cell_type": "code",
   "execution_count": 6,
   "metadata": {},
   "outputs": [
    {
     "data": {
      "text/plain": [
       "1    92706\n",
       "0    16542\n",
       "Name: project_is_approved, dtype: int64"
      ]
     },
     "execution_count": 6,
     "metadata": {},
     "output_type": "execute_result"
    }
   ],
   "source": [
    "output_value_counts = data_projects['project_is_approved'].value_counts()\n",
    "output_value_counts"
   ]
  },
  {
   "cell_type": "markdown",
   "metadata": {},
   "source": [
    "<h1>2. PREPROCESSING</h1>"
   ]
  },
  {
   "cell_type": "code",
   "execution_count": 7,
   "metadata": {},
   "outputs": [],
   "source": [
    "# https://stackoverflow.com/a/47091490/4084039\n",
    "import re\n",
    "\n",
    "def decontracted(phrase):\n",
    "    # specific\n",
    "    phrase = re.sub(r\"won't\", \"will not\", phrase)\n",
    "    phrase = re.sub(r\"can\\'t\", \"can not\", phrase)\n",
    "\n",
    "    # general\n",
    "    phrase = re.sub(r\"n\\'t\", \" not\", phrase)\n",
    "    phrase = re.sub(r\"\\'re\", \" are\", phrase)\n",
    "    phrase = re.sub(r\"\\'s\", \" is\", phrase)\n",
    "    phrase = re.sub(r\"\\'d\", \" would\", phrase)\n",
    "    phrase = re.sub(r\"\\'ll\", \" will\", phrase)\n",
    "    phrase = re.sub(r\"\\'t\", \" not\", phrase)\n",
    "    phrase = re.sub(r\"\\'ve\", \" have\", phrase)\n",
    "    phrase = re.sub(r\"\\'m\", \" am\", phrase)\n",
    "    return phrase"
   ]
  },
  {
   "cell_type": "code",
   "execution_count": 8,
   "metadata": {},
   "outputs": [],
   "source": [
    "# https://gist.github.com/sebleier/554280\n",
    "\n",
    "stopwords= ['i', 'me', 'my', 'myself', 'we', 'our', 'ours', 'ourselves', 'you', \"you're\", \"you've\",\\\n",
    "            \"you'll\", \"you'd\", 'your', 'yours', 'yourself', 'yourselves', 'he', 'him', 'his', 'himself', \\\n",
    "            'she', \"she's\", 'her', 'hers', 'herself', 'it', \"it's\", 'its', 'itself', 'they', 'them', 'their',\\\n",
    "            'theirs', 'themselves', 'what', 'which', 'who', 'whom', 'this', 'that', \"that'll\", 'these', 'those', \\\n",
    "            'am', 'is', 'are', 'was', 'were', 'be', 'been', 'being', 'have', 'has', 'had', 'having', 'do', 'does', \\\n",
    "            'did', 'doing', 'a', 'an', 'the', 'and', 'but', 'if', 'or', 'because', 'as', 'until', 'while', 'of', \\\n",
    "            'at', 'by', 'for', 'with', 'about', 'against', 'between', 'into', 'through', 'during', 'before', 'after',\\\n",
    "            'above', 'below', 'to', 'from', 'up', 'down', 'in', 'out', 'on', 'off', 'over', 'under', 'again', 'further',\\\n",
    "            'then', 'once', 'here', 'there', 'when', 'where', 'why', 'how', 'all', 'any', 'both', 'each', 'few', 'more',\\\n",
    "            'most', 'other', 'some', 'such', 'only', 'own', 'same', 'so', 'than', 'too', 'very', \\\n",
    "            's', 't', 'can', 'will', 'just', 'don', \"don't\", 'should', \"should've\", 'now', 'd', 'll', 'm', 'o', 're', \\\n",
    "            've', 'y', 'ain', 'aren', \"aren't\", 'couldn', \"couldn't\", 'didn', \"didn't\", 'doesn', \"doesn't\", 'hadn',\\\n",
    "            \"hadn't\", 'hasn', \"hasn't\", 'haven', \"haven't\", 'isn', \"isn't\", 'ma', 'mightn', \"mightn't\", 'mustn',\\\n",
    "            \"mustn't\", 'needn', \"needn't\", 'shan', \"shan't\", 'shouldn', \"shouldn't\", 'wasn', \"wasn't\", 'weren', \"weren't\", \\\n",
    "            'won', \"won't\", 'wouldn', \"wouldn't\"]"
   ]
  },
  {
   "cell_type": "markdown",
   "metadata": {},
   "source": [
    "\n",
    "<h2>2.1 Project Categories</h2>"
   ]
  },
  {
   "cell_type": "code",
   "execution_count": 9,
   "metadata": {},
   "outputs": [
    {
     "name": "stdout",
     "output_type": "stream",
     "text": [
      "{'Math_Science': 41421, 'SpecialNeeds': 13642, 'Literacy_Language': 52239, 'AppliedLearning': 12135, 'History_Civics': 5914, 'Music_Arts': 10293, 'Health_Sports': 14223, 'Warmth': 1388, 'Care_Hunger': 1388}\n",
      "{'Warmth': 1388, 'Care_Hunger': 1388, 'History_Civics': 5914, 'Music_Arts': 10293, 'AppliedLearning': 12135, 'SpecialNeeds': 13642, 'Health_Sports': 14223, 'Math_Science': 41421, 'Literacy_Language': 52239}\n"
     ]
    }
   ],
   "source": [
    "#print(list(data_projects['project_subject_categories'].values))\n",
    "\n",
    "cats = list(data_projects['project_subject_categories'].values)\n",
    "cg_list = []\n",
    "category_list = []\n",
    "for cg in cats:\n",
    "    temp = \"\"\n",
    "    for j in cg.split(\",\"):\n",
    "        if 'The' in j.split():\n",
    "            j = j.replace('The','')\n",
    "        j = j.replace(' ','')\n",
    "        temp += j.strip()+' '\n",
    "        temp = temp.replace('&','_')\n",
    "    cg_list.append(temp)\n",
    "for i in cg_list:\n",
    "     i = i.strip()\n",
    "     category_list.append(i)\n",
    "# print(category_list)\n",
    "\n",
    "\n",
    "\n",
    "data_projects[\"clean_categories\"] = category_list\n",
    "data_projects.drop([\"project_subject_categories\"], axis = 1, inplace = True)\n",
    "# print(data_projects.head(2))\n",
    "\n",
    "#preprocessing\n",
    "# count of all the words in corpus python: https://stackoverflow.com/a/22898595/4084039\n",
    "from collections import Counter\n",
    "my_coll = Counter()\n",
    "for x in data_projects['clean_categories'].values:\n",
    "    my_coll.update(x.split())\n",
    "    \n",
    "my_coll = dict(my_coll)\n",
    "print(my_coll)\n",
    "sorted_coll_dict = dict(sorted(my_coll.items(), key=lambda x: x[1]))\n",
    "print((sorted_coll_dict))"
   ]
  },
  {
   "cell_type": "markdown",
   "metadata": {},
   "source": [
    "<h2>2.2 Project Subcategories</h2>"
   ]
  },
  {
   "cell_type": "code",
   "execution_count": 10,
   "metadata": {},
   "outputs": [
    {
     "name": "stdout",
     "output_type": "stream",
     "text": [
      "{'Economics': 269, 'CommunityService': 441, 'FinancialLiteracy': 568, 'ParentInvolvement': 677, 'Extracurricular': 810, 'Civics_Government': 815, 'ForeignLanguages': 890, 'NutritionEducation': 1355, 'Warmth': 1388, 'Care_Hunger': 1388, 'SocialSciences': 1920, 'PerformingArts': 1961, 'CharacterEducation': 2065, 'TeamSports': 2192, 'Other': 2372, 'College_CareerPrep': 2568, 'Music': 3145, 'History_Geography': 3171, 'Health_LifeScience': 4235, 'EarlyDevelopment': 4254, 'ESL': 4367, 'Gym_Fitness': 4509, 'EnvironmentalScience': 5591, 'VisualArts': 6278, 'Health_Wellness': 10234, 'AppliedSciences': 10816, 'SpecialNeeds': 13642, 'Literature_Writing': 22179, 'Mathematics': 28074, 'Literacy': 33700}\n"
     ]
    }
   ],
   "source": [
    "cats = list(data_projects['project_subject_subcategories'].values)\n",
    "cg_list = []\n",
    "category_list = []\n",
    "for cg in cats:\n",
    "    temp = \"\"\n",
    "    for j in cg.split(\",\"):\n",
    "        if 'The' in j.split():\n",
    "            j = j.replace('The','')\n",
    "        j = j.replace(' ','')\n",
    "        temp += j.strip()+' '\n",
    "        temp = temp.replace('&','_')\n",
    "    cg_list.append(temp)\n",
    "for i in cg_list:\n",
    "     i = i.strip()\n",
    "     category_list.append(i)\n",
    "# print(category_list)    \n",
    "\n",
    "data_projects[\"clean_sub_categories\"] = category_list\n",
    "data_projects.drop([\"project_subject_subcategories\"], axis = 1, inplace = True)\n",
    "# print(data_projects.head(2))\n",
    "\n",
    "\n",
    "from collections import Counter\n",
    "my_coll_sub = Counter()\n",
    "for x in data_projects['clean_sub_categories'].values:\n",
    "    my_coll_sub.update(x.split())\n",
    "    \n",
    "my_coll_sub = dict(my_coll_sub)\n",
    "sorted_coll_dict_sub = dict(sorted(my_coll_sub.items(), key=lambda x: x[1]))\n",
    "print(sorted_coll_dict_sub)\n"
   ]
  },
  {
   "cell_type": "markdown",
   "metadata": {},
   "source": [
    "<h2> 2.3 Project Essay </h2>\n"
   ]
  },
  {
   "cell_type": "code",
   "execution_count": 11,
   "metadata": {},
   "outputs": [],
   "source": [
    "data_projects['essay'] = data_projects['project_essay_1'].map(str) \\\n",
    "                 + data_projects['project_essay_2'].map(str) \\\n",
    "                 + data_projects['project_essay_3'].map(str) \\\n",
    "                 + data_projects['project_essay_4'].map(str)"
   ]
  },
  {
   "cell_type": "code",
   "execution_count": 12,
   "metadata": {},
   "outputs": [
    {
     "name": "stderr",
     "output_type": "stream",
     "text": [
      "100%|█████████████████████████████████| 109248/109248 [01:49<00:00, 999.57it/s]\n"
     ]
    }
   ],
   "source": [
    "from tqdm import tqdm\n",
    "preprocessed_essay = []\n",
    "\n",
    "for item in tqdm(data_projects['essay'].values):\n",
    "        it = decontracted(item)\n",
    "        it = it.replace('\\\\r', ' ')\n",
    "        it = it.replace('\\\\\"', ' ')\n",
    "        it = it.replace('\\\\n', ' ')\n",
    "        it = re.sub('[^A-Za-z0-9]+', ' ',it)\n",
    "        it = ' '.join(e for e in it.split() if e not in stopwords)\n",
    "        preprocessed_essay.append(it.lower().strip())\n",
    "        \n",
    "preprocessed_essay[1000]\n",
    "data_projects['preprocessed_essays'] = preprocessed_essay"
   ]
  },
  {
   "cell_type": "markdown",
   "metadata": {},
   "source": [
    "<h2> 2.4 PROJECT TITLE</h2>"
   ]
  },
  {
   "cell_type": "code",
   "execution_count": 13,
   "metadata": {},
   "outputs": [
    {
     "name": "stderr",
     "output_type": "stream",
     "text": [
      "100%|███████████████████████████████| 109248/109248 [00:04<00:00, 23075.13it/s]\n"
     ]
    }
   ],
   "source": [
    "# Combining all the above statemennts \n",
    "from tqdm import tqdm\n",
    "preprocessed_titles = []\n",
    "# tqdm is for printing the status bar\n",
    "for sentance in tqdm(data_projects['project_title'].values):\n",
    "    sent = decontracted(sentance)\n",
    "    sent = sent.replace('\\\\r', ' ')\n",
    "    sent = sent.replace('\\\\\"', ' ')\n",
    "    sent = sent.replace('\\\\n', ' ')\n",
    "    sent = re.sub('[^A-Za-z0-9]+', ' ', sent)\n",
    "    # https://gist.github.com/sebleier/554280\n",
    "    sent = ' '.join(e for e in sent.split() if e not in stopwords)\n",
    "    preprocessed_titles.append(sent.lower().strip())\n",
    "data_projects['preprocessed_titles'] = preprocessed_titles"
   ]
  },
  {
   "cell_type": "markdown",
   "metadata": {},
   "source": [
    "<h2> 2.5. PROJECT GRADE</h2>"
   ]
  },
  {
   "cell_type": "code",
   "execution_count": 14,
   "metadata": {},
   "outputs": [
    {
     "data": {
      "text/plain": [
       "Grades PreK-2    44225\n",
       "Grades 3-5       37137\n",
       "Grades 6-8       16923\n",
       "Grades 9-12      10963\n",
       "Name: project_grade_category, dtype: int64"
      ]
     },
     "execution_count": 14,
     "metadata": {},
     "output_type": "execute_result"
    }
   ],
   "source": [
    "data_projects['project_grade_category'].value_counts()"
   ]
  },
  {
   "cell_type": "code",
   "execution_count": 15,
   "metadata": {},
   "outputs": [
    {
     "data": {
      "text/plain": [
       "Grades_PreK-2    44225\n",
       "Grades_3-5       37137\n",
       "Grades_6-8       16923\n",
       "Grades_9-12      10963\n",
       "Name: project_grade_category, dtype: int64"
      ]
     },
     "execution_count": 15,
     "metadata": {},
     "output_type": "execute_result"
    }
   ],
   "source": [
    "data_projects['project_grade_category'] = data_projects['project_grade_category'].str.replace(\" \", \"_\")\n",
    "data_projects['project_grade_category'].value_counts()"
   ]
  },
  {
   "cell_type": "markdown",
   "metadata": {},
   "source": [
    "<h2> 2.6. TEACHER PREFIX PREPROCESSING </h2>"
   ]
  },
  {
   "cell_type": "code",
   "execution_count": 16,
   "metadata": {},
   "outputs": [
    {
     "data": {
      "text/plain": [
       "Mrs.       57269\n",
       "Ms.        38955\n",
       "Mr.        10648\n",
       "Teacher     2360\n",
       "Dr.           13\n",
       "Name: teacher_prefix, dtype: int64"
      ]
     },
     "execution_count": 16,
     "metadata": {},
     "output_type": "execute_result"
    }
   ],
   "source": [
    "data_projects['teacher_prefix'].value_counts()"
   ]
  },
  {
   "cell_type": "code",
   "execution_count": 17,
   "metadata": {},
   "outputs": [
    {
     "data": {
      "text/plain": [
       "Mrs        57269\n",
       "Ms         38955\n",
       "Mr         10648\n",
       "Teacher     2360\n",
       "Dr            13\n",
       "Name: teacher_prefix, dtype: int64"
      ]
     },
     "execution_count": 17,
     "metadata": {},
     "output_type": "execute_result"
    }
   ],
   "source": [
    "data_projects['teacher_prefix'] = data_projects['teacher_prefix'].str.replace(\".\", \"\")\n",
    "data_projects['teacher_prefix'].value_counts()"
   ]
  },
  {
   "cell_type": "code",
   "execution_count": 18,
   "metadata": {},
   "outputs": [],
   "source": [
    "data_projects.to_csv(\"final_data_features.csv\", index=False)"
   ]
  },
  {
   "cell_type": "code",
   "execution_count": 19,
   "metadata": {},
   "outputs": [
    {
     "data": {
      "text/html": [
       "<div>\n",
       "<style scoped>\n",
       "    .dataframe tbody tr th:only-of-type {\n",
       "        vertical-align: middle;\n",
       "    }\n",
       "\n",
       "    .dataframe tbody tr th {\n",
       "        vertical-align: top;\n",
       "    }\n",
       "\n",
       "    .dataframe thead th {\n",
       "        text-align: right;\n",
       "    }\n",
       "</style>\n",
       "<table border=\"1\" class=\"dataframe\">\n",
       "  <thead>\n",
       "    <tr style=\"text-align: right;\">\n",
       "      <th></th>\n",
       "      <th>Unnamed: 0</th>\n",
       "      <th>id</th>\n",
       "      <th>teacher_id</th>\n",
       "      <th>teacher_prefix</th>\n",
       "      <th>school_state</th>\n",
       "      <th>Date</th>\n",
       "      <th>project_grade_category</th>\n",
       "      <th>project_title</th>\n",
       "      <th>project_essay_1</th>\n",
       "      <th>project_essay_2</th>\n",
       "      <th>project_essay_3</th>\n",
       "      <th>project_essay_4</th>\n",
       "      <th>project_resource_summary</th>\n",
       "      <th>teacher_number_of_previously_posted_projects</th>\n",
       "      <th>project_is_approved</th>\n",
       "      <th>clean_categories</th>\n",
       "      <th>clean_sub_categories</th>\n",
       "      <th>essay</th>\n",
       "      <th>preprocessed_essays</th>\n",
       "      <th>preprocessed_titles</th>\n",
       "    </tr>\n",
       "  </thead>\n",
       "  <tbody>\n",
       "    <tr>\n",
       "      <td>0</td>\n",
       "      <td>8393</td>\n",
       "      <td>p205479</td>\n",
       "      <td>2bf07ba08945e5d8b2a3f269b2b3cfe5</td>\n",
       "      <td>Mrs</td>\n",
       "      <td>CA</td>\n",
       "      <td>2016-04-27 00:27:36</td>\n",
       "      <td>Grades_PreK-2</td>\n",
       "      <td>Engineering STEAM into the Primary Classroom</td>\n",
       "      <td>I have been fortunate enough to use the Fairy ...</td>\n",
       "      <td>My students come from a variety of backgrounds...</td>\n",
       "      <td>Each month I try to do several science or STEM...</td>\n",
       "      <td>It is challenging to develop high quality scie...</td>\n",
       "      <td>My students need STEM kits to learn critical s...</td>\n",
       "      <td>53</td>\n",
       "      <td>1</td>\n",
       "      <td>Math_Science</td>\n",
       "      <td>AppliedSciences Health_LifeScience</td>\n",
       "      <td>I have been fortunate enough to use the Fairy ...</td>\n",
       "      <td>i fortunate enough use fairy tale stem kits cl...</td>\n",
       "      <td>engineering steam primary classroom</td>\n",
       "    </tr>\n",
       "    <tr>\n",
       "      <td>1</td>\n",
       "      <td>37728</td>\n",
       "      <td>p043609</td>\n",
       "      <td>3f60494c61921b3b43ab61bdde2904df</td>\n",
       "      <td>Ms</td>\n",
       "      <td>UT</td>\n",
       "      <td>2016-04-27 00:31:25</td>\n",
       "      <td>Grades_3-5</td>\n",
       "      <td>Sensory Tools for Focus</td>\n",
       "      <td>Imagine being 8-9 years old. You're in your th...</td>\n",
       "      <td>Most of my students have autism, anxiety, anot...</td>\n",
       "      <td>It is tough to do more than one thing at a tim...</td>\n",
       "      <td>When my students are able to calm themselves d...</td>\n",
       "      <td>My students need Boogie Boards for quiet senso...</td>\n",
       "      <td>4</td>\n",
       "      <td>1</td>\n",
       "      <td>SpecialNeeds</td>\n",
       "      <td>SpecialNeeds</td>\n",
       "      <td>Imagine being 8-9 years old. You're in your th...</td>\n",
       "      <td>imagine 8 9 years old you third grade classroo...</td>\n",
       "      <td>sensory tools focus</td>\n",
       "    </tr>\n",
       "    <tr>\n",
       "      <td>2</td>\n",
       "      <td>74477</td>\n",
       "      <td>p189804</td>\n",
       "      <td>4a97f3a390bfe21b99cf5e2b81981c73</td>\n",
       "      <td>Mrs</td>\n",
       "      <td>CA</td>\n",
       "      <td>2016-04-27 00:46:53</td>\n",
       "      <td>Grades_PreK-2</td>\n",
       "      <td>Mobile Learning with a Mobile Listening Center</td>\n",
       "      <td>Having a class of 24 students comes with diver...</td>\n",
       "      <td>I have a class of twenty-four kindergarten stu...</td>\n",
       "      <td>By having a mobile listening and storage cente...</td>\n",
       "      <td>A mobile listening center will help keep equip...</td>\n",
       "      <td>My students need a mobile listening center to ...</td>\n",
       "      <td>10</td>\n",
       "      <td>1</td>\n",
       "      <td>Literacy_Language</td>\n",
       "      <td>Literacy</td>\n",
       "      <td>Having a class of 24 students comes with diver...</td>\n",
       "      <td>having class 24 students comes diverse learner...</td>\n",
       "      <td>mobile learning mobile listening center</td>\n",
       "    </tr>\n",
       "    <tr>\n",
       "      <td>3</td>\n",
       "      <td>100660</td>\n",
       "      <td>p234804</td>\n",
       "      <td>cbc0e38f522143b86d372f8b43d4cff3</td>\n",
       "      <td>Mrs</td>\n",
       "      <td>GA</td>\n",
       "      <td>2016-04-27 00:53:00</td>\n",
       "      <td>Grades_PreK-2</td>\n",
       "      <td>Flexible Seating for Flexible Learning</td>\n",
       "      <td>I recently read an article about giving studen...</td>\n",
       "      <td>I teach at a low-income (Title 1) school. Ever...</td>\n",
       "      <td>We need a classroom rug that we can use as a c...</td>\n",
       "      <td>Benjamin Franklin once said, \\\"Tell me and I f...</td>\n",
       "      <td>My students need flexible seating in the class...</td>\n",
       "      <td>2</td>\n",
       "      <td>1</td>\n",
       "      <td>AppliedLearning</td>\n",
       "      <td>EarlyDevelopment</td>\n",
       "      <td>I recently read an article about giving studen...</td>\n",
       "      <td>i recently read article giving students choice...</td>\n",
       "      <td>flexible seating flexible learning</td>\n",
       "    </tr>\n",
       "    <tr>\n",
       "      <td>4</td>\n",
       "      <td>33679</td>\n",
       "      <td>p137682</td>\n",
       "      <td>06f6e62e17de34fcf81020c77549e1d5</td>\n",
       "      <td>Mrs</td>\n",
       "      <td>WA</td>\n",
       "      <td>2016-04-27 01:05:25</td>\n",
       "      <td>Grades_3-5</td>\n",
       "      <td>Going Deep: The Art of Inner Thinking!</td>\n",
       "      <td>My students crave challenge, they eat obstacle...</td>\n",
       "      <td>We are an urban, public k-5 elementary school....</td>\n",
       "      <td>With the new common core standards that have b...</td>\n",
       "      <td>These remarkable gifts will provide students w...</td>\n",
       "      <td>My students need copies of the New York Times ...</td>\n",
       "      <td>2</td>\n",
       "      <td>1</td>\n",
       "      <td>Literacy_Language</td>\n",
       "      <td>Literacy</td>\n",
       "      <td>My students crave challenge, they eat obstacle...</td>\n",
       "      <td>my students crave challenge eat obstacles brea...</td>\n",
       "      <td>going deep the art inner thinking</td>\n",
       "    </tr>\n",
       "  </tbody>\n",
       "</table>\n",
       "</div>"
      ],
      "text/plain": [
       "   Unnamed: 0       id                        teacher_id teacher_prefix  \\\n",
       "0        8393  p205479  2bf07ba08945e5d8b2a3f269b2b3cfe5            Mrs   \n",
       "1       37728  p043609  3f60494c61921b3b43ab61bdde2904df             Ms   \n",
       "2       74477  p189804  4a97f3a390bfe21b99cf5e2b81981c73            Mrs   \n",
       "3      100660  p234804  cbc0e38f522143b86d372f8b43d4cff3            Mrs   \n",
       "4       33679  p137682  06f6e62e17de34fcf81020c77549e1d5            Mrs   \n",
       "\n",
       "  school_state                 Date project_grade_category  \\\n",
       "0           CA  2016-04-27 00:27:36          Grades_PreK-2   \n",
       "1           UT  2016-04-27 00:31:25             Grades_3-5   \n",
       "2           CA  2016-04-27 00:46:53          Grades_PreK-2   \n",
       "3           GA  2016-04-27 00:53:00          Grades_PreK-2   \n",
       "4           WA  2016-04-27 01:05:25             Grades_3-5   \n",
       "\n",
       "                                    project_title  \\\n",
       "0    Engineering STEAM into the Primary Classroom   \n",
       "1                         Sensory Tools for Focus   \n",
       "2  Mobile Learning with a Mobile Listening Center   \n",
       "3          Flexible Seating for Flexible Learning   \n",
       "4          Going Deep: The Art of Inner Thinking!   \n",
       "\n",
       "                                     project_essay_1  \\\n",
       "0  I have been fortunate enough to use the Fairy ...   \n",
       "1  Imagine being 8-9 years old. You're in your th...   \n",
       "2  Having a class of 24 students comes with diver...   \n",
       "3  I recently read an article about giving studen...   \n",
       "4  My students crave challenge, they eat obstacle...   \n",
       "\n",
       "                                     project_essay_2  \\\n",
       "0  My students come from a variety of backgrounds...   \n",
       "1  Most of my students have autism, anxiety, anot...   \n",
       "2  I have a class of twenty-four kindergarten stu...   \n",
       "3  I teach at a low-income (Title 1) school. Ever...   \n",
       "4  We are an urban, public k-5 elementary school....   \n",
       "\n",
       "                                     project_essay_3  \\\n",
       "0  Each month I try to do several science or STEM...   \n",
       "1  It is tough to do more than one thing at a tim...   \n",
       "2  By having a mobile listening and storage cente...   \n",
       "3  We need a classroom rug that we can use as a c...   \n",
       "4  With the new common core standards that have b...   \n",
       "\n",
       "                                     project_essay_4  \\\n",
       "0  It is challenging to develop high quality scie...   \n",
       "1  When my students are able to calm themselves d...   \n",
       "2  A mobile listening center will help keep equip...   \n",
       "3  Benjamin Franklin once said, \\\"Tell me and I f...   \n",
       "4  These remarkable gifts will provide students w...   \n",
       "\n",
       "                            project_resource_summary  \\\n",
       "0  My students need STEM kits to learn critical s...   \n",
       "1  My students need Boogie Boards for quiet senso...   \n",
       "2  My students need a mobile listening center to ...   \n",
       "3  My students need flexible seating in the class...   \n",
       "4  My students need copies of the New York Times ...   \n",
       "\n",
       "   teacher_number_of_previously_posted_projects  project_is_approved  \\\n",
       "0                                            53                    1   \n",
       "1                                             4                    1   \n",
       "2                                            10                    1   \n",
       "3                                             2                    1   \n",
       "4                                             2                    1   \n",
       "\n",
       "    clean_categories                clean_sub_categories  \\\n",
       "0       Math_Science  AppliedSciences Health_LifeScience   \n",
       "1       SpecialNeeds                        SpecialNeeds   \n",
       "2  Literacy_Language                            Literacy   \n",
       "3    AppliedLearning                    EarlyDevelopment   \n",
       "4  Literacy_Language                            Literacy   \n",
       "\n",
       "                                               essay  \\\n",
       "0  I have been fortunate enough to use the Fairy ...   \n",
       "1  Imagine being 8-9 years old. You're in your th...   \n",
       "2  Having a class of 24 students comes with diver...   \n",
       "3  I recently read an article about giving studen...   \n",
       "4  My students crave challenge, they eat obstacle...   \n",
       "\n",
       "                                 preprocessed_essays  \\\n",
       "0  i fortunate enough use fairy tale stem kits cl...   \n",
       "1  imagine 8 9 years old you third grade classroo...   \n",
       "2  having class 24 students comes diverse learner...   \n",
       "3  i recently read article giving students choice...   \n",
       "4  my students crave challenge eat obstacles brea...   \n",
       "\n",
       "                       preprocessed_titles  \n",
       "0      engineering steam primary classroom  \n",
       "1                      sensory tools focus  \n",
       "2  mobile learning mobile listening center  \n",
       "3       flexible seating flexible learning  \n",
       "4        going deep the art inner thinking  "
      ]
     },
     "execution_count": 19,
     "metadata": {},
     "output_type": "execute_result"
    }
   ],
   "source": [
    "if os.path.isfile('final_data_features.csv'):\n",
    "    data_projects = pd.read_csv(\"final_data_features.csv\")\n",
    "data_projects.head()"
   ]
  },
  {
   "cell_type": "markdown",
   "metadata": {},
   "source": [
    "<h1> 3. Preparing Data for Models </h1>\n"
   ]
  },
  {
   "cell_type": "code",
   "execution_count": 20,
   "metadata": {},
   "outputs": [],
   "source": [
    "y = data_projects['project_is_approved'].values\n",
    "data_projects.drop(['project_is_approved'], axis = 1, inplace = True)\n",
    "X = data_projects"
   ]
  },
  {
   "cell_type": "code",
   "execution_count": 21,
   "metadata": {},
   "outputs": [
    {
     "data": {
      "text/html": [
       "<div>\n",
       "<style scoped>\n",
       "    .dataframe tbody tr th:only-of-type {\n",
       "        vertical-align: middle;\n",
       "    }\n",
       "\n",
       "    .dataframe tbody tr th {\n",
       "        vertical-align: top;\n",
       "    }\n",
       "\n",
       "    .dataframe thead th {\n",
       "        text-align: right;\n",
       "    }\n",
       "</style>\n",
       "<table border=\"1\" class=\"dataframe\">\n",
       "  <thead>\n",
       "    <tr style=\"text-align: right;\">\n",
       "      <th></th>\n",
       "      <th>Unnamed: 0</th>\n",
       "      <th>id</th>\n",
       "      <th>teacher_id</th>\n",
       "      <th>teacher_prefix</th>\n",
       "      <th>school_state</th>\n",
       "      <th>Date</th>\n",
       "      <th>project_grade_category</th>\n",
       "      <th>project_title</th>\n",
       "      <th>project_essay_1</th>\n",
       "      <th>project_essay_2</th>\n",
       "      <th>project_essay_3</th>\n",
       "      <th>project_essay_4</th>\n",
       "      <th>project_resource_summary</th>\n",
       "      <th>teacher_number_of_previously_posted_projects</th>\n",
       "      <th>clean_categories</th>\n",
       "      <th>clean_sub_categories</th>\n",
       "      <th>essay</th>\n",
       "      <th>preprocessed_essays</th>\n",
       "      <th>preprocessed_titles</th>\n",
       "    </tr>\n",
       "  </thead>\n",
       "  <tbody>\n",
       "    <tr>\n",
       "      <td>0</td>\n",
       "      <td>8393</td>\n",
       "      <td>p205479</td>\n",
       "      <td>2bf07ba08945e5d8b2a3f269b2b3cfe5</td>\n",
       "      <td>Mrs</td>\n",
       "      <td>CA</td>\n",
       "      <td>2016-04-27 00:27:36</td>\n",
       "      <td>Grades_PreK-2</td>\n",
       "      <td>Engineering STEAM into the Primary Classroom</td>\n",
       "      <td>I have been fortunate enough to use the Fairy ...</td>\n",
       "      <td>My students come from a variety of backgrounds...</td>\n",
       "      <td>Each month I try to do several science or STEM...</td>\n",
       "      <td>It is challenging to develop high quality scie...</td>\n",
       "      <td>My students need STEM kits to learn critical s...</td>\n",
       "      <td>53</td>\n",
       "      <td>Math_Science</td>\n",
       "      <td>AppliedSciences Health_LifeScience</td>\n",
       "      <td>I have been fortunate enough to use the Fairy ...</td>\n",
       "      <td>i fortunate enough use fairy tale stem kits cl...</td>\n",
       "      <td>engineering steam primary classroom</td>\n",
       "    </tr>\n",
       "  </tbody>\n",
       "</table>\n",
       "</div>"
      ],
      "text/plain": [
       "   Unnamed: 0       id                        teacher_id teacher_prefix  \\\n",
       "0        8393  p205479  2bf07ba08945e5d8b2a3f269b2b3cfe5            Mrs   \n",
       "\n",
       "  school_state                 Date project_grade_category  \\\n",
       "0           CA  2016-04-27 00:27:36          Grades_PreK-2   \n",
       "\n",
       "                                  project_title  \\\n",
       "0  Engineering STEAM into the Primary Classroom   \n",
       "\n",
       "                                     project_essay_1  \\\n",
       "0  I have been fortunate enough to use the Fairy ...   \n",
       "\n",
       "                                     project_essay_2  \\\n",
       "0  My students come from a variety of backgrounds...   \n",
       "\n",
       "                                     project_essay_3  \\\n",
       "0  Each month I try to do several science or STEM...   \n",
       "\n",
       "                                     project_essay_4  \\\n",
       "0  It is challenging to develop high quality scie...   \n",
       "\n",
       "                            project_resource_summary  \\\n",
       "0  My students need STEM kits to learn critical s...   \n",
       "\n",
       "   teacher_number_of_previously_posted_projects clean_categories  \\\n",
       "0                                            53     Math_Science   \n",
       "\n",
       "                 clean_sub_categories  \\\n",
       "0  AppliedSciences Health_LifeScience   \n",
       "\n",
       "                                               essay  \\\n",
       "0  I have been fortunate enough to use the Fairy ...   \n",
       "\n",
       "                                 preprocessed_essays  \\\n",
       "0  i fortunate enough use fairy tale stem kits cl...   \n",
       "\n",
       "                   preprocessed_titles  \n",
       "0  engineering steam primary classroom  "
      ]
     },
     "execution_count": 21,
     "metadata": {},
     "output_type": "execute_result"
    }
   ],
   "source": [
    "X.head(1)"
   ]
  },
  {
   "cell_type": "markdown",
   "metadata": {},
   "source": [
    "<h2><b> $3.1$ Splitting data into Train and test set</b></h2>"
   ]
  },
  {
   "cell_type": "code",
   "execution_count": 75,
   "metadata": {},
   "outputs": [],
   "source": [
    "#Since we perform hyper-parameter tuning using gridSearchCV, we need only train set and test set as cross validation set\n",
    "#is formed while performing internally in gridSearchCV(python sklearn implementation)\n",
    "#sklearn's gridSearchCV uses 5-fold cross validation as the default cross-validation strategy\n",
    "#https://scikit-learn.org/stable/modules/generated/sklearn.model_selection.GridSearchCV.html\n",
    "from sklearn.model_selection import train_test_split\n",
    "X_train, X_test, y_train, y_test = train_test_split(X, y, test_size=0.4, stratify=y)"
   ]
  },
  {
   "cell_type": "code",
   "execution_count": 76,
   "metadata": {},
   "outputs": [
    {
     "name": "stdout",
     "output_type": "stream",
     "text": [
      "Shape  of Train dataset : (65548, 19)\n",
      "******************************\n",
      "Shape  of Test dataset : (43700, 19)\n"
     ]
    }
   ],
   "source": [
    "print(\"Shape  of Train dataset :\",X_train.shape)\n",
    "print(\"***\"*10)\n",
    "print(\"Shape  of Test dataset :\",X_test.shape)"
   ]
  },
  {
   "cell_type": "markdown",
   "metadata": {},
   "source": [
    "<h2> $3.2$ One Hot Encoding of categorical features: </h2>\n"
   ]
  },
  {
   "cell_type": "code",
   "execution_count": 77,
   "metadata": {},
   "outputs": [
    {
     "data": {
      "text/plain": [
       "Index(['Unnamed: 0', 'id', 'teacher_id', 'teacher_prefix', 'school_state',\n",
       "       'Date', 'project_grade_category', 'project_title', 'project_essay_1',\n",
       "       'project_essay_2', 'project_essay_3', 'project_essay_4',\n",
       "       'project_resource_summary',\n",
       "       'teacher_number_of_previously_posted_projects', 'clean_categories',\n",
       "       'clean_sub_categories', 'essay', 'preprocessed_essays',\n",
       "       'preprocessed_titles'],\n",
       "      dtype='object')"
      ]
     },
     "execution_count": 77,
     "metadata": {},
     "output_type": "execute_result"
    }
   ],
   "source": [
    "data_projects.columns"
   ]
  },
  {
   "cell_type": "markdown",
   "metadata": {},
   "source": [
    "<h3> 3.2.2. clean_categories: </h3>"
   ]
  },
  {
   "cell_type": "code",
   "execution_count": 78,
   "metadata": {},
   "outputs": [
    {
     "name": "stdout",
     "output_type": "stream",
     "text": [
      "(65548, 9)\n",
      "(43700, 9)\n",
      "['Warmth', 'Care_Hunger', 'History_Civics', 'Music_Arts', 'AppliedLearning', 'SpecialNeeds', 'Health_Sports', 'Math_Science', 'Literacy_Language']\n"
     ]
    }
   ],
   "source": [
    "#https://scikit-learn.org/stable/modules/generated/sklearn.feature_extraction.text.CountVectorizer.html\n",
    "from sklearn.feature_extraction.text import CountVectorizer\n",
    "vec_cat = CountVectorizer(vocabulary=list(sorted_coll_dict.keys()), lowercase=False, binary=True)\n",
    "vec_cat.fit(X_train['clean_categories'].values)\n",
    "\n",
    "cat_one_hot_train = vec_cat.transform(X_train['clean_categories'].values)\n",
    "cat_one_hot_test = vec_cat.transform(X_test['clean_categories'].values)\n",
    "\n",
    "print(cat_one_hot_train.shape)\n",
    "print(cat_one_hot_test.shape)\n",
    "print(vec_cat.get_feature_names())\n"
   ]
  },
  {
   "cell_type": "markdown",
   "metadata": {},
   "source": [
    "<h3> 3.2.3 clean_sub_categories:</h3>"
   ]
  },
  {
   "cell_type": "code",
   "execution_count": 79,
   "metadata": {},
   "outputs": [
    {
     "name": "stdout",
     "output_type": "stream",
     "text": [
      "(65548, 30)\n",
      "(43700, 30)\n",
      "['Economics', 'CommunityService', 'FinancialLiteracy', 'ParentInvolvement', 'Extracurricular', 'Civics_Government', 'ForeignLanguages', 'NutritionEducation', 'Warmth', 'Care_Hunger', 'SocialSciences', 'PerformingArts', 'CharacterEducation', 'TeamSports', 'Other', 'College_CareerPrep', 'Music', 'History_Geography', 'Health_LifeScience', 'EarlyDevelopment', 'ESL', 'Gym_Fitness', 'EnvironmentalScience', 'VisualArts', 'Health_Wellness', 'AppliedSciences', 'SpecialNeeds', 'Literature_Writing', 'Mathematics', 'Literacy']\n"
     ]
    }
   ],
   "source": [
    "#https://scikit-learn.org/stable/modules/generated/sklearn.feature_extraction.text.CountVectorizer.html\n",
    "from sklearn.feature_extraction.text import CountVectorizer\n",
    "vec_sub_cat = CountVectorizer(vocabulary=list(sorted_coll_dict_sub.keys()),lowercase=False, binary=True)\n",
    "vec_sub_cat.fit(X_train['clean_categories'].values)\n",
    "\n",
    "sub_cat_one_hot_train = vec_sub_cat.transform(X_train['clean_categories'].values)\n",
    "sub_cat_one_hot_test = vec_sub_cat.transform(X_test['clean_categories'].values)\n",
    "\n",
    "print(sub_cat_one_hot_train.shape)\n",
    "print(sub_cat_one_hot_test.shape)\n",
    "print(vec_sub_cat.get_feature_names())\n"
   ]
  },
  {
   "cell_type": "markdown",
   "metadata": {},
   "source": [
    "<h3> 3.2.4. school_state </h3>"
   ]
  },
  {
   "cell_type": "code",
   "execution_count": 80,
   "metadata": {},
   "outputs": [],
   "source": [
    "state = Counter()\n",
    "for st in data_projects['school_state'].values:\n",
    "    state.update(st.split())\n",
    "dict_state = dict(state)\n",
    "sorted_state_dict = dict(sorted(state.items(), key=lambda x: x[1]))"
   ]
  },
  {
   "cell_type": "code",
   "execution_count": 81,
   "metadata": {},
   "outputs": [
    {
     "name": "stdout",
     "output_type": "stream",
     "text": [
      "Shape of Train data - one hot encoding (65548, 51)\n",
      "Shape of Test data - one hot encoding (43700, 51)\n",
      "['VT', 'WY', 'ND', 'MT', 'RI', 'SD', 'NE', 'DE', 'AK', 'NH', 'WV', 'ME', 'HI', 'DC', 'NM', 'KS', 'IA', 'ID', 'AR', 'CO', 'MN', 'OR', 'KY', 'MS', 'NV', 'MD', 'CT', 'TN', 'UT', 'AL', 'WI', 'VA', 'AZ', 'NJ', 'OK', 'WA', 'MA', 'LA', 'OH', 'MO', 'IN', 'PA', 'MI', 'SC', 'GA', 'IL', 'NC', 'FL', 'NY', 'TX', 'CA']\n"
     ]
    }
   ],
   "source": [
    "vec_state = CountVectorizer(vocabulary=list(sorted_state_dict.keys()), lowercase=False, binary=True)\n",
    "vec_state.fit(X_train['school_state'].values)\n",
    "\n",
    "school_state_one_hot_train = vec_state.transform(X_train['school_state'].values)\n",
    "school_state_one_hot_test = vec_state.transform(X_test['school_state'].values)\n",
    "\n",
    "print(\"Shape of Train data - one hot encoding\",school_state_one_hot_train.shape)\n",
    "print(\"Shape of Test data - one hot encoding\",school_state_one_hot_test.shape)\n",
    "print(vec_state.get_feature_names())"
   ]
  },
  {
   "cell_type": "markdown",
   "metadata": {},
   "source": [
    "<h3> 3.2.5. PROJECT GRADE CATEGORIES: </h3>"
   ]
  },
  {
   "cell_type": "code",
   "execution_count": 82,
   "metadata": {},
   "outputs": [],
   "source": [
    "grade = Counter()\n",
    "for gd in data_projects['project_grade_category'].values:\n",
    "    grade.update(gd.split())\n",
    "dict_grade = dict(grade)\n",
    "sorted_grade_dict = dict(sorted(dict_grade.items(), key=lambda x: x[1]))"
   ]
  },
  {
   "cell_type": "code",
   "execution_count": 83,
   "metadata": {},
   "outputs": [
    {
     "name": "stdout",
     "output_type": "stream",
     "text": [
      "Shape of Train data - one hot encoding (65548, 4)\n",
      "Shape of Test data - one hot encoding (43700, 4)\n",
      "['Grades_9-12', 'Grades_6-8', 'Grades_3-5', 'Grades_PreK-2']\n"
     ]
    }
   ],
   "source": [
    "vec_grade = CountVectorizer(vocabulary=list(sorted_grade_dict.keys()), lowercase=False, binary=True)\n",
    "vec_grade.fit(X_train['project_grade_category'].values)\n",
    "\n",
    "grade_one_hot_train = vec_grade.transform(X_train['school_state'].values)\n",
    "grade_one_hot_test = vec_grade.transform(X_test['school_state'].values)\n",
    "\n",
    "print(\"Shape of Train data - one hot encoding\",grade_one_hot_train.shape)\n",
    "print(\"Shape of Test data - one hot encoding\",grade_one_hot_test.shape)\n",
    "print(vec_grade.get_feature_names())"
   ]
  },
  {
   "cell_type": "markdown",
   "metadata": {},
   "source": [
    "<h3> 3.2.6. teacher_prefix </h3>"
   ]
  },
  {
   "cell_type": "code",
   "execution_count": 84,
   "metadata": {},
   "outputs": [],
   "source": [
    "prefix = Counter()\n",
    "for tp in data_projects['teacher_prefix'].values:\n",
    "    tp = str(tp)\n",
    "    prefix.update(tp.split())\n",
    "\n",
    "dict_prefix = dict(prefix)\n",
    "sorted_teacher_prefix_dict = dict(sorted(dict_prefix.items(), key=lambda x: x[1]))"
   ]
  },
  {
   "cell_type": "code",
   "execution_count": 85,
   "metadata": {},
   "outputs": [
    {
     "name": "stdout",
     "output_type": "stream",
     "text": [
      "Shape of Train data - one hot encoding (65548, 6)\n",
      "Shape of Test data - one hot encoding  (43700, 6)\n",
      "['nan', 'Dr', 'Teacher', 'Mr', 'Ms', 'Mrs']\n"
     ]
    }
   ],
   "source": [
    "vec_teacher_pre = CountVectorizer(vocabulary=list(sorted_teacher_prefix_dict.keys()), lowercase=False, binary=True)\n",
    "vec_teacher_pre.fit(X_train['teacher_prefix'].values.astype(\"U\"))\n",
    "\n",
    "teacher_prefix_one_hot_train = vec_teacher_pre.transform(X_train['teacher_prefix'].values.astype(\"U\"))\n",
    "teacher_prefix_one_hot_test = vec_teacher_pre.transform(X_test['teacher_prefix'].values.astype(\"U\"))\n",
    "\n",
    "print(\"Shape of Train data - one hot encoding\",teacher_prefix_one_hot_train.shape)\n",
    "print(\"Shape of Test data - one hot encoding \",teacher_prefix_one_hot_test.shape)\n",
    "print(vec_teacher_pre.get_feature_names())"
   ]
  },
  {
   "cell_type": "markdown",
   "metadata": {},
   "source": [
    "<h2> $3.3.$ Vectorizing Text Data</h2>"
   ]
  },
  {
   "cell_type": "markdown",
   "metadata": {},
   "source": [
    "<h2> 3.3.1 Bag of Words:</h2>"
   ]
  },
  {
   "cell_type": "markdown",
   "metadata": {},
   "source": [
    "<h3> 3.3.1.1 Essays:</h3>"
   ]
  },
  {
   "cell_type": "code",
   "execution_count": 86,
   "metadata": {},
   "outputs": [
    {
     "name": "stdout",
     "output_type": "stream",
     "text": [
      "(65548, 5000)\n",
      "(43700, 5000)\n"
     ]
    }
   ],
   "source": [
    "#words which appeared in at least 10 documents(rows or projects).\n",
    "#https://stackoverflow.com/questions/27697766/understanding-min-df-and-max-df-in-scikit-countvectorizer/35615151\n",
    "vec_essay = CountVectorizer(ngram_range=(2,2), max_features=5000, min_df=10)\n",
    "vec_essay.fit(X_train[\"preprocessed_essays\"])\n",
    "\n",
    "train_essay_bow = vec_essay.transform(X_train[\"preprocessed_essays\"])\n",
    "test_essay_bow = vec_essay.transform(X_test[\"preprocessed_essays\"])\n",
    "\n",
    "print(train_essay_bow.shape)\n",
    "print(test_essay_bow.shape)"
   ]
  },
  {
   "cell_type": "markdown",
   "metadata": {},
   "source": [
    "<h3> 3.3.1.2 Project Titles</h3>"
   ]
  },
  {
   "cell_type": "code",
   "execution_count": 87,
   "metadata": {},
   "outputs": [
    {
     "name": "stdout",
     "output_type": "stream",
     "text": [
      "(65548, 13331)\n",
      "(43700, 13331)\n"
     ]
    }
   ],
   "source": [
    "vec_title = CountVectorizer()\n",
    "vec_title.fit(X_train[\"preprocessed_titles\"])\n",
    "\n",
    "train_title_bow = vec_title.transform(X_train[\"preprocessed_titles\"])\n",
    "test_title_bow = vec_title.transform(X_test[\"preprocessed_titles\"])\n",
    "\n",
    "print(train_title_bow.shape)\n",
    "print(test_title_bow.shape)"
   ]
  },
  {
   "cell_type": "markdown",
   "metadata": {},
   "source": [
    "<h2> 3.4. TF-IDF Vectorizer </h2>"
   ]
  },
  {
   "cell_type": "markdown",
   "metadata": {},
   "source": [
    "<h3> 3.4.1 Essay: </h3>"
   ]
  },
  {
   "cell_type": "code",
   "execution_count": 88,
   "metadata": {},
   "outputs": [
    {
     "name": "stdout",
     "output_type": "stream",
     "text": [
      "(65548, 5000)\n",
      "(43700, 5000)\n"
     ]
    }
   ],
   "source": [
    "#https://scikit-learn.org/stable/modules/generated/sklearn.feature_extraction.text.TfidfVectorizer.html\n",
    "from sklearn.feature_extraction.text import TfidfVectorizer\n",
    "vec_essay_tfidf = TfidfVectorizer(ngram_range=(2,2), max_features=5000, min_df=10)\n",
    "vec_essay_tfidf.fit(X_train[\"preprocessed_essays\"])\n",
    "\n",
    "train_essay_tfidf = vec_essay_tfidf.transform(X_train[\"preprocessed_essays\"])\n",
    "test_essay_tfidf = vec_essay_tfidf.transform(X_test[\"preprocessed_essays\"])\n",
    "\n",
    "print(train_essay_tfidf.shape)\n",
    "print(test_essay_tfidf.shape)"
   ]
  },
  {
   "cell_type": "markdown",
   "metadata": {},
   "source": [
    "<h3> 3.4.2 Titles: </h3>"
   ]
  },
  {
   "cell_type": "code",
   "execution_count": 89,
   "metadata": {},
   "outputs": [
    {
     "name": "stdout",
     "output_type": "stream",
     "text": [
      "(65548, 13331)\n",
      "(43700, 13331)\n"
     ]
    }
   ],
   "source": [
    "vec_title_tfidf = TfidfVectorizer()\n",
    "vec_title_tfidf.fit(X_train[\"preprocessed_titles\"])\n",
    "\n",
    "train_title_tfidf = vec_title_tfidf.transform(X_train[\"preprocessed_titles\"])\n",
    "test_title_tfidf = vec_title_tfidf.transform(X_test[\"preprocessed_titles\"])\n",
    "\n",
    "print(train_title_tfidf.shape)\n",
    "print(test_title_tfidf.shape)"
   ]
  },
  {
   "cell_type": "markdown",
   "metadata": {},
   "source": [
    "<h2> $3.7.$ Vectorizing Numerical Data </h2>\n",
    "PRICE , QUANTITY , Number of Projects Proposed Previously by the Teacher"
   ]
  },
  {
   "cell_type": "markdown",
   "metadata": {},
   "source": [
    "<h3> 3.7.1 Price </h3>"
   ]
  },
  {
   "cell_type": "code",
   "execution_count": 90,
   "metadata": {},
   "outputs": [
    {
     "data": {
      "text/html": [
       "<div>\n",
       "<style scoped>\n",
       "    .dataframe tbody tr th:only-of-type {\n",
       "        vertical-align: middle;\n",
       "    }\n",
       "\n",
       "    .dataframe tbody tr th {\n",
       "        vertical-align: top;\n",
       "    }\n",
       "\n",
       "    .dataframe thead th {\n",
       "        text-align: right;\n",
       "    }\n",
       "</style>\n",
       "<table border=\"1\" class=\"dataframe\">\n",
       "  <thead>\n",
       "    <tr style=\"text-align: right;\">\n",
       "      <th></th>\n",
       "      <th>id</th>\n",
       "      <th>price</th>\n",
       "      <th>quantity</th>\n",
       "    </tr>\n",
       "  </thead>\n",
       "  <tbody>\n",
       "    <tr>\n",
       "      <td>0</td>\n",
       "      <td>p000001</td>\n",
       "      <td>459.56</td>\n",
       "      <td>7</td>\n",
       "    </tr>\n",
       "    <tr>\n",
       "      <td>1</td>\n",
       "      <td>p000002</td>\n",
       "      <td>515.89</td>\n",
       "      <td>21</td>\n",
       "    </tr>\n",
       "    <tr>\n",
       "      <td>2</td>\n",
       "      <td>p000003</td>\n",
       "      <td>298.97</td>\n",
       "      <td>4</td>\n",
       "    </tr>\n",
       "  </tbody>\n",
       "</table>\n",
       "</div>"
      ],
      "text/plain": [
       "        id   price  quantity\n",
       "0  p000001  459.56         7\n",
       "1  p000002  515.89        21\n",
       "2  p000003  298.97         4"
      ]
     },
     "execution_count": 90,
     "metadata": {},
     "output_type": "execute_result"
    }
   ],
   "source": [
    "price_data = data_resources.groupby('id').agg({'price':'sum', 'quantity':'sum'}).reset_index()\n",
    "price_data.head(3)"
   ]
  },
  {
   "cell_type": "code",
   "execution_count": 91,
   "metadata": {},
   "outputs": [],
   "source": [
    "X_train = pd.merge(X_train, price_data, on='id', how='left')\n",
    "X_test = pd.merge(X_test, price_data, on='id', how='left')"
   ]
  },
  {
   "cell_type": "code",
   "execution_count": 92,
   "metadata": {},
   "outputs": [
    {
     "name": "stdout",
     "output_type": "stream",
     "text": [
      "(65548, 1) and (65548,)\n",
      "(43700, 1) and (43700,)\n"
     ]
    }
   ],
   "source": [
    "# from sklearn.preprocessing import StandardScaler\n",
    "from sklearn.preprocessing import Normalizer\n",
    "price_normalizer = Normalizer()\n",
    "\n",
    "# price_numerical = StandardScaler()\n",
    "price_normalizer.fit(X_train['price'].values.reshape(-1,1))\n",
    "\n",
    "standardized_price_train = price_normalizer.transform(X_train['price'].values.reshape(-1,1))\n",
    "standardized_price_test = price_normalizer.transform(X_test['price'].values.reshape(-1,1))\n",
    "\n",
    "print(standardized_price_train.shape,\"and\",y_train.shape)\n",
    "print(standardized_price_test.shape,\"and\",y_test.shape)"
   ]
  },
  {
   "cell_type": "markdown",
   "metadata": {},
   "source": [
    "<h3> 3.7.2 Quantity </h3>"
   ]
  },
  {
   "cell_type": "code",
   "execution_count": 93,
   "metadata": {},
   "outputs": [
    {
     "name": "stdout",
     "output_type": "stream",
     "text": [
      "(65548, 1) and (65548,)\n",
      "(43700, 1) and (43700,)\n"
     ]
    }
   ],
   "source": [
    "from sklearn.preprocessing import Normalizer\n",
    "quantity_normalizer = Normalizer()\n",
    "\n",
    "# quantity_numerical = StandardScaler()\n",
    "quantity_normalizer.fit(X_train['quantity'].values.reshape(-1,1)) \n",
    "\n",
    "standardized_quantity_train = quantity_normalizer.transform(X_train['quantity'].values.reshape(-1,1))\n",
    "standardized_quantity_test = quantity_normalizer.transform(X_test['quantity'].values.reshape(-1,1))\n",
    "\n",
    "print(standardized_quantity_train.shape,\"and\",y_train.shape)\n",
    "print(standardized_quantity_test.shape,\"and\",y_test.shape)"
   ]
  },
  {
   "cell_type": "markdown",
   "metadata": {},
   "source": [
    "<h3> 3.7.3 Number of previously posted projects by teachers </h3>"
   ]
  },
  {
   "cell_type": "code",
   "execution_count": 94,
   "metadata": {},
   "outputs": [
    {
     "name": "stdout",
     "output_type": "stream",
     "text": [
      "(65548, 1) and (65548,)\n",
      "(43700, 1) and (43700,)\n"
     ]
    }
   ],
   "source": [
    "from sklearn.preprocessing import Normalizer\n",
    "teacher_proj_no_normalizer = Normalizer()\n",
    "\n",
    "# teacher_no_previous_project_numerical = StandardScaler()\n",
    "teacher_proj_no_normalizer.fit(X_train['teacher_number_of_previously_posted_projects'].values.reshape(-1,1)) \n",
    "\n",
    "standardized_teacher_no_train = teacher_proj_no_normalizer.transform(X_train['teacher_number_of_previously_posted_projects'].values.reshape(-1,1))\n",
    "standardized_teacher_no_test = teacher_proj_no_normalizer.transform(X_test['teacher_number_of_previously_posted_projects'].values.reshape(-1,1))\n",
    "\n",
    "print(standardized_teacher_no_train.shape,\"and\",y_train.shape)\n",
    "print(standardized_teacher_no_test.shape,\"and\",y_test.shape)"
   ]
  },
  {
   "cell_type": "markdown",
   "metadata": {},
   "source": [
    "<b>[Task-1] <li><strong>Apply Multinomial NaiveBayes on these feature sets</strong>\n",
    "        <ul>\n",
    "            <li><font color='red'>Set 1</font>: categorical, numerical features + project_title(BOW) + preprocessed_eassay (BOW)</li>\n",
    "            <li><font color='red'>Set 2</font>: categorical, numerical features + project_title(TFIDF)+  preprocessed_eassay (TFIDF)</li>\n",
    "        </ul>\n",
    "    </li><b>\n",
    "    \n",
    "    "
   ]
  },
  {
   "cell_type": "code",
   "execution_count": 95,
   "metadata": {},
   "outputs": [],
   "source": [
    "#Getting feature names from count vectors(BOW and TFIDF) for feature importance \n",
    "feature_names_bow = []\n",
    "feature_names_tfidf = []\n",
    "\n",
    "for x in vec_cat.get_feature_names() :\n",
    "    feature_names_bow.append(x)\n",
    "for x1 in vec_sub_cat.get_feature_names() :\n",
    "    feature_names_bow.append(x1)\n",
    "for x2 in vec_state.get_feature_names() :\n",
    "    feature_names_bow.append(x2)\n",
    "for x3 in vec_grade.get_feature_names() :\n",
    "    feature_names_bow.append(x3)\n",
    "for x4 in vec_teacher_pre.get_feature_names() :\n",
    "    feature_names_bow.append(x4)    \n",
    "feature_names_bow.append(\"price\")\n",
    "feature_names_bow.append(\"quantity\")\n",
    "feature_names_bow.append(\"prev_proposed_projects\")\n",
    "feature_names_bow.append(\"title_word_count\")\n",
    "feature_names_bow.append(\"essay_word_count\")\n",
    "for x5 in vec_essay.get_feature_names() :\n",
    "    feature_names_bow.append(x5)\n",
    "for x6 in vec_title.get_feature_names() :\n",
    "    feature_names_bow.append(x6)    \n",
    "    \n",
    "for x in vec_cat.get_feature_names() :\n",
    "    feature_names_tfidf.append(x)\n",
    "for x1 in vec_sub_cat.get_feature_names() :\n",
    "    feature_names_tfidf.append(x1)\n",
    "for x2 in vec_state.get_feature_names() :\n",
    "    feature_names_tfidf.append(x2)\n",
    "for x3 in vec_grade.get_feature_names() :\n",
    "    feature_names_tfidf.append(x3)\n",
    "for x4 in vec_teacher_pre.get_feature_names() :\n",
    "    feature_names_tfidf.append(x4)   \n",
    "feature_names_tfidf.append(\"price\")\n",
    "feature_names_tfidf.append(\"quantity\")\n",
    "feature_names_tfidf.append(\"prev_proposed_projects\")\n",
    "feature_names_tfidf.append(\"title_word_count\")\n",
    "feature_names_tfidf.append(\"essay_word_count\")\n",
    "for x5 in vec_essay_tfidf.get_feature_names() :\n",
    "    feature_names_tfidf.append(x5)\n",
    "for x6 in vec_title_tfidf.get_feature_names() :\n",
    "    feature_names_tfidf.append(x6) "
   ]
  },
  {
   "cell_type": "code",
   "execution_count": 96,
   "metadata": {},
   "outputs": [],
   "source": [
    "#Functions required for all further tasks.\n",
    "#REFERENCES:\n",
    "#https://scikit-learn.org/stable/modules/generated/sklearn.model_selection.GridSearchCV.html\n",
    "#https://datascience.stackexchange.com/questions/22762/understanding-predict-proba-from-multioutputclassifier/22821#22821\n",
    "#CONFUSION MATRIX: https://stackoverflow.com/questions/19233771/sklearn-plot-confusion-matrix-with-labels/48018785\n",
    "#https://www.codespeedy.com/how-to-plot-roc-curve-using-sklearn-library-in-python/\n",
    "#https://seaborn.pydata.org/generated/seaborn.heatmap.html\n",
    "#Multinomial Naive base function : http://scikit-learn.org/stable/modules/generated/sklearn.naive_bayes.MultinomialNB.html\n",
    "#https://stats.stackexchange.com/a/425474 #feature importance\n",
    "# sklearn.naive_bayes.MultinomialNB(alpha=1.0, fit_prior=True, class_prior=None)\n",
    "# Top features : https://stackoverflow.com/a/50530697/12066749\n",
    "from sklearn.naive_bayes import MultinomialNB\n",
    "   \n",
    "def prob_scores(clf,data):\n",
    "    y_pred = []\n",
    "    loop = data.shape[0] - data.shape[0]%1000\n",
    "    for i in range(0,loop,1000):\n",
    "        y_pred.extend(clf.predict_proba(data[i:i+1000])[:,1])\n",
    "    y_pred.extend(clf.predict_proba(data[loop:])[:,1])\n",
    "    return y_pred\n",
    "\n",
    "def getAUC(X, y):\n",
    "    auc_train = []\n",
    "    auc_cv = []\n",
    "    Cs = [0.000001,0.00001,0.0001,0.001,0.01,0.1,1,10]\n",
    "    parameters = [{'alpha': Cs}]\n",
    "    lro = MultinomialNB(alpha = [0.000001,0.00001,0.0001,0.001,0.01,0.1,1,10],class_prior=[0.5,0.5])\n",
    "    clf = GridSearchCV(lro, parameters, cv=5, scoring='roc_auc',return_train_score=True)\n",
    "    clf.fit(X, y)\n",
    "    auc_train = clf.cv_results_['mean_train_score']\n",
    "    auc_train_std = clf.cv_results_['std_train_score']\n",
    "    auc_cv = clf.cv_results_['mean_test_score'] \n",
    "    auc_cv_std= clf.cv_results_['std_test_score']\n",
    "    return Cs , auc_train, auc_cv\n",
    "\n",
    "def plotPerformance(C, auc_train, auc_cv, encoding):\n",
    "    plt.plot(C, auc_train, label='AUC_Train')\n",
    "    plt.plot(C, auc_cv, label='AUC_Validation')\n",
    "    plt.scatter(C, auc_train, label='train points')\n",
    "    plt.scatter(C, auc_cv, label='test points')\n",
    "    plt.xlabel('Hyperparameter - C')\n",
    "    plt.ylabel('AUC')\n",
    "    plt.title(\"AUC on various Cs using {} on text features\".format(encoding))\n",
    "    plt.legend()\n",
    "    \n",
    "def getOptimal_C(C,cv_score):\n",
    "    score_cv = [i for i in cv_score]\n",
    "    opt_cv = C[score_cv.index(max(score_cv))] #https://www.programiz.com/python-programming/methods/list/index\n",
    "    return opt_cv\n",
    "\n",
    "def get_top_features(optimal_C,clf,X,y,encoding,data_length,class_label):\n",
    "    clf.fit(X, y)\n",
    "    if (encoding == \"BOW\" and class_label == \"POSITIVE\"):\n",
    "        prob_positive_class_sort = clf.feature_log_prob_[1, :].argsort()[::-1][:data_length]\n",
    "        j = 0;\n",
    "        print(\"Top 10 features of positive class for BOW encoding :\")\n",
    "        for i in prob_positive_class_sort[:10]:\n",
    "            j += 1\n",
    "            print(\"Top {} feature of positive class : {}\".format(j,feature_names_bow[i]))\n",
    "            \n",
    "    elif (encoding == \"BOW\" and class_label == \"NEGATIVE\"):\n",
    "        prob_negative_class_sort = clf.feature_log_prob_[0, :].argsort()[::-1][:data_length]\n",
    "        j = 0;\n",
    "        print(\"Top 10 features of negative class for BOW encoding :\")\n",
    "        for i in prob_negative_class_sort[:10]:\n",
    "            j += 1;\n",
    "            print(\"Top {} feature of negative class: {}\".format(j,feature_names_bow[i]))\n",
    "    \n",
    "    elif (encoding == \"TFIDF\" and class_label == \"POSITIVE\"):\n",
    "        prob_positive_class_sort = clf.feature_log_prob_[1, :].argsort()[::-1][:data_length]\n",
    "        j = 0;\n",
    "        print(\"Top 10 features of positive class for Tfidf encoding :\")\n",
    "        for i in prob_positive_class_sort[:10]:\n",
    "            j += 1;\n",
    "            print(\"Top {} feature of negative class: {}\".format(j,feature_names_tfidf[i]))\n",
    "            \n",
    "    elif (encoding == \"TFIDF\" and class_label == \"NEGATIVE\"):\n",
    "        prob_negative_class_sort = clf.feature_log_prob_[0, :].argsort()[::-1][:data_length]\n",
    "        j = 0;\n",
    "        print(\"Top 10 features of negative class for Tfidf encoding :\")\n",
    "        for i in prob_negative_class_sort[:10]:\n",
    "            j += 1;\n",
    "            print(\"Top {} feature of negative class: {}\".format(j,feature_names_tfidf[i]))\n",
    "    \n",
    "def train_using_optimal_c(optimal_c, X_te, y_te):\n",
    "    lro = LogisticRegression(C = optimal_c)\n",
    "    lro.fit(X_te, y_te)\n",
    "    return lro\n",
    "\n",
    "def getROCData(data_pnt_test, y_test, data_pnts_train, y_train, lro):\n",
    "    predicted_y_test = prob_scores(lro,data_pnt_test)\n",
    "    predicted_y_train = prob_scores(lro,data_pnts_train)\n",
    "    fpr_test, tpr_test, thres_test = roc_curve(y_test, predicted_y_test)\n",
    "    fpr_tr, tpr_tr, thres_tr = roc_curve(y_train, predicted_y_train)\n",
    "    return [fpr_test, tpr_test, thres_test], [fpr_tr, tpr_tr, thres_tr], predicted_y_test , predicted_y_train\n",
    "        \n",
    "def plotROC(fpr_test,fpr_tr, tpr_test,tpr_tr,encoding):\n",
    "    plt.plot(fpr_tr, tpr_tr, label='AUC_Train')\n",
    "    plt.plot(fpr_test, tpr_test, label='AUC_Test')\n",
    "    plt.title(\"ROC Curve using {} on text features\".format(encoding))\n",
    "    plt.xlabel('FPR')\n",
    "    plt.ylabel('TPR')\n",
    "    plt.legend()\n",
    "\n",
    "def predicted_Values( prob_values, thresholds , tpr , fpr):\n",
    "    threshold_optimal = thresholds[np.argmax(tpr*(1-fpr))] \n",
    "    # threshold for max value of tpr*(1-fpr)\n",
    "    # (tpr*(1-fpr)) will be maximum if your fpr is very low and tpr is very high\n",
    "    print(\"Maximum value of tpr*(1-fpr)\", max(tpr*(1-fpr)), \"for optimal threshold\", threshold_optimal)\n",
    "    predicted_value_list = []\n",
    "    for item in prob_values:\n",
    "        if item >= threshold_optimal:\n",
    "            predicted_value_list.append(1)# we are assigning a class value of 1 if the probability score given by  classifier  \n",
    "            #is greater than the optimal threshold else 0.\n",
    "        else:\n",
    "            predicted_value_list.append(0)\n",
    "    return predicted_value_list\n",
    "\n",
    "def getConfusionMatrix(y_ , y_pred , thresholds , tpr, fpr,title ):\n",
    "    #fmt='g': https://stackoverflow.com/questions/29647749/seaborn-showing-scientific-notation-in-heatmap-for-3-digit-numbers\n",
    "    cm = confusion_matrix(y_, predicted_Values(y_pred, thresholds, tpr, fpr))\n",
    "    cm_ = pd.DataFrame(cm, range(2),range(2))\n",
    "    sns.set(font_scale=1.4)\n",
    "    sns.heatmap(cm_, annot=True,annot_kws={\"size\": 16}, fmt='g')\n",
    "    plt.xlabel(\"Predicted classes\")\n",
    "    plt.ylabel(\"Actual classes\")\n",
    "    plt.title('Confusion Matrix using {} on text features'.format(title))\n"
   ]
  },
  {
   "cell_type": "markdown",
   "metadata": {},
   "source": [
    "<span>Set 1: categorical, numerical features + project_title(BOW) + preprocessed_essay (BOW with bi-grams with min_df=10 and max_features=5000)</span>"
   ]
  },
  {
   "cell_type": "markdown",
   "metadata": {},
   "source": [
    "* ### $2.4.1$ Applying Logistic Regression on BOW,<font color='yellow'> SET $1$</font>"
   ]
  },
  {
   "cell_type": "code",
   "execution_count": 97,
   "metadata": {},
   "outputs": [
    {
     "name": "stdout",
     "output_type": "stream",
     "text": [
      "FINAL DATA MATRIX FOR BOW\n",
      "(65548, 18434) (65548,)\n",
      "(43700, 18434) (43700,)\n"
     ]
    }
   ],
   "source": [
    "# merge two sparse matrices: https://stackoverflow.com/a/19710648/4084039\n",
    "from scipy.sparse import hstack\n",
    "\n",
    "X_train_merged = hstack((cat_one_hot_train, sub_cat_one_hot_train, school_state_one_hot_train, grade_one_hot_train, teacher_prefix_one_hot_train, standardized_price_train, standardized_quantity_train, standardized_teacher_no_train,train_title_bow, train_essay_bow)).tocsr()\n",
    "X_test_merged = hstack((cat_one_hot_test, sub_cat_one_hot_test, school_state_one_hot_test, grade_one_hot_test, teacher_prefix_one_hot_test, standardized_price_test, standardized_quantity_test, standardized_teacher_no_test,test_title_bow, test_essay_bow)).tocsr()\n",
    "\n",
    "\n",
    "print(\"FINAL DATA MATRIX FOR BOW\")\n",
    "print(X_train_merged.shape, y_train.shape)\n",
    "print(X_test_merged.shape, y_test.shape)\n"
   ]
  },
  {
   "cell_type": "code",
   "execution_count": 98,
   "metadata": {},
   "outputs": [
    {
     "name": "stdout",
     "output_type": "stream",
     "text": [
      "0.1\n"
     ]
    },
    {
     "data": {
      "image/png": "[encoded data removed]",
      "text/plain": [
       "<Figure size 432x288 with 1 Axes>"
      ]
     },
     "metadata": {},
     "output_type": "display_data"
    }
   ],
   "source": [
    "title1 = 'BOW'\n",
    "\n",
    "C1, auc_tr1, auc_cv1 = getAUC(X_train_merged, y_train)\n",
    "plotPerformance(C1, auc_tr1, auc_cv1, title1)\n",
    "optimal_C1 = getOptimal_C(C1,auc_cv1)\n",
    "print(optimal_C1)\n",
    "lro1 = train_using_optimal_c(optimal_C1, X_test_merged, y_test)\n",
    "roc_data_test1, roc_data_train1 , pred_y_test ,pred_y_train = getROCData(X_test_merged, y_test, X_train_merged, y_train, lro1)"
   ]
  },
  {
   "cell_type": "code",
   "execution_count": 99,
   "metadata": {},
   "outputs": [
    {
     "name": "stdout",
     "output_type": "stream",
     "text": [
      "Top 10 features of positive class for BOW encoding :\n",
      "Top 1 feature of positive class : soooo\n",
      "Top 2 feature of positive class : price\n",
      "Top 3 feature of positive class : quantity\n",
      "Top 4 feature of positive class : prev_proposed_projects\n",
      "Top 5 feature of positive class : Mrs\n",
      "Top 6 feature of positive class : Literacy_Language\n",
      "Top 7 feature of positive class : Math_Science\n",
      "Top 8 feature of positive class : Ms\n",
      "Top 9 feature of positive class : sld\n",
      "Top 10 feature of positive class : todos\n"
     ]
    }
   ],
   "source": [
    "clf =  MultinomialNB(alpha = optimal_C1,class_prior=[0.5,0.5])\n",
    "get_top_features(optimal_C1,clf,X_train_merged,y_train,\"BOW\",X_train_merged.shape[0],\"POSITIVE\")"
   ]
  },
  {
   "cell_type": "code",
   "execution_count": 100,
   "metadata": {},
   "outputs": [
    {
     "name": "stdout",
     "output_type": "stream",
     "text": [
      "Top 10 features of negative class for BOW encoding :\n",
      "Top 1 feature of negative class: soooo\n",
      "Top 2 feature of negative class: quantity\n",
      "Top 3 feature of negative class: price\n",
      "Top 4 feature of negative class: prev_proposed_projects\n",
      "Top 5 feature of negative class: Mrs\n",
      "Top 6 feature of negative class: Literacy_Language\n",
      "Top 7 feature of negative class: Math_Science\n",
      "Top 8 feature of negative class: Ms\n",
      "Top 9 feature of negative class: sld\n",
      "Top 10 feature of negative class: todos\n"
     ]
    }
   ],
   "source": [
    "clf =  MultinomialNB(alpha = optimal_C1,class_prior=[0.5,0.5])\n",
    "get_top_features(optimal_C1,clf,X_train_merged,y_train,\"BOW\",X_train_merged.shape[0],\"NEGATIVE\")"
   ]
  },
  {
   "cell_type": "code",
   "execution_count": 101,
   "metadata": {},
   "outputs": [
    {
     "name": "stdout",
     "output_type": "stream",
     "text": [
      "The auc score for train data : 0.6580511341850641 and test auc score : 0.8499784624316135\n"
     ]
    },
    {
     "data": {
      "image/png": "[encoded data removed]",
      "text/plain": [
       "<Figure size 432x288 with 1 Axes>"
      ]
     },
     "metadata": {},
     "output_type": "display_data"
    }
   ],
   "source": [
    "print(\"The auc score for train data :\",auc(roc_data_train1[0],roc_data_train1[1]), \"and test auc score :\",auc(roc_data_test1[0],roc_data_test1[1]))\n",
    "plotROC(roc_data_test1[0], roc_data_train1[0],roc_data_test1[1], roc_data_train1[1], title1)"
   ]
  },
  {
   "cell_type": "code",
   "execution_count": 102,
   "metadata": {},
   "outputs": [
    {
     "name": "stdout",
     "output_type": "stream",
     "text": [
      "Maximum value of tpr*(1-fpr) 0.37544683122447536 for optimal threshold 0.872366418925688\n"
     ]
    },
    {
     "data": {
      "image/png": "[encoded data removed]",
      "text/plain": [
       "<Figure size 432x288 with 2 Axes>"
      ]
     },
     "metadata": {},
     "output_type": "display_data"
    }
   ],
   "source": [
    "getConfusionMatrix(y_train,pred_y_train,roc_data_train1[2],roc_data_train1[1],roc_data_train1[0], title1)"
   ]
  },
  {
   "cell_type": "code",
   "execution_count": 103,
   "metadata": {},
   "outputs": [
    {
     "name": "stdout",
     "output_type": "stream",
     "text": [
      "Maximum value of tpr*(1-fpr) 0.5924925094510531 for optimal threshold 0.8258022368276341\n"
     ]
    },
    {
     "data": {
      "image/png": "[encoded data removed]",
      "text/plain": [
       "<Figure size 432x288 with 2 Axes>"
      ]
     },
     "metadata": {},
     "output_type": "display_data"
    }
   ],
   "source": [
    "getConfusionMatrix(y_test,pred_y_test,roc_data_test1[2],roc_data_test1[1],roc_data_test1[0], title1)"
   ]
  },
  {
   "cell_type": "markdown",
   "metadata": {},
   "source": [
    "* ### $2.4.1$ Applying Logistic Regression on TFIDF encoding,<font color='yellow'> SET $2$</font>"
   ]
  },
  {
   "cell_type": "code",
   "execution_count": 104,
   "metadata": {},
   "outputs": [
    {
     "name": "stdout",
     "output_type": "stream",
     "text": [
      "FINAL DATA MATRIX FOR TFIDF\n",
      "(65548, 18434) (65548,)\n",
      "(43700, 18434) (43700,)\n"
     ]
    }
   ],
   "source": [
    "# merge two sparse matrices: https://stackoverflow.com/a/19710648/4084039\n",
    "from scipy.sparse import hstack\n",
    "\n",
    "X_train_merged_tfidf = hstack((cat_one_hot_train, sub_cat_one_hot_train, school_state_one_hot_train, grade_one_hot_train, teacher_prefix_one_hot_train, standardized_price_train, standardized_quantity_train, standardized_teacher_no_train, train_title_tfidf, train_essay_tfidf)).tocsr()\n",
    "X_test_merged_tfidf = hstack((cat_one_hot_test, sub_cat_one_hot_test, school_state_one_hot_test, grade_one_hot_test, teacher_prefix_one_hot_test, standardized_price_test, standardized_quantity_test, standardized_teacher_no_test, test_title_tfidf, test_essay_tfidf)).tocsr()\n",
    "\n",
    "print(\"FINAL DATA MATRIX FOR TFIDF\")\n",
    "print(X_train_merged_tfidf.shape, y_train.shape)\n",
    "print(X_test_merged_tfidf.shape, y_test.shape)"
   ]
  },
  {
   "cell_type": "code",
   "execution_count": 105,
   "metadata": {},
   "outputs": [
    {
     "data": {
      "image/png": "[encoded data removed]",
      "text/plain": [
       "<Figure size 432x288 with 1 Axes>"
      ]
     },
     "metadata": {},
     "output_type": "display_data"
    }
   ],
   "source": [
    "title2 = 'TF-IDF'\n",
    "\n",
    "C2, auc_tr1, auc_cv1 = getAUC(X_train_merged_tfidf, y_train)\n",
    "plotPerformance(C2, auc_tr1, auc_cv1, title2)\n",
    "optimal_C2 = getOptimal_C(C2,auc_cv1)\n",
    "lro1 = train_using_optimal_c(optimal_C2, X_test_merged_tfidf, y_test)\n",
    "roc_data_test2, roc_data_train2 , pred_y_test ,pred_y_train = getROCData(X_test_merged_tfidf, y_test, X_train_merged_tfidf, y_train, lro1)"
   ]
  },
  {
   "cell_type": "code",
   "execution_count": 106,
   "metadata": {},
   "outputs": [
    {
     "name": "stdout",
     "output_type": "stream",
     "text": [
      "Top 10 features of positive class for Tfidf encoding :\n",
      "Top 1 feature of negative class: quantity\n",
      "Top 2 feature of negative class: price\n",
      "Top 3 feature of negative class: prev_proposed_projects\n",
      "Top 4 feature of negative class: Mrs\n",
      "Top 5 feature of negative class: Literacy_Language\n",
      "Top 6 feature of negative class: Math_Science\n",
      "Top 7 feature of negative class: Ms\n",
      "Top 8 feature of negative class: CA\n",
      "Top 9 feature of negative class: Health_Sports\n",
      "Top 10 feature of negative class: SpecialNeeds\n"
     ]
    }
   ],
   "source": [
    "clf =  MultinomialNB(alpha = optimal_C2,class_prior=[0.5,0.5])\n",
    "get_top_features(optimal_C2,clf,X_train_merged_tfidf,y_train,\"TFIDF\",X_train_merged.shape[0],\"POSITIVE\")"
   ]
  },
  {
   "cell_type": "code",
   "execution_count": 107,
   "metadata": {},
   "outputs": [
    {
     "name": "stdout",
     "output_type": "stream",
     "text": [
      "Top 10 features of negative class for Tfidf encoding :\n",
      "Top 1 feature of negative class: price\n",
      "Top 2 feature of negative class: quantity\n",
      "Top 3 feature of negative class: prev_proposed_projects\n",
      "Top 4 feature of negative class: Mrs\n",
      "Top 5 feature of negative class: Literacy_Language\n",
      "Top 6 feature of negative class: Math_Science\n",
      "Top 7 feature of negative class: Ms\n",
      "Top 8 feature of negative class: CA\n",
      "Top 9 feature of negative class: SpecialNeeds\n",
      "Top 10 feature of negative class: SpecialNeeds\n"
     ]
    }
   ],
   "source": [
    "clf =  MultinomialNB(alpha = optimal_C2,class_prior=[0.5,0.5])\n",
    "get_top_features(optimal_C2,clf,X_train_merged_tfidf,y_train,\"TFIDF\",X_train_merged.shape[0],\"NEGATIVE\")"
   ]
  },
  {
   "cell_type": "code",
   "execution_count": 108,
   "metadata": {},
   "outputs": [
    {
     "data": {
      "image/png": "[encoded data removed]",
      "text/plain": [
       "<Figure size 432x288 with 1 Axes>"
      ]
     },
     "metadata": {},
     "output_type": "display_data"
    }
   ],
   "source": [
    "plotROC(roc_data_test2[0], roc_data_train2[0],roc_data_test2[1], roc_data_train2[1], title2)\n"
   ]
  },
  {
   "cell_type": "code",
   "execution_count": 109,
   "metadata": {},
   "outputs": [
    {
     "name": "stdout",
     "output_type": "stream",
     "text": [
      "Maximum value of tpr*(1-fpr) 0.3918954443713393 for optimal threshold 0.8438411131891075\n"
     ]
    },
    {
     "data": {
      "image/png": "[encoded data removed]",
      "text/plain": [
       "<Figure size 432x288 with 2 Axes>"
      ]
     },
     "metadata": {},
     "output_type": "display_data"
    }
   ],
   "source": [
    "getConfusionMatrix(y_train,pred_y_train,roc_data_train2[2],roc_data_train2[1],roc_data_train2[0], title2)"
   ]
  },
  {
   "cell_type": "code",
   "execution_count": 110,
   "metadata": {},
   "outputs": [
    {
     "name": "stdout",
     "output_type": "stream",
     "text": [
      "Maximum value of tpr*(1-fpr) 0.48416555616668017 for optimal threshold 0.8373848013258038\n"
     ]
    },
    {
     "data": {
      "image/png": "[encoded data removed]",
      "text/plain": [
       "<Figure size 432x288 with 2 Axes>"
      ]
     },
     "metadata": {},
     "output_type": "display_data"
    }
   ],
   "source": [
    "getConfusionMatrix(y_test,pred_y_test,roc_data_test2[2],roc_data_test2[1],roc_data_test2[0], title2)"
   ]
  },
  {
   "cell_type": "markdown",
   "metadata": {},
   "source": [
    "<h3>Conclusions:</h3>"
   ]
  },
  {
   "cell_type": "code",
   "execution_count": 111,
   "metadata": {},
   "outputs": [
    {
     "name": "stdout",
     "output_type": "stream",
     "text": [
      "+------------+-----------------+--------------------+--------------------+\n",
      "| Vectorizer | Hyper Parameter |     AUC Train      |      AUC test      |\n",
      "+------------+-----------------+--------------------+--------------------+\n",
      "|    BOW     |       0.1       | 0.6580511341850641 | 0.8499784624316135 |\n",
      "|   TFIDF    |       0.1       | 0.6716746216692432 | 0.7618384237873508 |\n",
      "+------------+-----------------+--------------------+--------------------+\n"
     ]
    }
   ],
   "source": [
    "#http://zetcode.com/python/prettytable/\n",
    "from prettytable import PrettyTable\n",
    "\n",
    "table = PrettyTable()\n",
    "table.field_names = [\"Vectorizer\", \"Hyper Parameter\", \"AUC Train\" , \"AUC test\"]\n",
    "table.add_row([\"BOW\", optimal_C1, auc(roc_data_train1[0],roc_data_train1[1]),auc(roc_data_test1[0],roc_data_test1[1])])\n",
    "table.add_row([\"TFIDF\", optimal_C2, auc(roc_data_train2[0],roc_data_train2[1]),auc(roc_data_test2[0],roc_data_test2[1])])\n",
    "print (table)"
   ]
  },
  {
   "cell_type": "markdown",
   "metadata": {},
   "source": [
    "\n",
    "1. We observe that the test auc is much higher than train auc.That may sometimes be an accident and might be an issue in data splitting strategy.So i changed the data splitting strategy and got similar results. \n",
    "2. Secondly it might be due to underfitting.However it is expected in Naive bayes model as we take assumptions about feature independence ."
   ]
  },
  {
   "cell_type": "code",
   "execution_count": null,
   "metadata": {},
   "outputs": [],
   "source": []
  }
 ],
 "metadata": {
  "kernelspec": {
   "display_name": "Python 3",
   "language": "python",
   "name": "python3"
  },
  "language_info": {
   "codemirror_mode": {
    "name": "ipython",
    "version": 3
   },
   "file_extension": ".py",
   "mimetype": "text/x-python",
   "name": "python",
   "nbconvert_exporter": "python",
   "pygments_lexer": "ipython3",
   "version": "3.6.5"
  }
 },
 "nbformat": 4,
 "nbformat_minor": 2
}
