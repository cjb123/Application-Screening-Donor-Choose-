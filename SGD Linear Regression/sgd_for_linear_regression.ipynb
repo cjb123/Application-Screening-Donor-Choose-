{
 "cells": [
  {
   "cell_type": "markdown",
   "metadata": {},
   "source": [
    "# Objective- Implement SGD to Linear Regression"
   ]
  },
  {
   "cell_type": "markdown",
   "metadata": {},
   "source": [
    "About the dataset-\n",
    "--------------------\n",
    "\n",
    "Boston House Prices dataset\n",
    "---------------------------\n",
    "\n",
    "Notes\n",
    "------\n",
    "Data Set Characteristics:  \n",
    "\n",
    "    1. Number of Instances: 506 \n",
    "\n",
    "    2. Number of Attributes: 13 numeric/categorical predictive\n",
    "    \n",
    "    3. Median Value (attribute 14) is usually the target\n",
    "\n",
    "    4. Attribute Information (in order):\n",
    "        - CRIM     per capita crime rate by town\n",
    "        - ZN       proportion of residential land zoned for lots over 25,000 sq.ft.\n",
    "        - INDUS    proportion of non-retail business acres per town\n",
    "        - CHAS     Charles River dummy variable (= 1 if tract bounds river; 0 otherwise)\n",
    "        - NOX      nitric oxides concentration (parts per 10 million)\n",
    "        - RM       average number of rooms per dwelling\n",
    "        - AGE      proportion of owner-occupied units built prior to 1940\n",
    "        - DIS      weighted distances to five Boston employment centres\n",
    "        - RAD      index of accessibility to radial highways\n",
    "        - TAX      full-value property-tax rate per $10,000\n",
    "        - PTRATIO  pupil-teacher ratio by town\n",
    "        - B        1000(Bk - 0.63)^2 where Bk is the proportion of blacks by town\n",
    "        - LSTAT    % lower status of the population\n",
    "        - MEDV     Median value of owner-occupied homes in $1000's\n"
   ]
  },
  {
   "cell_type": "code",
   "execution_count": 52,
   "metadata": {},
   "outputs": [],
   "source": [
    "import numpy as np\n",
    "from sklearn.preprocessing import StandardScaler\n",
    "from sklearn.model_selection import train_test_split\n",
    "import seaborn as sns\n",
    "import numpy as np\n",
    "from sklearn.linear_model import SGDRegressor\n",
    "from sklearn.metrics import mean_squared_error\n",
    "import matplotlib.pyplot as plt\n",
    "%matplotlib inline\n",
    "\n",
    "import warnings\n",
    "warnings.filterwarnings('ignore')\n",
    "\n",
    "# loading boston datasets\n",
    "from sklearn.datasets import load_boston\n",
    "import pandas as pd\n"
   ]
  },
  {
   "cell_type": "code",
   "execution_count": 53,
   "metadata": {},
   "outputs": [],
   "source": [
    "boston_price_data = load_boston()\n",
    "\n",
    "# spliting the data into train and test\n",
    "boston_data = pd.DataFrame(data = boston_price_data.data)\n",
    "\n",
    "boston_data[13] = boston_data[10] // boston_data[12]\n",
    "\n",
    "price = boston_price_data.target\n",
    "X_train, X_test, y_train, y_test = train_test_split(boston_data, price, test_size=0.33, random_state=10)\n"
   ]
  },
  {
   "cell_type": "code",
   "execution_count": 54,
   "metadata": {},
   "outputs": [],
   "source": [
    "# applying column standardization on train and test data\n",
    "scale = StandardScaler()\n",
    "X_train = scale.fit_transform(np.array(X_train))\n",
    "X_test = scale.transform(np.array(X_test))\n"
   ]
  },
  {
   "cell_type": "code",
   "execution_count": 55,
   "metadata": {},
   "outputs": [
    {
     "data": {
      "text/html": [
       "<div>\n",
       "<style scoped>\n",
       "    .dataframe tbody tr th:only-of-type {\n",
       "        vertical-align: middle;\n",
       "    }\n",
       "\n",
       "    .dataframe tbody tr th {\n",
       "        vertical-align: top;\n",
       "    }\n",
       "\n",
       "    .dataframe thead th {\n",
       "        text-align: right;\n",
       "    }\n",
       "</style>\n",
       "<table border=\"1\" class=\"dataframe\">\n",
       "  <thead>\n",
       "    <tr style=\"text-align: right;\">\n",
       "      <th></th>\n",
       "      <th>0</th>\n",
       "      <th>1</th>\n",
       "      <th>2</th>\n",
       "      <th>3</th>\n",
       "      <th>4</th>\n",
       "      <th>5</th>\n",
       "      <th>6</th>\n",
       "      <th>7</th>\n",
       "      <th>8</th>\n",
       "      <th>9</th>\n",
       "      <th>10</th>\n",
       "      <th>11</th>\n",
       "      <th>12</th>\n",
       "      <th>13</th>\n",
       "      <th>price</th>\n",
       "    </tr>\n",
       "  </thead>\n",
       "  <tbody>\n",
       "    <tr>\n",
       "      <th>0</th>\n",
       "      <td>-0.136415</td>\n",
       "      <td>-0.47928</td>\n",
       "      <td>1.167876</td>\n",
       "      <td>-0.250392</td>\n",
       "      <td>2.749511</td>\n",
       "      <td>-1.992829</td>\n",
       "      <td>0.964187</td>\n",
       "      <td>-1.103664</td>\n",
       "      <td>-0.540043</td>\n",
       "      <td>-0.058172</td>\n",
       "      <td>-1.777315</td>\n",
       "      <td>0.392614</td>\n",
       "      <td>2.365979</td>\n",
       "      <td>-1.156506</td>\n",
       "      <td>14.6</td>\n",
       "    </tr>\n",
       "    <tr>\n",
       "      <th>1</th>\n",
       "      <td>-0.417778</td>\n",
       "      <td>-0.47928</td>\n",
       "      <td>-1.180433</td>\n",
       "      <td>-0.250392</td>\n",
       "      <td>-0.830671</td>\n",
       "      <td>-0.165953</td>\n",
       "      <td>-1.294382</td>\n",
       "      <td>0.966408</td>\n",
       "      <td>-0.653052</td>\n",
       "      <td>0.098893</td>\n",
       "      <td>-0.759875</td>\n",
       "      <td>0.147219</td>\n",
       "      <td>-0.541158</td>\n",
       "      <td>-0.361262</td>\n",
       "      <td>19.8</td>\n",
       "    </tr>\n",
       "    <tr>\n",
       "      <th>2</th>\n",
       "      <td>1.312692</td>\n",
       "      <td>-0.47928</td>\n",
       "      <td>0.955177</td>\n",
       "      <td>-0.250392</td>\n",
       "      <td>1.259946</td>\n",
       "      <td>-2.061824</td>\n",
       "      <td>1.117129</td>\n",
       "      <td>-1.043290</td>\n",
       "      <td>1.607129</td>\n",
       "      <td>1.471764</td>\n",
       "      <td>0.766286</td>\n",
       "      <td>0.193350</td>\n",
       "      <td>2.521007</td>\n",
       "      <td>-1.156506</td>\n",
       "      <td>10.2</td>\n",
       "    </tr>\n",
       "  </tbody>\n",
       "</table>\n",
       "</div>"
      ],
      "text/plain": [
       "          0        1         2         3         4         5         6  \\\n",
       "0 -0.136415 -0.47928  1.167876 -0.250392  2.749511 -1.992829  0.964187   \n",
       "1 -0.417778 -0.47928 -1.180433 -0.250392 -0.830671 -0.165953 -1.294382   \n",
       "2  1.312692 -0.47928  0.955177 -0.250392  1.259946 -2.061824  1.117129   \n",
       "\n",
       "          7         8         9        10        11        12        13  price  \n",
       "0 -1.103664 -0.540043 -0.058172 -1.777315  0.392614  2.365979 -1.156506   14.6  \n",
       "1  0.966408 -0.653052  0.098893 -0.759875  0.147219 -0.541158 -0.361262   19.8  \n",
       "2 -1.043290  1.607129  1.471764  0.766286  0.193350  2.521007 -1.156506   10.2  "
      ]
     },
     "execution_count": 55,
     "metadata": {},
     "output_type": "execute_result"
    }
   ],
   "source": [
    "#preparing training data for manual sgd regressor\n",
    "X_train_manual = pd.DataFrame(data = X_train)\n",
    "X_train_manual['price'] = y_train\n",
    "X_train_manual.head(3)"
   ]
  },
  {
   "cell_type": "code",
   "execution_count": 56,
   "metadata": {},
   "outputs": [],
   "source": [
    "# converting to numpy array, which will be available for both SGDRegressor of sklearn and manual sgd regressor\n",
    "X_test = np.array(X_test)\n",
    "y_test = np.array(y_test)"
   ]
  },
  {
   "cell_type": "code",
   "execution_count": 57,
   "metadata": {},
   "outputs": [
    {
     "data": {
      "text/plain": [
       "(167,)"
      ]
     },
     "execution_count": 57,
     "metadata": {},
     "output_type": "execute_result"
    }
   ],
   "source": [
    "y_test.shape"
   ]
  },
  {
   "cell_type": "code",
   "execution_count": 58,
   "metadata": {},
   "outputs": [],
   "source": [
    "output_matrix = pd.DataFrame(columns=['S/No', 'Algorithm', 'alpha', 'lr_rate_variation', 'init_lr_rate', 'power_t', 'n_iter', 'error'])"
   ]
  },
  {
   "cell_type": "markdown",
   "metadata": {},
   "source": [
    "## [SGDRegressor vs manual sgd]\n",
    "\n",
    "#  Experiment 1:\n",
    "* fixing initial learning rate to 0.01 and changing number of iterations\n"
   ]
  },
  {
   "cell_type": "code",
   "execution_count": 59,
   "metadata": {},
   "outputs": [],
   "source": [
    "b_diff = []\n",
    "w_diff = []"
   ]
  },
  {
   "cell_type": "code",
   "execution_count": 60,
   "metadata": {},
   "outputs": [],
   "source": [
    "#the functioning of this function is to use sklearn SGDRegressor and predict the price\n",
    "#this function takes alpha, learning rate variation , initial learning rate(eta0), number of iteration , power_t, and all test and train data as an argument\n",
    "#this function returns weight, intercept and mean squared error\n",
    "def sklearn_implemention_sgd(train_data, test_data, train_y, test_y, alpha, learn_rate, eta0 , n_iteration ):\n",
    "    clf = SGDRegressor(alpha = alpha, penalty=None, learning_rate = learn_rate, eta0 = eta0, max_iter = n_iteration)\n",
    "    clf.fit(train_data, train_y)\n",
    "    pred_y = clf.predict(test_data)\n",
    "    \n",
    "    #scatter plot\n",
    "    plt.scatter(test_y , pred_y)\n",
    "    plt.title('Scatter Plot between observed output(y) and predicted output(y)')\n",
    "    plt.xlabel('Observed y')\n",
    "    plt.ylabel('Predicted y')\n",
    "    plt.grid(b=True, linewidth=0.5)\n",
    "    plt.show()\n",
    "    print('***********************************************************')\n",
    "    #kdeplot\n",
    "    sgd_error = mean_squared_error(test_y , pred_y)\n",
    "    print('Mean sq error =', sgd_error)\n",
    "    print('Max Number of iteration =', n_iteration)\n",
    "    return clf.coef_, clf.intercept_, sgd_error\n"
   ]
  },
  {
   "cell_type": "markdown",
   "metadata": {},
   "source": [
    "### 1.1 SGDRegressor with  n_iter = 100"
   ]
  },
  {
   "cell_type": "code",
   "execution_count": 61,
   "metadata": {},
   "outputs": [
    {
     "data": {
      "image/png": "[encoded data removed]",
      "text/plain": [
       "<Figure size 432x288 with 1 Axes>"
      ]
     },
     "metadata": {
      "needs_background": "light"
     },
     "output_type": "display_data"
    },
    {
     "name": "stdout",
     "output_type": "stream",
     "text": [
      "***********************************************************\n",
      "Mean sq error = 22.04770858149201\n",
      "Max Number of iteration = 100\n"
     ]
    }
   ],
   "source": [
    "coeff_w, intercept_b, sgd_error = sklearn_implemention_sgd(X_train , X_test ,y_train,y_test,alpha=0.0001, \\\n",
    "                                                           learn_rate='constant', eta0=0.01 , n_iteration=100 )"
   ]
  },
  {
   "cell_type": "code",
   "execution_count": 62,
   "metadata": {},
   "outputs": [],
   "source": [
    "new_result_1 = [1, 'SGDRegressor', 0.0001, 'constant', 0.01, 0.25, 100, sgd_error]\n",
    "output_matrix.loc[0] = new_result_1"
   ]
  },
  {
   "cell_type": "markdown",
   "metadata": {},
   "source": [
    "### 1.2 Manual SGD with  n_iter = 100"
   ]
  },
  {
   "cell_type": "code",
   "execution_count": 63,
   "metadata": {},
   "outputs": [],
   "source": [
    "# this function is a simple implementation of sgd to linear regression, here we didn't use any regularization\n",
    "# we need to provide the pandas data with price, initial learning rate , and learning rate variation, number of iteration\n",
    "# here we have implemented constant learning rate and invscaling learning rate\n",
    "# checking the significant difference in loss i.e stopping condition might take lots of time so here we fix the number of loop \n",
    "# this function returns weight (w) and bias (b)\n",
    "# here we have taken sgd with batch size=10\n",
    "\n",
    "# ‘invscaling’:\n",
    "# eta = eta0 / pow(t, power_t) where eta0 = initial learning index ,power_t = The exponent for inverse scaling learning rate.\n",
    "\n",
    "def manual_sgd(X, learn_rate , alpha = 0.0001, learn_rate0 = 0.01, power_t = 0.25, max_iter = 100):\n",
    "    w_new = np.zeros(shape=(1,14))\n",
    "    b_new = 0\n",
    "    t = 1\n",
    "    r = learn_rate0\n",
    "    batch_size = 25\n",
    "    \n",
    "    while(t <= max_iter):\n",
    "        w_old = w_new\n",
    "        b_old = b_new\n",
    "        w_ = np.zeros(shape=(1,14))\n",
    "        b_ = 0\n",
    "        x_data = X.sample(batch_size)\n",
    "        x = np.array(x_data.drop('price',axis=1))\n",
    "        y = np.array(x_data['price'])\n",
    "        \n",
    "        for i in range(batch_size): \n",
    "            y_curr = np.dot(w_old,x[i]) + b_old\n",
    "            w_ += x[i] * (y[i] - y_curr)\n",
    "            b_ += (y[i]-y_curr)      \n",
    "            \n",
    "        w_ *= (-2/x.shape[0])\n",
    "        b_ *= (-2/x.shape[0])\n",
    "        \n",
    "        #updating the parameters\n",
    "        w_new = (w_old-r*w_/batch_size)\n",
    "        b_new = (b_old-r*b_/batch_size)\n",
    "        \n",
    "        if(learn_rate=='invscaling'):\n",
    "            r = learn_rate0 / pow(t, power_t)\n",
    "        t+=1\n",
    "        \n",
    "    return w_new, b_new\n",
    "\n",
    "\n",
    "def predict( x , w , b):\n",
    "    y_pred=[]\n",
    "    for i in range(len(x)):\n",
    "        y=np.asscalar(np.dot(w,x[i])+b)\n",
    "        y_pred.append(y)\n",
    "    return np.array(y_pred)\n",
    "\n",
    "def plot_scatter(test_y , y_pred):\n",
    "    #scatter plot\n",
    "    plt.scatter(test_y , y_pred)\n",
    "    plt.grid(b = True, linewidth = 0.3)\n",
    "    plt.title('scatter plot between actual y and predicted y')\n",
    "    plt.xlabel('Observed y')\n",
    "    plt.ylabel('Predicted y')\n",
    "    plt.show()\n",
    "    print('**************************************************************')\n",
    "    manual_error = mean_squared_error(test_y , y_pred)\n",
    "    print('Error =', manual_error)\n",
    "    return manual_error\n"
   ]
  },
  {
   "cell_type": "code",
   "execution_count": 64,
   "metadata": {},
   "outputs": [],
   "source": [
    "w, b = manual_sgd(X = X_train_manual, learn_rate = 'constant' , max_iter = 100)"
   ]
  },
  {
   "cell_type": "code",
   "execution_count": 65,
   "metadata": {},
   "outputs": [],
   "source": [
    "y_pred = predict(X_test, w,  b)"
   ]
  },
  {
   "cell_type": "code",
   "execution_count": 66,
   "metadata": {},
   "outputs": [
    {
     "data": {
      "image/png": "[encoded data removed]",
      "text/plain": [
       "<Figure size 432x288 with 1 Axes>"
      ]
     },
     "metadata": {
      "needs_background": "light"
     },
     "output_type": "display_data"
    },
    {
     "name": "stdout",
     "output_type": "stream",
     "text": [
      "**************************************************************\n",
      "Error = 524.7262908280684\n"
     ]
    }
   ],
   "source": [
    "manual_error = plot_scatter(y_test , y_pred)"
   ]
  },
  {
   "cell_type": "code",
   "execution_count": 67,
   "metadata": {},
   "outputs": [],
   "source": [
    "new = [2, 'manual sgd', 0.0001, 'constant', 0.01, 0.25, 100, manual_error]\n",
    "output_matrix.loc[1] = new"
   ]
  },
  {
   "cell_type": "code",
   "execution_count": 68,
   "metadata": {},
   "outputs": [
    {
     "name": "stdout",
     "output_type": "stream",
     "text": [
      "number of weights with more than 30% percent difference = 13\n"
     ]
    }
   ],
   "source": [
    "percent=abs((coeff_w - w)/w)*100\n",
    "cnt = 0\n",
    "for i in range(13):\n",
    "    if (percent[0][i]>30):\n",
    "        cnt+=1\n",
    "w_diff.append(cnt)\n",
    "print('number of weights with more than 30% percent difference =',cnt)"
   ]
  },
  {
   "cell_type": "code",
   "execution_count": 69,
   "metadata": {},
   "outputs": [
    {
     "name": "stdout",
     "output_type": "stream",
     "text": [
      "sklearn sgd intercept= [21.93815788]\n",
      "manual sgd intercept= [1.69662787]\n"
     ]
    }
   ],
   "source": [
    "print('sklearn sgd intercept=',intercept_b)\n",
    "print('manual sgd intercept=',b)\n",
    "b_diff.append(abs(intercept_b - b))"
   ]
  },
  {
   "cell_type": "markdown",
   "metadata": {},
   "source": [
    "### 1.3 SGDRegressor with n_iter=1000"
   ]
  },
  {
   "cell_type": "code",
   "execution_count": 70,
   "metadata": {},
   "outputs": [
    {
     "data": {
      "image/png": "[encoded data removed]",
      "text/plain": [
       "<Figure size 432x288 with 1 Axes>"
      ]
     },
     "metadata": {
      "needs_background": "light"
     },
     "output_type": "display_data"
    },
    {
     "name": "stdout",
     "output_type": "stream",
     "text": [
      "***********************************************************\n",
      "Mean sq error = 23.346104406479302\n",
      "Max Number of iteration = 1000\n"
     ]
    }
   ],
   "source": [
    "coeff_w, intercept_b, sgd_error = sklearn_implemention_sgd(X_train , X_test ,y_train,y_test,alpha=0.0001, \\\n",
    "                                                           learn_rate='constant', eta0=0.01 , n_iteration=1000 )"
   ]
  },
  {
   "cell_type": "code",
   "execution_count": 71,
   "metadata": {},
   "outputs": [],
   "source": [
    "new = [3, 'SGDRegressor', 0.0001, 'constant', 0.01, 0.25, 1000, sgd_error]\n",
    "output_matrix.loc[2]=new"
   ]
  },
  {
   "cell_type": "markdown",
   "metadata": {},
   "source": [
    "### 1.4 Manual SGD with n_iter = 1000"
   ]
  },
  {
   "cell_type": "code",
   "execution_count": 72,
   "metadata": {},
   "outputs": [
    {
     "data": {
      "image/png": "[encoded data removed]",
      "text/plain": [
       "<Figure size 432x288 with 1 Axes>"
      ]
     },
     "metadata": {
      "needs_background": "light"
     },
     "output_type": "display_data"
    },
    {
     "name": "stdout",
     "output_type": "stream",
     "text": [
      "**************************************************************\n",
      "Error = 131.8212185346562\n"
     ]
    }
   ],
   "source": [
    "w, b = manual_sgd(X = X_train_manual, learn_rate = 'constant' , max_iter = 1000)\n",
    "\n",
    "y_pred = predict(X_test, w,  b)\n",
    "manual_error = plot_scatter(y_test , y_pred)"
   ]
  },
  {
   "cell_type": "code",
   "execution_count": 73,
   "metadata": {},
   "outputs": [
    {
     "name": "stdout",
     "output_type": "stream",
     "text": [
      "number of points more than 30% in percent= 9\n"
     ]
    }
   ],
   "source": [
    "percent=abs((coeff_w-w)/w)*100\n",
    "cnt=0\n",
    "for i in range(13):\n",
    "    if (percent[0][i]>30):\n",
    "        cnt+=1\n",
    "w_diff.append(cnt)\n",
    "print('number of points more than 30% in percent=',cnt)"
   ]
  },
  {
   "cell_type": "code",
   "execution_count": 74,
   "metadata": {},
   "outputs": [
    {
     "name": "stdout",
     "output_type": "stream",
     "text": [
      "sklearn sgd intercept= [22.32605766]\n",
      "manual sgd intercept= [12.15843062]\n"
     ]
    }
   ],
   "source": [
    "print('sklearn sgd intercept=',intercept_b)\n",
    "print('manual sgd intercept=',b)\n",
    "b_diff.append(abs(intercept_b-b))"
   ]
  },
  {
   "cell_type": "code",
   "execution_count": 75,
   "metadata": {},
   "outputs": [],
   "source": [
    "new=[4, 'manual sgd', 0.0001, 'constant', 0.01, 0.25, 1000, manual_error]\n",
    "output_matrix.loc[3]=new"
   ]
  },
  {
   "cell_type": "markdown",
   "metadata": {},
   "source": [
    "### 1.5 SGDRegressor with n_iter = 10000"
   ]
  },
  {
   "cell_type": "code",
   "execution_count": 76,
   "metadata": {},
   "outputs": [
    {
     "data": {
      "image/png": "[encoded data removed]",
      "text/plain": [
       "<Figure size 432x288 with 1 Axes>"
      ]
     },
     "metadata": {
      "needs_background": "light"
     },
     "output_type": "display_data"
    },
    {
     "name": "stdout",
     "output_type": "stream",
     "text": [
      "***********************************************************\n",
      "Mean sq error = 23.782855766540965\n",
      "Max Number of iteration = 10000\n"
     ]
    }
   ],
   "source": [
    "coeff_w, intercept_b, sgd_error = sklearn_implemention_sgd(X_train , X_test ,y_train,y_test,alpha=0.0001, \\\n",
    "                                                           learn_rate='constant', eta0=0.01 , n_iteration=10000 )"
   ]
  },
  {
   "cell_type": "code",
   "execution_count": 77,
   "metadata": {},
   "outputs": [],
   "source": [
    "new=[5, 'SGDRegressor', 0.0001, 'constant', 0.01, 0.25, 10000, sgd_error]\n",
    "output_matrix.loc[4]=new"
   ]
  },
  {
   "cell_type": "markdown",
   "metadata": {},
   "source": [
    "### 1.6 Manual SGD with n_iter=10000"
   ]
  },
  {
   "cell_type": "code",
   "execution_count": 78,
   "metadata": {},
   "outputs": [
    {
     "data": {
      "image/png": "[encoded data removed]",
      "text/plain": [
       "<Figure size 432x288 with 1 Axes>"
      ]
     },
     "metadata": {
      "needs_background": "light"
     },
     "output_type": "display_data"
    },
    {
     "name": "stdout",
     "output_type": "stream",
     "text": [
      "**************************************************************\n",
      "Error = 21.636906836462845\n"
     ]
    }
   ],
   "source": [
    "w, b = manual_sgd(X = X_train_manual, learn_rate = 'constant' , max_iter = 10000)\n",
    "y_pred = predict(X_test, w,  b)\n",
    "manual_error = plot_scatter(y_test , y_pred)"
   ]
  },
  {
   "cell_type": "code",
   "execution_count": 79,
   "metadata": {},
   "outputs": [
    {
     "name": "stdout",
     "output_type": "stream",
     "text": [
      "sklearn sgd weight---\n",
      " [-1.31415772  1.36834779 -0.19276002 -0.28173018 -1.82101709  1.66048596\n",
      "  0.38362001 -2.74098018  2.38617913 -1.72607455 -2.35968779  1.14913859\n",
      " -1.8302951   2.79284763]\n",
      "*********************************************************************************\n",
      "manual sgd weight---\n",
      " [[-1.12376584  0.73611693 -0.44724048  0.3510551  -1.08281982  1.97186721\n",
      "   0.4193364  -2.32077627  1.20561163 -0.67020971 -2.06284716  1.13539415\n",
      "  -1.90649753  3.03359616]]\n"
     ]
    }
   ],
   "source": [
    "print('sklearn sgd weight---\\n',coeff_w)\n",
    "print('*********************************************************************************')\n",
    "print('manual sgd weight---\\n',w)"
   ]
  },
  {
   "cell_type": "code",
   "execution_count": 80,
   "metadata": {},
   "outputs": [
    {
     "name": "stdout",
     "output_type": "stream",
     "text": [
      "number of points more than 30% in percent= 6\n"
     ]
    }
   ],
   "source": [
    "percent=abs((coeff_w-w)/w)*100\n",
    "cnt=0\n",
    "for i in range(13):\n",
    "    if (percent[0][i]>30):\n",
    "        cnt+=1\n",
    "w_diff.append(cnt)\n",
    "print('number of points more than 30% chnage in weights=',cnt)"
   ]
  },
  {
   "cell_type": "code",
   "execution_count": 81,
   "metadata": {},
   "outputs": [
    {
     "name": "stdout",
     "output_type": "stream",
     "text": [
      "sklearn sgd intercept= [21.77275528]\n",
      "manual sgd intercept= [22.08336101]\n"
     ]
    }
   ],
   "source": [
    "print('sklearn sgd intercept=',intercept_b)\n",
    "print('manual sgd intercept=',b)\n",
    "b_diff.append(abs(intercept_b-b))"
   ]
  },
  {
   "cell_type": "code",
   "execution_count": 82,
   "metadata": {},
   "outputs": [],
   "source": [
    "new=[6, 'manual sgd', 0.0001, 'constant', 0.01, 0.25, 10000, manual_error]\n",
    "output_matrix.loc[5]=new"
   ]
  },
  {
   "cell_type": "code",
   "execution_count": 83,
   "metadata": {},
   "outputs": [],
   "source": [
    "import tabulate\n",
    "table_constant_lr = [['n_iter', 'no. of points>30% in w', 'difference in intercept'],\n",
    "         [1,w_diff[0], b_diff[0]], \n",
    "         [100, w_diff[1], b_diff[1]],\n",
    "         [1000, w_diff[2], b_diff[2]]]"
   ]
  },
  {
   "cell_type": "code",
   "execution_count": 84,
   "metadata": {},
   "outputs": [
    {
     "name": "stdout",
     "output_type": "stream",
     "text": [
      "╒════════╤════════════════════════╤═════════════════════════╕\n",
      "│ n_iter │ no. of points>30% in w │ difference in intercept │\n",
      "├────────┼────────────────────────┼─────────────────────────┤\n",
      "│ 1      │ 13                     │ [20.24153]              │\n",
      "├────────┼────────────────────────┼─────────────────────────┤\n",
      "│ 100    │ 9                      │ [10.16762704]           │\n",
      "├────────┼────────────────────────┼─────────────────────────┤\n",
      "│ 1000   │ 6                      │ [0.31060573]            │\n",
      "╘════════╧════════════════════════╧═════════════════════════╛\n"
     ]
    }
   ],
   "source": [
    "print(tabulate.tabulate(table_constant_lr, tablefmt='fancy_grid'))"
   ]
  },
  {
   "cell_type": "code",
   "execution_count": 85,
   "metadata": {},
   "outputs": [
    {
     "data": {
      "text/html": [
       "<div>\n",
       "<style scoped>\n",
       "    .dataframe tbody tr th:only-of-type {\n",
       "        vertical-align: middle;\n",
       "    }\n",
       "\n",
       "    .dataframe tbody tr th {\n",
       "        vertical-align: top;\n",
       "    }\n",
       "\n",
       "    .dataframe thead th {\n",
       "        text-align: right;\n",
       "    }\n",
       "</style>\n",
       "<table border=\"1\" class=\"dataframe\">\n",
       "  <thead>\n",
       "    <tr style=\"text-align: right;\">\n",
       "      <th></th>\n",
       "      <th>S/No</th>\n",
       "      <th>Algorithm</th>\n",
       "      <th>alpha</th>\n",
       "      <th>lr_rate_variation</th>\n",
       "      <th>init_lr_rate</th>\n",
       "      <th>power_t</th>\n",
       "      <th>n_iter</th>\n",
       "      <th>error</th>\n",
       "    </tr>\n",
       "  </thead>\n",
       "  <tbody>\n",
       "    <tr>\n",
       "      <th>0</th>\n",
       "      <td>1</td>\n",
       "      <td>SGDRegressor</td>\n",
       "      <td>0.0001</td>\n",
       "      <td>constant</td>\n",
       "      <td>0.01</td>\n",
       "      <td>0.25</td>\n",
       "      <td>100</td>\n",
       "      <td>22.047709</td>\n",
       "    </tr>\n",
       "    <tr>\n",
       "      <th>1</th>\n",
       "      <td>2</td>\n",
       "      <td>manual sgd</td>\n",
       "      <td>0.0001</td>\n",
       "      <td>constant</td>\n",
       "      <td>0.01</td>\n",
       "      <td>0.25</td>\n",
       "      <td>100</td>\n",
       "      <td>524.726291</td>\n",
       "    </tr>\n",
       "    <tr>\n",
       "      <th>2</th>\n",
       "      <td>3</td>\n",
       "      <td>SGDRegressor</td>\n",
       "      <td>0.0001</td>\n",
       "      <td>constant</td>\n",
       "      <td>0.01</td>\n",
       "      <td>0.25</td>\n",
       "      <td>1000</td>\n",
       "      <td>23.346104</td>\n",
       "    </tr>\n",
       "    <tr>\n",
       "      <th>3</th>\n",
       "      <td>4</td>\n",
       "      <td>manual sgd</td>\n",
       "      <td>0.0001</td>\n",
       "      <td>constant</td>\n",
       "      <td>0.01</td>\n",
       "      <td>0.25</td>\n",
       "      <td>1000</td>\n",
       "      <td>131.821219</td>\n",
       "    </tr>\n",
       "    <tr>\n",
       "      <th>4</th>\n",
       "      <td>5</td>\n",
       "      <td>SGDRegressor</td>\n",
       "      <td>0.0001</td>\n",
       "      <td>constant</td>\n",
       "      <td>0.01</td>\n",
       "      <td>0.25</td>\n",
       "      <td>10000</td>\n",
       "      <td>23.782856</td>\n",
       "    </tr>\n",
       "    <tr>\n",
       "      <th>5</th>\n",
       "      <td>6</td>\n",
       "      <td>manual sgd</td>\n",
       "      <td>0.0001</td>\n",
       "      <td>constant</td>\n",
       "      <td>0.01</td>\n",
       "      <td>0.25</td>\n",
       "      <td>10000</td>\n",
       "      <td>21.636907</td>\n",
       "    </tr>\n",
       "  </tbody>\n",
       "</table>\n",
       "</div>"
      ],
      "text/plain": [
       "  S/No     Algorithm   alpha lr_rate_variation  init_lr_rate  power_t n_iter  \\\n",
       "0    1  SGDRegressor  0.0001          constant          0.01     0.25    100   \n",
       "1    2    manual sgd  0.0001          constant          0.01     0.25    100   \n",
       "2    3  SGDRegressor  0.0001          constant          0.01     0.25   1000   \n",
       "3    4    manual sgd  0.0001          constant          0.01     0.25   1000   \n",
       "4    5  SGDRegressor  0.0001          constant          0.01     0.25  10000   \n",
       "5    6    manual sgd  0.0001          constant          0.01     0.25  10000   \n",
       "\n",
       "        error  \n",
       "0   22.047709  \n",
       "1  524.726291  \n",
       "2   23.346104  \n",
       "3  131.821219  \n",
       "4   23.782856  \n",
       "5   21.636907  "
      ]
     },
     "execution_count": 85,
     "metadata": {},
     "output_type": "execute_result"
    }
   ],
   "source": [
    "output_matrix"
   ]
  },
  {
   "cell_type": "markdown",
   "metadata": {},
   "source": [
    "## Observation-\n",
    "* We have fixed initial learning rate and lr_rate_variation, and only changing n_iter or number of iterations.\n",
    "* We can see , by increasing the number of iterations for manual sgd, error is reducing significantly.\n",
    "* By increasing the number of iterations ,manual sgd weight and SGDRegressor weight is going to be more similar\n",
    "* By Increasing the number of iterations the intercept values also comes closer."
   ]
  },
  {
   "cell_type": "markdown",
   "metadata": {},
   "source": [
    "\n",
    "# ... for constant learning rate variation and 10000 iterations we get the least mse score for both SGDRegressor of sklearn and our custom SGD model. Also for this setting the weights in both model are quite similar.\n",
    "\n",
    "# Mean Squared Error for manual SGD    in this case is 21.63 while that of sklearn SGDRegressor is 23.782\n",
    "\n",
    "Infact there are only 6 weights which has more than 30% change in weights incustom model compared to Sklearn model"
   ]
  },
  {
   "cell_type": "markdown",
   "metadata": {},
   "source": [
    "# Experiment 2:\n",
    "\n",
    "* using optimal learning rate variation and changing the n_iter"
   ]
  },
  {
   "cell_type": "code",
   "execution_count": 86,
   "metadata": {},
   "outputs": [],
   "source": [
    "b1_diff=[]\n",
    "w1_num=[]"
   ]
  },
  {
   "cell_type": "markdown",
   "metadata": {},
   "source": [
    "### 2.1 SGDRegressor with  n_iter=100 and lr_rate_variation='invscaling'"
   ]
  },
  {
   "cell_type": "code",
   "execution_count": 87,
   "metadata": {},
   "outputs": [
    {
     "data": {
      "image/png": "[encoded data removed]",
      "text/plain": [
       "<Figure size 432x288 with 1 Axes>"
      ]
     },
     "metadata": {
      "needs_background": "light"
     },
     "output_type": "display_data"
    },
    {
     "name": "stdout",
     "output_type": "stream",
     "text": [
      "***********************************************************\n",
      "Mean sq error = 21.305161698881506\n",
      "Max Number of iteration = 100\n"
     ]
    }
   ],
   "source": [
    "\n",
    "coeff_w, intercept_b, sgd_error = sklearn_implemention_sgd(X_train , X_test ,y_train,y_test,alpha=0.0001, \\\n",
    "                                                           learn_rate='invscaling', eta0=0.01 , n_iteration=100 )"
   ]
  },
  {
   "cell_type": "code",
   "execution_count": 88,
   "metadata": {},
   "outputs": [],
   "source": [
    "new=[7, 'SGDRegressor', 0.0001, 'invscaling', 0.01, 0.25, 100, sgd_error]\n",
    "output_matrix.loc[6]=new"
   ]
  },
  {
   "cell_type": "markdown",
   "metadata": {},
   "source": [
    "### 2.2 Manual SGD with n_iter = 100, initial learn_rate of 0.01  and lr_rate_variation='invscaling'"
   ]
  },
  {
   "cell_type": "code",
   "execution_count": 89,
   "metadata": {},
   "outputs": [
    {
     "data": {
      "image/png": "[encoded data removed]",
      "text/plain": [
       "<Figure size 432x288 with 1 Axes>"
      ]
     },
     "metadata": {
      "needs_background": "light"
     },
     "output_type": "display_data"
    },
    {
     "name": "stdout",
     "output_type": "stream",
     "text": [
      "**************************************************************\n",
      "Error = 589.6398025062791\n"
     ]
    }
   ],
   "source": [
    "w, b = manual_sgd(X=X_train_manual, learn_rate ='invscaling' , max_iter=100)\n",
    "y_pred = predict(X_test, w, b)\n",
    "manual_error=plot_scatter(y_test,y_pred)"
   ]
  },
  {
   "cell_type": "code",
   "execution_count": 90,
   "metadata": {},
   "outputs": [],
   "source": [
    "new=[8, 'manual sgd', 0.0001, 'invscaling', 0.01, 0.25, 100, manual_error]\n",
    "output_matrix.loc[7]=new"
   ]
  },
  {
   "cell_type": "code",
   "execution_count": 91,
   "metadata": {},
   "outputs": [
    {
     "name": "stdout",
     "output_type": "stream",
     "text": [
      "sklearn sgd weight---\n",
      " [-1.22161446  0.8438064  -0.37676547  0.33018879 -1.50614353  1.82081208\n",
      "  0.48814683 -2.67131376  1.72417652 -0.9750997  -2.16098865  1.131362\n",
      " -1.831158    3.10283918]\n",
      "*********************************************************************************\n",
      "manual sgd weight---\n",
      " [[-0.10166651  0.11703976 -0.12305918  0.03607531 -0.11198859  0.17946447\n",
      "  -0.12353386  0.07597705 -0.09869213 -0.12177261 -0.13893958  0.08989692\n",
      "  -0.21109709  0.22026435]]\n"
     ]
    }
   ],
   "source": [
    "print('sklearn sgd weight---\\n',coeff_w)\n",
    "print('*********************************************************************************')\n",
    "print('manual sgd weight---\\n',w)"
   ]
  },
  {
   "cell_type": "code",
   "execution_count": 92,
   "metadata": {},
   "outputs": [
    {
     "name": "stdout",
     "output_type": "stream",
     "text": [
      "number of points more than 30% in percent= 13\n"
     ]
    }
   ],
   "source": [
    "percent=abs((coeff_w-w)/w)*100\n",
    "cnt=0\n",
    "for i in range(13):\n",
    "    if (percent[0][i]>30):\n",
    "        cnt+=1\n",
    "w_diff.append(cnt)\n",
    "print('number of points more than 30% in percent=',cnt)"
   ]
  },
  {
   "cell_type": "code",
   "execution_count": 93,
   "metadata": {},
   "outputs": [
    {
     "name": "stdout",
     "output_type": "stream",
     "text": [
      "sklearn sgd intercept= [22.06793222]\n",
      "manual sgd intercept= [0.73545573]\n"
     ]
    }
   ],
   "source": [
    "print('sklearn sgd intercept=',intercept_b)\n",
    "print('manual sgd intercept=',b)\n",
    "b_diff.append(abs(intercept_b - b))"
   ]
  },
  {
   "cell_type": "markdown",
   "metadata": {},
   "source": [
    "### 2.3 SGDRegressor with  n_iter=1000, initial learn_rate=0.01 and  lr_rate_variation='invscaling'"
   ]
  },
  {
   "cell_type": "code",
   "execution_count": 94,
   "metadata": {},
   "outputs": [
    {
     "data": {
      "image/png": "[encoded data removed]",
      "text/plain": [
       "<Figure size 432x288 with 1 Axes>"
      ]
     },
     "metadata": {
      "needs_background": "light"
     },
     "output_type": "display_data"
    },
    {
     "name": "stdout",
     "output_type": "stream",
     "text": [
      "***********************************************************\n",
      "Mean sq error = 21.420715143214636\n",
      "Max Number of iteration = 1000\n"
     ]
    }
   ],
   "source": [
    "\n",
    "coeff_w, intercept_b, sgd_error = sklearn_implemention_sgd(X_train , X_test ,y_train,y_test,alpha=0.0001, \\\n",
    "                                                           learn_rate='invscaling', eta0=0.01 , n_iteration=1000 )"
   ]
  },
  {
   "cell_type": "code",
   "execution_count": 95,
   "metadata": {},
   "outputs": [],
   "source": [
    "new=[9, 'SGDRegressor', 0.0001, 'invscaling', 0.01, 0.25, 1000, sgd_error]\n",
    "output_matrix.loc[8]=new"
   ]
  },
  {
   "cell_type": "markdown",
   "metadata": {},
   "source": [
    "### 2.4 Manual SGD with n_iter=1000, lr_rate=0.01, lr_rate_variation='invscaling'"
   ]
  },
  {
   "cell_type": "code",
   "execution_count": 96,
   "metadata": {},
   "outputs": [
    {
     "data": {
      "image/png": "[encoded data removed]",
      "text/plain": [
       "<Figure size 432x288 with 1 Axes>"
      ]
     },
     "metadata": {
      "needs_background": "light"
     },
     "output_type": "display_data"
    },
    {
     "name": "stdout",
     "output_type": "stream",
     "text": [
      "**************************************************************\n",
      "Error = 414.0455286723952\n"
     ]
    }
   ],
   "source": [
    "w, b = manual_sgd(X=X_train_manual, learn_rate ='invscaling' , max_iter=1000)\n",
    "y_pred = predict(X_test, w, b)\n",
    "manual_error=plot_scatter(y_test,y_pred)"
   ]
  },
  {
   "cell_type": "code",
   "execution_count": 97,
   "metadata": {},
   "outputs": [],
   "source": [
    "new = [10, 'manual sgd', 0.0001, 'invscaling', 0.01, 0.25, 1000, manual_error]\n",
    "output_matrix.loc[9] = new"
   ]
  },
  {
   "cell_type": "code",
   "execution_count": 98,
   "metadata": {},
   "outputs": [
    {
     "name": "stdout",
     "output_type": "stream",
     "text": [
      "sklearn sgd weight---\n",
      " [-1.23137638  0.85010305 -0.41315182  0.32494746 -1.49476775  1.84434329\n",
      "  0.46420577 -2.61613168  1.64634096 -0.93063298 -2.15582675  1.1327476\n",
      " -1.80596778  3.10793612]\n",
      "*********************************************************************************\n",
      "manual sgd weight---\n",
      " [[-0.36473548  0.43429451 -0.4547213   0.23682364 -0.37890466  0.7542144\n",
      "  -0.33556994  0.17303539 -0.26191127 -0.38909566 -0.56349237  0.35443547\n",
      "  -0.82208655  0.8606992 ]]\n"
     ]
    }
   ],
   "source": [
    "print('sklearn sgd weight---\\n',coeff_w)\n",
    "print('*********************************************************************************')\n",
    "print('manual sgd weight---\\n',w)"
   ]
  },
  {
   "cell_type": "code",
   "execution_count": 99,
   "metadata": {},
   "outputs": [
    {
     "name": "stdout",
     "output_type": "stream",
     "text": [
      "number of points more than 30% in percent= 12\n"
     ]
    }
   ],
   "source": [
    "percent=abs((coeff_w-w)/w)*100\n",
    "cnt=0\n",
    "for i in range(13):\n",
    "    if (percent[0][i]>30):\n",
    "        cnt+=1\n",
    "w_diff.append(cnt)\n",
    "print('number of points more than 30% in percent=',cnt)"
   ]
  },
  {
   "cell_type": "code",
   "execution_count": 100,
   "metadata": {},
   "outputs": [
    {
     "name": "stdout",
     "output_type": "stream",
     "text": [
      "sklearn sgd intercept= [22.08306244]\n",
      "manual sgd intercept= [3.81472306]\n"
     ]
    }
   ],
   "source": [
    "print('sklearn sgd intercept=',intercept_b)\n",
    "print('manual sgd intercept=',b)\n",
    "b_diff.append(abs(intercept_b-b))"
   ]
  },
  {
   "cell_type": "markdown",
   "metadata": {},
   "source": [
    "### 2.5 SGDRegressor, n_iter=10000, lr_rate=0.01, lr_rate_variation='invscaling'"
   ]
  },
  {
   "cell_type": "code",
   "execution_count": 101,
   "metadata": {},
   "outputs": [
    {
     "data": {
      "image/png": "[encoded data removed]",
      "text/plain": [
       "<Figure size 432x288 with 1 Axes>"
      ]
     },
     "metadata": {
      "needs_background": "light"
     },
     "output_type": "display_data"
    },
    {
     "name": "stdout",
     "output_type": "stream",
     "text": [
      "***********************************************************\n",
      "Mean sq error = 21.47965956874885\n",
      "Max Number of iteration = 10000\n"
     ]
    }
   ],
   "source": [
    "\n",
    "coeff_w, intercept_b, sgd_error = sklearn_implemention_sgd(X_train , X_test ,y_train,y_test,alpha=0.0001, \\\n",
    "                                                           learn_rate='invscaling', eta0=0.01 , n_iteration=10000 )"
   ]
  },
  {
   "cell_type": "code",
   "execution_count": 102,
   "metadata": {},
   "outputs": [],
   "source": [
    "new=[11, 'SGDRegressor', 0.0001, 'invscaling', 0.01, 0.25, 10000, sgd_error]\n",
    "output_matrix.loc[10] = new"
   ]
  },
  {
   "cell_type": "markdown",
   "metadata": {},
   "source": [
    "### 2.6 manual sgd with  n_iter=10000, initial learn_rate=0.01, lr_rate_variation='invscaling'"
   ]
  },
  {
   "cell_type": "code",
   "execution_count": 103,
   "metadata": {},
   "outputs": [
    {
     "data": {
      "image/png": "[encoded data removed]",
      "text/plain": [
       "<Figure size 432x288 with 1 Axes>"
      ]
     },
     "metadata": {
      "needs_background": "light"
     },
     "output_type": "display_data"
    },
    {
     "name": "stdout",
     "output_type": "stream",
     "text": [
      "**************************************************************\n",
      "Error = 86.62525736819876\n"
     ]
    }
   ],
   "source": [
    "w, b = manual_sgd(X=X_train_manual, learn_rate ='invscaling' , max_iter=10000)\n",
    "y_pred = predict(X_test, w, b)\n",
    "manual_error = plot_scatter(y_test,y_pred)"
   ]
  },
  {
   "cell_type": "code",
   "execution_count": 104,
   "metadata": {},
   "outputs": [],
   "source": [
    "new=[12, 'manual sgd', 0.0001, 'invscaling', 0.01, 0.25, 10000, manual_error]\n",
    "output_matrix.loc[11]=new"
   ]
  },
  {
   "cell_type": "code",
   "execution_count": 105,
   "metadata": {},
   "outputs": [
    {
     "name": "stdout",
     "output_type": "stream",
     "text": [
      "sklearn sgd weight---\n",
      " [-1.2806438   0.89945399 -0.37142765  0.33024709 -1.59553429  1.78494539\n",
      "  0.49164946 -2.71496405  1.81127923 -1.11102419 -2.17240915  1.12867891\n",
      " -1.86132837  3.08174583]\n",
      "*********************************************************************************\n",
      "manual sgd weight---\n",
      " [[-0.60872563  0.50208561 -0.4467399   0.5332908  -0.24448018  2.00515002\n",
      "  -0.07295664 -0.7322531   0.03519965 -0.43551644 -1.41532162  0.72888833\n",
      "  -1.77934192  2.18761203]]\n"
     ]
    }
   ],
   "source": [
    "print('sklearn sgd weight---\\n',coeff_w)\n",
    "print('*********************************************************************************')\n",
    "print('manual sgd weight---\\n',w)"
   ]
  },
  {
   "cell_type": "code",
   "execution_count": 106,
   "metadata": {},
   "outputs": [
    {
     "name": "stdout",
     "output_type": "stream",
     "text": [
      "number of points more than 30% in percent= 10\n"
     ]
    }
   ],
   "source": [
    "percent=abs((coeff_w-w)/w)*100\n",
    "cnt=0\n",
    "for i in range(13):\n",
    "    if (percent[0][i]>30):\n",
    "        cnt+=1\n",
    "w_diff.append(cnt)\n",
    "print('number of points more than 30% in percent=',cnt)"
   ]
  },
  {
   "cell_type": "code",
   "execution_count": 107,
   "metadata": {},
   "outputs": [
    {
     "name": "stdout",
     "output_type": "stream",
     "text": [
      "sklearn sgd intercept= [22.07358311]\n",
      "manual sgd intercept= [14.4881025]\n"
     ]
    }
   ],
   "source": [
    "print('sklearn sgd intercept=',intercept_b)\n",
    "print('manual sgd intercept=',b)\n",
    "b_diff.append(abs(intercept_b-b))"
   ]
  },
  {
   "cell_type": "code",
   "execution_count": 108,
   "metadata": {},
   "outputs": [
    {
     "data": {
      "text/html": [
       "<div>\n",
       "<style scoped>\n",
       "    .dataframe tbody tr th:only-of-type {\n",
       "        vertical-align: middle;\n",
       "    }\n",
       "\n",
       "    .dataframe tbody tr th {\n",
       "        vertical-align: top;\n",
       "    }\n",
       "\n",
       "    .dataframe thead th {\n",
       "        text-align: right;\n",
       "    }\n",
       "</style>\n",
       "<table border=\"1\" class=\"dataframe\">\n",
       "  <thead>\n",
       "    <tr style=\"text-align: right;\">\n",
       "      <th></th>\n",
       "      <th>S/No</th>\n",
       "      <th>Algorithm</th>\n",
       "      <th>alpha</th>\n",
       "      <th>lr_rate_variation</th>\n",
       "      <th>init_lr_rate</th>\n",
       "      <th>power_t</th>\n",
       "      <th>n_iter</th>\n",
       "      <th>error</th>\n",
       "    </tr>\n",
       "  </thead>\n",
       "  <tbody>\n",
       "    <tr>\n",
       "      <th>6</th>\n",
       "      <td>7</td>\n",
       "      <td>SGDRegressor</td>\n",
       "      <td>0.0001</td>\n",
       "      <td>invscaling</td>\n",
       "      <td>0.01</td>\n",
       "      <td>0.25</td>\n",
       "      <td>100</td>\n",
       "      <td>21.305162</td>\n",
       "    </tr>\n",
       "    <tr>\n",
       "      <th>7</th>\n",
       "      <td>8</td>\n",
       "      <td>manual sgd</td>\n",
       "      <td>0.0001</td>\n",
       "      <td>invscaling</td>\n",
       "      <td>0.01</td>\n",
       "      <td>0.25</td>\n",
       "      <td>100</td>\n",
       "      <td>589.639803</td>\n",
       "    </tr>\n",
       "    <tr>\n",
       "      <th>8</th>\n",
       "      <td>9</td>\n",
       "      <td>SGDRegressor</td>\n",
       "      <td>0.0001</td>\n",
       "      <td>invscaling</td>\n",
       "      <td>0.01</td>\n",
       "      <td>0.25</td>\n",
       "      <td>1000</td>\n",
       "      <td>21.420715</td>\n",
       "    </tr>\n",
       "    <tr>\n",
       "      <th>9</th>\n",
       "      <td>10</td>\n",
       "      <td>manual sgd</td>\n",
       "      <td>0.0001</td>\n",
       "      <td>invscaling</td>\n",
       "      <td>0.01</td>\n",
       "      <td>0.25</td>\n",
       "      <td>1000</td>\n",
       "      <td>414.045529</td>\n",
       "    </tr>\n",
       "    <tr>\n",
       "      <th>10</th>\n",
       "      <td>11</td>\n",
       "      <td>SGDRegressor</td>\n",
       "      <td>0.0001</td>\n",
       "      <td>invscaling</td>\n",
       "      <td>0.01</td>\n",
       "      <td>0.25</td>\n",
       "      <td>10000</td>\n",
       "      <td>21.479660</td>\n",
       "    </tr>\n",
       "    <tr>\n",
       "      <th>11</th>\n",
       "      <td>12</td>\n",
       "      <td>manual sgd</td>\n",
       "      <td>0.0001</td>\n",
       "      <td>invscaling</td>\n",
       "      <td>0.01</td>\n",
       "      <td>0.25</td>\n",
       "      <td>10000</td>\n",
       "      <td>86.625257</td>\n",
       "    </tr>\n",
       "  </tbody>\n",
       "</table>\n",
       "</div>"
      ],
      "text/plain": [
       "   S/No     Algorithm   alpha lr_rate_variation  init_lr_rate  power_t n_iter  \\\n",
       "6     7  SGDRegressor  0.0001        invscaling          0.01     0.25    100   \n",
       "7     8    manual sgd  0.0001        invscaling          0.01     0.25    100   \n",
       "8     9  SGDRegressor  0.0001        invscaling          0.01     0.25   1000   \n",
       "9    10    manual sgd  0.0001        invscaling          0.01     0.25   1000   \n",
       "10   11  SGDRegressor  0.0001        invscaling          0.01     0.25  10000   \n",
       "11   12    manual sgd  0.0001        invscaling          0.01     0.25  10000   \n",
       "\n",
       "         error  \n",
       "6    21.305162  \n",
       "7   589.639803  \n",
       "8    21.420715  \n",
       "9   414.045529  \n",
       "10   21.479660  \n",
       "11   86.625257  "
      ]
     },
     "execution_count": 108,
     "metadata": {},
     "output_type": "execute_result"
    }
   ],
   "source": [
    "output_matrix[6:]"
   ]
  },
  {
   "cell_type": "code",
   "execution_count": 109,
   "metadata": {},
   "outputs": [
    {
     "name": "stdout",
     "output_type": "stream",
     "text": [
      "╒════════╤════════════════════════╤═════════════════════════╕\n",
      "│ n_iter │ no. of points>30% in w │ difference in intercept │\n",
      "├────────┼────────────────────────┼─────────────────────────┤\n",
      "│ 100    │ 13                     │ [20.24153]              │\n",
      "├────────┼────────────────────────┼─────────────────────────┤\n",
      "│ 1000   │ 9                      │ [10.16762704]           │\n",
      "├────────┼────────────────────────┼─────────────────────────┤\n",
      "│ 10000  │ 6                      │ [0.31060573]            │\n",
      "╘════════╧════════════════════════╧═════════════════════════╛\n"
     ]
    }
   ],
   "source": [
    "import tabulate\n",
    "table2 = [['n_iter', 'no. of points>30% in w', 'difference in intercept'],\n",
    "         [100,w_diff[0], b_diff[0]], \n",
    "         [1000, w_diff[1], b_diff[1]],\n",
    "         [10000, w_diff[2], b_diff[2]]]\n",
    "print(tabulate.tabulate(table2, tablefmt='fancy_grid'))\n"
   ]
  },
  {
   "cell_type": "markdown",
   "metadata": {},
   "source": [
    "### Observation :\n",
    "* By increasing the number of iterations, weights of SGDRegressor and manual sgd becomes more similar\n",
    "* By increasing the number of iterations, the difference in intercepts of SGDRegressor and manual sgd becomes lesser\n",
    "* By increasing the number of iteration from 100 to 1000, manual sgd recieves significantly smaller error.However on increasing it to 10000 it remains almost the same.\n",
    "# However the mean squared error in custom model here with 10000 iterations is much higher than that in constant learning rate model"
   ]
  }
 ],
 "metadata": {
  "kernelspec": {
   "display_name": "Python 3",
   "language": "python",
   "name": "python3"
  },
  "language_info": {
   "codemirror_mode": {
    "name": "ipython",
    "version": 3
   },
   "file_extension": ".py",
   "mimetype": "text/x-python",
   "name": "python",
   "nbconvert_exporter": "python",
   "pygments_lexer": "ipython3",
   "version": "3.7.5"
  }
 },
 "nbformat": 4,
 "nbformat_minor": 2
}
