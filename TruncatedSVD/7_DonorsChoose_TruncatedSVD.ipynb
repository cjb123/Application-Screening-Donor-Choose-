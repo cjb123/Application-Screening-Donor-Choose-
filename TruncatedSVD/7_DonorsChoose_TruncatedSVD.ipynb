{
 "cells": [
  {
   "cell_type": "markdown",
   "metadata": {},
   "source": [
    "# DonorsChoose"
   ]
  },
  {
   "cell_type": "markdown",
   "metadata": {},
   "source": [
    "<p>\n",
    "DonorsChoose.org receives hundreds of thousands of project proposals each year for classroom projects in need of funding. Right now, a large number of volunteers is needed to manually screen each submission before it's approved to be posted on the DonorsChoose.org website.\n",
    "</p>\n",
    "<p>\n",
    "    Next year, DonorsChoose.org expects to receive close to 500,000 project proposals. As a result, there are three main problems they need to solve:\n",
    "<ul>\n",
    "<li>\n",
    "    How to scale current manual processes and resources to screen 500,000 projects so that they can be posted as quickly and as efficiently as possible</li>\n",
    "    <li>How to increase the consistency of project vetting across different volunteers to improve the experience for teachers</li>\n",
    "    <li>How to focus volunteer time on the applications that need the most assistance</li>\n",
    "    </ul>\n",
    "</p>    \n",
    "<p>\n",
    "The goal of the competition is to predict whether or not a DonorsChoose.org project proposal submitted by a teacher will be approved, using the text of project descriptions as well as additional metadata about the project, teacher, and school. DonorsChoose.org can then use this information to identify projects most likely to need further review before approval.\n",
    "</p>"
   ]
  },
  {
   "cell_type": "markdown",
   "metadata": {},
   "source": [
    "## About the DonorsChoose Data Set\n",
    "\n",
    "The `train.csv` data set provided by DonorsChoose contains the following features:\n",
    "\n",
    "Feature | Description \n",
    "----------|---------------\n",
    "**`project_id`** | A unique identifier for the proposed project. **Example:** `p036502`   \n",
    "**`project_title`**    | Title of the project. **Examples:**<br><ul><li><code>Art Will Make You Happy!</code></li><li><code>First Grade Fun</code></li></ul> \n",
    "**`project_grade_category`** | Grade level of students for which the project is targeted. One of the following enumerated values: <br/><ul><li><code>Grades PreK-2</code></li><li><code>Grades 3-5</code></li><li><code>Grades 6-8</code></li><li><code>Grades 9-12</code></li></ul>  \n",
    " **`project_subject_categories`** | One or more (comma-separated) subject categories for the project from the following enumerated list of values:  <br/><ul><li><code>Applied Learning</code></li><li><code>Care &amp; Hunger</code></li><li><code>Health &amp; Sports</code></li><li><code>History &amp; Civics</code></li><li><code>Literacy &amp; Language</code></li><li><code>Math &amp; Science</code></li><li><code>Music &amp; The Arts</code></li><li><code>Special Needs</code></li><li><code>Warmth</code></li></ul><br/> **Examples:** <br/><ul><li><code>Music &amp; The Arts</code></li><li><code>Literacy &amp; Language, Math &amp; Science</code></li>  \n",
    "  **`school_state`** | State where school is located ([Two-letter U.S. postal code](https://en.wikipedia.org/wiki/List_of_U.S._state_abbreviations#Postal_codes)). **Example:** `WY`\n",
    "**`project_subject_subcategories`** | One or more (comma-separated) subject subcategories for the project. **Examples:** <br/><ul><li><code>Literacy</code></li><li><code>Literature &amp; Writing, Social Sciences</code></li></ul> \n",
    "**`project_resource_summary`** | An explanation of the resources needed for the project. **Example:** <br/><ul><li><code>My students need hands on literacy materials to manage sensory needs!</code</li></ul> \n",
    "**`project_essay_1`**    | First application essay<sup>*</sup>  \n",
    "**`project_essay_2`**    | Second application essay<sup>*</sup> \n",
    "**`project_essay_3`**    | Third application essay<sup>*</sup> \n",
    "**`project_essay_4`**    | Fourth application essay<sup>*</sup> \n",
    "**`project_submitted_datetime`** | Datetime when project application was submitted. **Example:** `2016-04-28 12:43:56.245`   \n",
    "**`teacher_id`** | A unique identifier for the teacher of the proposed project. **Example:** `bdf8baa8fedef6bfeec7ae4ff1c15c56`  \n",
    "**`teacher_prefix`** | Teacher's title. One of the following enumerated values: <br/><ul><li><code>nan</code></li><li><code>Dr.</code></li><li><code>Mr.</code></li><li><code>Mrs.</code></li><li><code>Ms.</code></li><li><code>Teacher.</code></li></ul>  \n",
    "**`teacher_number_of_previously_posted_projects`** | Number of project applications previously submitted by the same teacher. **Example:** `2` \n",
    "\n",
    "<sup>*</sup> See the section <b>Notes on the Essay Data</b> for more details about these features.\n",
    "\n",
    "Additionally, the `resources.csv` data set provides more data about the resources required for each project. Each line in this file represents a resource required by a project:\n",
    "\n",
    "Feature | Description \n",
    "----------|---------------\n",
    "**`id`** | A `project_id` value from the `train.csv` file.  **Example:** `p036502`   \n",
    "**`description`** | Desciption of the resource. **Example:** `Tenor Saxophone Reeds, Box of 25`   \n",
    "**`quantity`** | Quantity of the resource required. **Example:** `3`   \n",
    "**`price`** | Price of the resource required. **Example:** `9.95`   \n",
    "\n",
    "**Note:** Many projects require multiple resources. The `id` value corresponds to a `project_id` in train.csv, so you use it as a key to retrieve all resources needed for a project:\n",
    "\n",
    "The data set contains the following label (the value you will attempt to predict):\n",
    "\n",
    "Label | Description\n",
    "----------|---------------\n",
    "`project_is_approved` | A binary flag indicating whether DonorsChoose approved the project. A value of `0` indicates the project was not approved, and a value of `1` indicates the project was approved."
   ]
  },
  {
   "cell_type": "markdown",
   "metadata": {},
   "source": [
    "### Notes on the Essay Data\n",
    "\n",
    "<ul>\n",
    "Prior to May 17, 2016, the prompts for the essays were as follows:\n",
    "<li>__project_essay_1:__ \"Introduce us to your classroom\"</li>\n",
    "<li>__project_essay_2:__ \"Tell us more about your students\"</li>\n",
    "<li>__project_essay_3:__ \"Describe how your students will use the materials you're requesting\"</li>\n",
    "<li>__project_essay_3:__ \"Close by sharing why your project will make a difference\"</li>\n",
    "</ul>\n",
    "\n",
    "\n",
    "<ul>\n",
    "Starting on May 17, 2016, the number of essays was reduced from 4 to 2, and the prompts for the first 2 essays were changed to the following:<br>\n",
    "<li>__project_essay_1:__ \"Describe your students: What makes your students special? Specific details about their background, your neighborhood, and your school are all helpful.\"</li>\n",
    "<li>__project_essay_2:__ \"About your project: How will these materials make a difference in your students' learning and improve their school lives?\"</li>\n",
    "<br>For all projects with project_submitted_datetime of 2016-05-17 and later, the values of project_essay_3 and project_essay_4 will be NaN.\n",
    "</ul>\n"
   ]
  },
  {
   "cell_type": "code",
   "execution_count": 18,
   "metadata": {},
   "outputs": [],
   "source": [
    "%matplotlib inline\n",
    "import warnings\n",
    "warnings.filterwarnings(\"ignore\")\n",
    "\n",
    "import pandas as pd\n",
    "import numpy as np\n",
    "import nltk\n",
    "import string\n",
    "import matplotlib.pyplot as plt\n",
    "import seaborn as sns\n",
    "from sklearn.feature_extraction.text import TfidfTransformer\n",
    "from sklearn.feature_extraction.text import TfidfVectorizer\n",
    "\n",
    "from sklearn.feature_extraction.text import CountVectorizer\n",
    "from sklearn.metrics import confusion_matrix\n",
    "from sklearn import metrics\n",
    "from sklearn.linear_model import LogisticRegression,SGDClassifier\n",
    "from sklearn.metrics import roc_auc_score, auc , roc_curve\n",
    "from sklearn.model_selection import GridSearchCV\n",
    "from sklearn.decomposition import TruncatedSVD\n",
    "\n",
    "from nltk.stem.porter import PorterStemmer\n",
    "import re\n",
    "from nltk.corpus import stopwords\n",
    "from nltk.stem import PorterStemmer\n",
    "from nltk.stem.wordnet import WordNetLemmatizer\n",
    "\n",
    "from gensim.models import Word2Vec\n",
    "from gensim.models import KeyedVectors\n",
    "\n",
    "from tqdm import tqdm_notebook as tqdm\n",
    "import os\n",
    "import pickle"
   ]
  },
  {
   "cell_type": "markdown",
   "metadata": {},
   "source": [
    "<h1>1. DATA</h1>"
   ]
  },
  {
   "cell_type": "code",
   "execution_count": 2,
   "metadata": {},
   "outputs": [],
   "source": [
    "data_projects = pd.read_csv('../Datasets/donor_choose_train_data.csv')\n",
    "data_resources = pd.read_csv('../Datasets/donor_choose_resources.csv')"
   ]
  },
  {
   "cell_type": "code",
   "execution_count": 3,
   "metadata": {},
   "outputs": [
    {
     "name": "stdout",
     "output_type": "stream",
     "text": [
      "Shape of training dataset = (109248, 17)\n",
      "Shape of resources dataset = (1541272, 4)\n"
     ]
    }
   ],
   "source": [
    "print(\"Shape of training dataset =\",data_projects.shape)\n",
    "print(\"Shape of resources dataset =\",data_resources.shape)"
   ]
  },
  {
   "cell_type": "code",
   "execution_count": 4,
   "metadata": {},
   "outputs": [
    {
     "name": "stdout",
     "output_type": "stream",
     "text": [
      "Columns in train dataset =  Index(['Unnamed: 0', 'id', 'teacher_id', 'teacher_prefix', 'school_state',\n",
      "       'project_submitted_datetime', 'project_grade_category',\n",
      "       'project_subject_categories', 'project_subject_subcategories',\n",
      "       'project_title', 'project_essay_1', 'project_essay_2',\n",
      "       'project_essay_3', 'project_essay_4', 'project_resource_summary',\n",
      "       'teacher_number_of_previously_posted_projects', 'project_is_approved'],\n",
      "      dtype='object')\n",
      "**************************************************\n",
      "Columns in resources dataset =  Index(['id', 'description', 'quantity', 'price'], dtype='object')\n"
     ]
    }
   ],
   "source": [
    "print(\"Columns in train dataset = \",data_projects.columns)\n",
    "print(\"*\"*50)\n",
    "print(\"Columns in resources dataset = \",data_resources.columns)\n"
   ]
  },
  {
   "cell_type": "markdown",
   "metadata": {},
   "source": [
    "<h2>1.1 Converting Date time format and sorting Data by Date</h2>"
   ]
  },
  {
   "cell_type": "code",
   "execution_count": 5,
   "metadata": {},
   "outputs": [
    {
     "data": {
      "text/html": [
       "<div>\n",
       "<style scoped>\n",
       "    .dataframe tbody tr th:only-of-type {\n",
       "        vertical-align: middle;\n",
       "    }\n",
       "\n",
       "    .dataframe tbody tr th {\n",
       "        vertical-align: top;\n",
       "    }\n",
       "\n",
       "    .dataframe thead th {\n",
       "        text-align: right;\n",
       "    }\n",
       "</style>\n",
       "<table border=\"1\" class=\"dataframe\">\n",
       "  <thead>\n",
       "    <tr style=\"text-align: right;\">\n",
       "      <th></th>\n",
       "      <th>Unnamed: 0</th>\n",
       "      <th>id</th>\n",
       "      <th>teacher_id</th>\n",
       "      <th>teacher_prefix</th>\n",
       "      <th>school_state</th>\n",
       "      <th>Date</th>\n",
       "      <th>project_grade_category</th>\n",
       "      <th>project_subject_categories</th>\n",
       "      <th>project_subject_subcategories</th>\n",
       "      <th>project_title</th>\n",
       "      <th>project_essay_1</th>\n",
       "      <th>project_essay_2</th>\n",
       "      <th>project_essay_3</th>\n",
       "      <th>project_essay_4</th>\n",
       "      <th>project_resource_summary</th>\n",
       "      <th>teacher_number_of_previously_posted_projects</th>\n",
       "      <th>project_is_approved</th>\n",
       "    </tr>\n",
       "  </thead>\n",
       "  <tbody>\n",
       "    <tr>\n",
       "      <th>55660</th>\n",
       "      <td>8393</td>\n",
       "      <td>p205479</td>\n",
       "      <td>2bf07ba08945e5d8b2a3f269b2b3cfe5</td>\n",
       "      <td>Mrs.</td>\n",
       "      <td>CA</td>\n",
       "      <td>2016-04-27 00:27:36</td>\n",
       "      <td>Grades PreK-2</td>\n",
       "      <td>Math &amp; Science</td>\n",
       "      <td>Applied Sciences, Health &amp; Life Science</td>\n",
       "      <td>Engineering STEAM into the Primary Classroom</td>\n",
       "      <td>I have been fortunate enough to use the Fairy ...</td>\n",
       "      <td>My students come from a variety of backgrounds...</td>\n",
       "      <td>Each month I try to do several science or STEM...</td>\n",
       "      <td>It is challenging to develop high quality scie...</td>\n",
       "      <td>My students need STEM kits to learn critical s...</td>\n",
       "      <td>53</td>\n",
       "      <td>1</td>\n",
       "    </tr>\n",
       "    <tr>\n",
       "      <th>76127</th>\n",
       "      <td>37728</td>\n",
       "      <td>p043609</td>\n",
       "      <td>3f60494c61921b3b43ab61bdde2904df</td>\n",
       "      <td>Ms.</td>\n",
       "      <td>UT</td>\n",
       "      <td>2016-04-27 00:31:25</td>\n",
       "      <td>Grades 3-5</td>\n",
       "      <td>Special Needs</td>\n",
       "      <td>Special Needs</td>\n",
       "      <td>Sensory Tools for Focus</td>\n",
       "      <td>Imagine being 8-9 years old. You're in your th...</td>\n",
       "      <td>Most of my students have autism, anxiety, anot...</td>\n",
       "      <td>It is tough to do more than one thing at a tim...</td>\n",
       "      <td>When my students are able to calm themselves d...</td>\n",
       "      <td>My students need Boogie Boards for quiet senso...</td>\n",
       "      <td>4</td>\n",
       "      <td>1</td>\n",
       "    </tr>\n",
       "  </tbody>\n",
       "</table>\n",
       "</div>"
      ],
      "text/plain": [
       "       Unnamed: 0       id                        teacher_id teacher_prefix  \\\n",
       "55660        8393  p205479  2bf07ba08945e5d8b2a3f269b2b3cfe5           Mrs.   \n",
       "76127       37728  p043609  3f60494c61921b3b43ab61bdde2904df            Ms.   \n",
       "\n",
       "      school_state                Date project_grade_category  \\\n",
       "55660           CA 2016-04-27 00:27:36          Grades PreK-2   \n",
       "76127           UT 2016-04-27 00:31:25             Grades 3-5   \n",
       "\n",
       "      project_subject_categories            project_subject_subcategories  \\\n",
       "55660             Math & Science  Applied Sciences, Health & Life Science   \n",
       "76127              Special Needs                            Special Needs   \n",
       "\n",
       "                                      project_title  \\\n",
       "55660  Engineering STEAM into the Primary Classroom   \n",
       "76127                       Sensory Tools for Focus   \n",
       "\n",
       "                                         project_essay_1  \\\n",
       "55660  I have been fortunate enough to use the Fairy ...   \n",
       "76127  Imagine being 8-9 years old. You're in your th...   \n",
       "\n",
       "                                         project_essay_2  \\\n",
       "55660  My students come from a variety of backgrounds...   \n",
       "76127  Most of my students have autism, anxiety, anot...   \n",
       "\n",
       "                                         project_essay_3  \\\n",
       "55660  Each month I try to do several science or STEM...   \n",
       "76127  It is tough to do more than one thing at a tim...   \n",
       "\n",
       "                                         project_essay_4  \\\n",
       "55660  It is challenging to develop high quality scie...   \n",
       "76127  When my students are able to calm themselves d...   \n",
       "\n",
       "                                project_resource_summary  \\\n",
       "55660  My students need STEM kits to learn critical s...   \n",
       "76127  My students need Boogie Boards for quiet senso...   \n",
       "\n",
       "       teacher_number_of_previously_posted_projects  project_is_approved  \n",
       "55660                                            53                    1  \n",
       "76127                                             4                    1  "
      ]
     },
     "execution_count": 5,
     "metadata": {},
     "output_type": "execute_result"
    }
   ],
   "source": [
    "# how to replace elements in list python: https://stackoverflow.com/a/2582163/4084039\n",
    "cols = ['Date' if x=='project_submitted_datetime' else x for x in list(data_projects.columns)]\n",
    "\n",
    "\n",
    "#sort dataframe based on time pandas python: https://stackoverflow.com/a/49702492/4084039\n",
    "data_projects['Date'] = pd.to_datetime(data_projects['project_submitted_datetime'])\n",
    "data_projects.drop('project_submitted_datetime', axis=1, inplace=True)\n",
    "data_projects.sort_values(by=['Date'], inplace=True)\n",
    "\n",
    "\n",
    "# how to reorder columns pandas python: https://stackoverflow.com/a/13148611/4084039\n",
    "data_projects = data_projects[cols]\n",
    "\n",
    "\n",
    "data_projects.head(2)"
   ]
  },
  {
   "cell_type": "code",
   "execution_count": 6,
   "metadata": {},
   "outputs": [
    {
     "data": {
      "text/plain": [
       "1    92706\n",
       "0    16542\n",
       "Name: project_is_approved, dtype: int64"
      ]
     },
     "execution_count": 6,
     "metadata": {},
     "output_type": "execute_result"
    }
   ],
   "source": [
    "output_value_counts = data_projects['project_is_approved'].value_counts()\n",
    "output_value_counts"
   ]
  },
  {
   "cell_type": "markdown",
   "metadata": {},
   "source": [
    "<h1>2. PREPROCESSING</h1>"
   ]
  },
  {
   "cell_type": "code",
   "execution_count": 7,
   "metadata": {},
   "outputs": [],
   "source": [
    "# https://stackoverflow.com/a/47091490/4084039\n",
    "import re\n",
    "\n",
    "def decontracted(phrase):\n",
    "    # specific\n",
    "    phrase = re.sub(r\"won't\", \"will not\", phrase)\n",
    "    phrase = re.sub(r\"can\\'t\", \"can not\", phrase)\n",
    "\n",
    "    # general\n",
    "    phrase = re.sub(r\"n\\'t\", \" not\", phrase)\n",
    "    phrase = re.sub(r\"\\'re\", \" are\", phrase)\n",
    "    phrase = re.sub(r\"\\'s\", \" is\", phrase)\n",
    "    phrase = re.sub(r\"\\'d\", \" would\", phrase)\n",
    "    phrase = re.sub(r\"\\'ll\", \" will\", phrase)\n",
    "    phrase = re.sub(r\"\\'t\", \" not\", phrase)\n",
    "    phrase = re.sub(r\"\\'ve\", \" have\", phrase)\n",
    "    phrase = re.sub(r\"\\'m\", \" am\", phrase)\n",
    "    return phrase"
   ]
  },
  {
   "cell_type": "code",
   "execution_count": 8,
   "metadata": {},
   "outputs": [],
   "source": [
    "# https://gist.github.com/sebleier/554280\n",
    "\n",
    "stopwords= ['i', 'me', 'my', 'myself', 'we', 'our', 'ours', 'ourselves', 'you', \"you're\", \"you've\",\\\n",
    "            \"you'll\", \"you'd\", 'your', 'yours', 'yourself', 'yourselves', 'he', 'him', 'his', 'himself', \\\n",
    "            'she', \"she's\", 'her', 'hers', 'herself', 'it', \"it's\", 'its', 'itself', 'they', 'them', 'their',\\\n",
    "            'theirs', 'themselves', 'what', 'which', 'who', 'whom', 'this', 'that', \"that'll\", 'these', 'those', \\\n",
    "            'am', 'is', 'are', 'was', 'were', 'be', 'been', 'being', 'have', 'has', 'had', 'having', 'do', 'does', \\\n",
    "            'did', 'doing', 'a', 'an', 'the', 'and', 'but', 'if', 'or', 'because', 'as', 'until', 'while', 'of', \\\n",
    "            'at', 'by', 'for', 'with', 'about', 'against', 'between', 'into', 'through', 'during', 'before', 'after',\\\n",
    "            'above', 'below', 'to', 'from', 'up', 'down', 'in', 'out', 'on', 'off', 'over', 'under', 'again', 'further',\\\n",
    "            'then', 'once', 'here', 'there', 'when', 'where', 'why', 'how', 'all', 'any', 'both', 'each', 'few', 'more',\\\n",
    "            'most', 'other', 'some', 'such', 'only', 'own', 'same', 'so', 'than', 'too', 'very', \\\n",
    "            's', 't', 'can', 'will', 'just', 'don', \"don't\", 'should', \"should've\", 'now', 'd', 'll', 'm', 'o', 're', \\\n",
    "            've', 'y', 'ain', 'aren', \"aren't\", 'couldn', \"couldn't\", 'didn', \"didn't\", 'doesn', \"doesn't\", 'hadn',\\\n",
    "            \"hadn't\", 'hasn', \"hasn't\", 'haven', \"haven't\", 'isn', \"isn't\", 'ma', 'mightn', \"mightn't\", 'mustn',\\\n",
    "            \"mustn't\", 'needn', \"needn't\", 'shan', \"shan't\", 'shouldn', \"shouldn't\", 'wasn', \"wasn't\", 'weren', \"weren't\", \\\n",
    "            'won', \"won't\", 'wouldn', \"wouldn't\"]"
   ]
  },
  {
   "cell_type": "markdown",
   "metadata": {},
   "source": [
    "\n",
    "<h2>2.1 Project Categories</h2>"
   ]
  },
  {
   "cell_type": "code",
   "execution_count": 9,
   "metadata": {},
   "outputs": [
    {
     "name": "stdout",
     "output_type": "stream",
     "text": [
      "{'Math_Science': 41421, 'SpecialNeeds': 13642, 'Literacy_Language': 52239, 'AppliedLearning': 12135, 'History_Civics': 5914, 'Music_Arts': 10293, 'Health_Sports': 14223, 'Warmth': 1388, 'Care_Hunger': 1388}\n",
      "{'Warmth': 1388, 'Care_Hunger': 1388, 'History_Civics': 5914, 'Music_Arts': 10293, 'AppliedLearning': 12135, 'SpecialNeeds': 13642, 'Health_Sports': 14223, 'Math_Science': 41421, 'Literacy_Language': 52239}\n"
     ]
    }
   ],
   "source": [
    "#print(list(data_projects['project_subject_categories'].values))\n",
    "\n",
    "cats = list(data_projects['project_subject_categories'].values)\n",
    "cg_list = []\n",
    "category_list = []\n",
    "for cg in cats:\n",
    "    temp = \"\"\n",
    "    for j in cg.split(\",\"):\n",
    "        if 'The' in j.split():\n",
    "            j = j.replace('The','')\n",
    "        j = j.replace(' ','')\n",
    "        temp += j.strip()+' '\n",
    "        temp = temp.replace('&','_')\n",
    "    cg_list.append(temp)\n",
    "for i in cg_list:\n",
    "     i = i.strip()\n",
    "     category_list.append(i)\n",
    "# print(category_list)\n",
    "\n",
    "\n",
    "\n",
    "data_projects[\"clean_categories\"] = category_list\n",
    "data_projects.drop([\"project_subject_categories\"], axis = 1, inplace = True)\n",
    "# print(data_projects.head(2))\n",
    "\n",
    "#preprocessing\n",
    "# count of all the words in corpus python: https://stackoverflow.com/a/22898595/4084039\n",
    "from collections import Counter\n",
    "my_coll = Counter()\n",
    "for x in data_projects['clean_categories'].values:\n",
    "    my_coll.update(x.split())\n",
    "    \n",
    "my_coll = dict(my_coll)\n",
    "print(my_coll)\n",
    "sorted_coll_dict = dict(sorted(my_coll.items(), key=lambda x: x[1]))\n",
    "print((sorted_coll_dict))"
   ]
  },
  {
   "cell_type": "markdown",
   "metadata": {},
   "source": [
    "<h2>2.2 Project Subcategories</h2>"
   ]
  },
  {
   "cell_type": "code",
   "execution_count": 10,
   "metadata": {},
   "outputs": [
    {
     "name": "stdout",
     "output_type": "stream",
     "text": [
      "{'Economics': 269, 'CommunityService': 441, 'FinancialLiteracy': 568, 'ParentInvolvement': 677, 'Extracurricular': 810, 'Civics_Government': 815, 'ForeignLanguages': 890, 'NutritionEducation': 1355, 'Warmth': 1388, 'Care_Hunger': 1388, 'SocialSciences': 1920, 'PerformingArts': 1961, 'CharacterEducation': 2065, 'TeamSports': 2192, 'Other': 2372, 'College_CareerPrep': 2568, 'Music': 3145, 'History_Geography': 3171, 'Health_LifeScience': 4235, 'EarlyDevelopment': 4254, 'ESL': 4367, 'Gym_Fitness': 4509, 'EnvironmentalScience': 5591, 'VisualArts': 6278, 'Health_Wellness': 10234, 'AppliedSciences': 10816, 'SpecialNeeds': 13642, 'Literature_Writing': 22179, 'Mathematics': 28074, 'Literacy': 33700}\n"
     ]
    }
   ],
   "source": [
    "cats = list(data_projects['project_subject_subcategories'].values)\n",
    "cg_list = []\n",
    "category_list = []\n",
    "for cg in cats:\n",
    "    temp = \"\"\n",
    "    for j in cg.split(\",\"):\n",
    "        if 'The' in j.split():\n",
    "            j = j.replace('The','')\n",
    "        j = j.replace(' ','')\n",
    "        temp += j.strip()+' '\n",
    "        temp = temp.replace('&','_')\n",
    "    cg_list.append(temp)\n",
    "for i in cg_list:\n",
    "     i = i.strip()\n",
    "     category_list.append(i)\n",
    "# print(category_list)    \n",
    "\n",
    "data_projects[\"clean_sub_categories\"] = category_list\n",
    "data_projects.drop([\"project_subject_subcategories\"], axis = 1, inplace = True)\n",
    "# print(data_projects.head(2))\n",
    "\n",
    "\n",
    "from collections import Counter\n",
    "my_coll_sub = Counter()\n",
    "for x in data_projects['clean_sub_categories'].values:\n",
    "    my_coll_sub.update(x.split())\n",
    "    \n",
    "my_coll_sub = dict(my_coll_sub)\n",
    "sorted_coll_dict_sub = dict(sorted(my_coll_sub.items(), key=lambda x: x[1]))\n",
    "print(sorted_coll_dict_sub)\n"
   ]
  },
  {
   "cell_type": "markdown",
   "metadata": {},
   "source": [
    "<h2> 2.3 Project Essay </h2>\n"
   ]
  },
  {
   "cell_type": "code",
   "execution_count": 11,
   "metadata": {},
   "outputs": [],
   "source": [
    "data_projects['essay'] = data_projects['project_essay_1'].map(str) \\\n",
    "                 + data_projects['project_essay_2'].map(str) \\\n",
    "                 + data_projects['project_essay_3'].map(str) \\\n",
    "                 + data_projects['project_essay_4'].map(str)"
   ]
  },
  {
   "cell_type": "code",
   "execution_count": 12,
   "metadata": {},
   "outputs": [
    {
     "name": "stderr",
     "output_type": "stream",
     "text": [
      "100%|████████████████████████████████| 109248/109248 [01:47<00:00, 1012.74it/s]\n"
     ]
    }
   ],
   "source": [
    "from tqdm import tqdm\n",
    "preprocessed_essay = []\n",
    "\n",
    "for item in tqdm(data_projects['essay'].values):\n",
    "        it = decontracted(item)\n",
    "        it = it.replace('\\\\r', ' ')\n",
    "        it = it.replace('\\\\\"', ' ')\n",
    "        it = it.replace('\\\\n', ' ')\n",
    "        it = re.sub('[^A-Za-z0-9]+', ' ',it)\n",
    "        it = ' '.join(e for e in it.split() if e not in stopwords)\n",
    "        preprocessed_essay.append(it.lower().strip())\n",
    "        \n",
    "preprocessed_essay[1000]\n",
    "data_projects['preprocessed_essays'] = preprocessed_essay"
   ]
  },
  {
   "cell_type": "markdown",
   "metadata": {},
   "source": [
    "<h2> 2.4 PROJECT TITLE</h2>"
   ]
  },
  {
   "cell_type": "code",
   "execution_count": 13,
   "metadata": {},
   "outputs": [
    {
     "name": "stderr",
     "output_type": "stream",
     "text": [
      "100%|███████████████████████████████| 109248/109248 [00:05<00:00, 19868.30it/s]\n"
     ]
    }
   ],
   "source": [
    "# Combining all the above statemennts \n",
    "from tqdm import tqdm\n",
    "preprocessed_titles = []\n",
    "# tqdm is for printing the status bar\n",
    "for sentance in tqdm(data_projects['project_title'].values):\n",
    "    sent = decontracted(sentance)\n",
    "    sent = sent.replace('\\\\r', ' ')\n",
    "    sent = sent.replace('\\\\\"', ' ')\n",
    "    sent = sent.replace('\\\\n', ' ')\n",
    "    sent = re.sub('[^A-Za-z0-9]+', ' ', sent)\n",
    "    # https://gist.github.com/sebleier/554280\n",
    "    sent = ' '.join(e for e in sent.split() if e not in stopwords)\n",
    "    preprocessed_titles.append(sent.lower().strip())\n",
    "data_projects['preprocessed_titles'] = preprocessed_titles"
   ]
  },
  {
   "cell_type": "markdown",
   "metadata": {},
   "source": [
    "<h2> 2.5. PROJECT GRADE</h2>"
   ]
  },
  {
   "cell_type": "code",
   "execution_count": 14,
   "metadata": {},
   "outputs": [
    {
     "data": {
      "text/plain": [
       "Grades PreK-2    44225\n",
       "Grades 3-5       37137\n",
       "Grades 6-8       16923\n",
       "Grades 9-12      10963\n",
       "Name: project_grade_category, dtype: int64"
      ]
     },
     "execution_count": 14,
     "metadata": {},
     "output_type": "execute_result"
    }
   ],
   "source": [
    "data_projects['project_grade_category'].value_counts()"
   ]
  },
  {
   "cell_type": "code",
   "execution_count": 15,
   "metadata": {},
   "outputs": [
    {
     "data": {
      "text/plain": [
       "Grades_PreK-2    44225\n",
       "Grades_3-5       37137\n",
       "Grades_6-8       16923\n",
       "Grades_9-12      10963\n",
       "Name: project_grade_category, dtype: int64"
      ]
     },
     "execution_count": 15,
     "metadata": {},
     "output_type": "execute_result"
    }
   ],
   "source": [
    "data_projects['project_grade_category'] = data_projects['project_grade_category'].str.replace(\" \", \"_\")\n",
    "data_projects['project_grade_category'].value_counts()"
   ]
  },
  {
   "cell_type": "markdown",
   "metadata": {},
   "source": [
    "<h2> 2.6. TEACHER PREFIX PREPROCESSING </h2>"
   ]
  },
  {
   "cell_type": "code",
   "execution_count": 16,
   "metadata": {},
   "outputs": [
    {
     "data": {
      "text/plain": [
       "Mrs.       57269\n",
       "Ms.        38955\n",
       "Mr.        10648\n",
       "Teacher     2360\n",
       "Dr.           13\n",
       "Name: teacher_prefix, dtype: int64"
      ]
     },
     "execution_count": 16,
     "metadata": {},
     "output_type": "execute_result"
    }
   ],
   "source": [
    "data_projects['teacher_prefix'].value_counts()"
   ]
  },
  {
   "cell_type": "code",
   "execution_count": 17,
   "metadata": {},
   "outputs": [
    {
     "data": {
      "text/plain": [
       "Mrs        57269\n",
       "Ms         38955\n",
       "Mr         10648\n",
       "Teacher     2360\n",
       "Dr            13\n",
       "Name: teacher_prefix, dtype: int64"
      ]
     },
     "execution_count": 17,
     "metadata": {},
     "output_type": "execute_result"
    }
   ],
   "source": [
    "data_projects['teacher_prefix'] = data_projects['teacher_prefix'].str.replace(\".\", \"\")\n",
    "data_projects['teacher_prefix'].value_counts()"
   ]
  },
  {
   "cell_type": "markdown",
   "metadata": {},
   "source": [
    "<h2><font color='red'> $2.7$ Adding auxiliary derived features </font></h2>\n",
    "<h3><font color='blue'> $2.7.1$ Sentiment Score </font></h3>"
   ]
  },
  {
   "cell_type": "code",
   "execution_count": 18,
   "metadata": {},
   "outputs": [
    {
     "name": "stderr",
     "output_type": "stream",
     "text": [
      "100%|█████████████████████████████████| 109248/109248 [08:19<00:00, 218.85it/s]\n"
     ]
    }
   ],
   "source": [
    "#https://medium.com/analytics-vidhya/simplifying-social-media-sentiment-analysis-using-vader-in-python-f9e6ec6fc52f\n",
    "import warnings\n",
    "warnings.filterwarnings(\"ignore\")\n",
    "import nltk\n",
    "from nltk.sentiment.vader import SentimentIntensityAnalyzer\n",
    "\n",
    "sentiment_id = SentimentIntensityAnalyzer()\n",
    "essay = data_projects['essay']\n",
    "essay_sentiments = []\n",
    "\n",
    "for e in tqdm(essay):\n",
    "    scores = sentiment_id.polarity_scores(e)\n",
    "    essay_sentiments.append(scores['compound']) #Considering compound as a criteria.\n",
    "\n",
    "data_projects['essay_sentiment'] = essay_sentiments"
   ]
  },
  {
   "cell_type": "markdown",
   "metadata": {},
   "source": [
    "<h3><font color='blue'> $2.7.1$ number of words of project titles and essays </font></h3>"
   ]
  },
  {
   "cell_type": "code",
   "execution_count": 19,
   "metadata": {},
   "outputs": [],
   "source": [
    "for col, new_col in [('project_title', 'title_size'), ('essay', 'essay_size')]:\n",
    "    data_col = data_projects[col]\n",
    "    col_size = []\n",
    "    for i in data_col:\n",
    "        i = decontracted(i)\n",
    "        col_size.append(len(i.split()))\n",
    "    data_projects[new_col] = col_size"
   ]
  },
  {
   "cell_type": "code",
   "execution_count": 11,
   "metadata": {},
   "outputs": [
    {
     "name": "stdout",
     "output_type": "stream",
     "text": [
      "continue...\n"
     ]
    }
   ],
   "source": [
    "if not os.path.isfile('final_data_features.csv'):\n",
    "      data_projects.to_csv(\"final_data_features.csv\", index=False)\n",
    "else:\n",
    "    data_projects = pd.read_csv(\"final_data_features.csv\")\n",
    "    print(\"continue...\")"
   ]
  },
  {
   "cell_type": "code",
   "execution_count": 12,
   "metadata": {},
   "outputs": [
    {
     "data": {
      "text/html": [
       "<div>\n",
       "<style scoped>\n",
       "    .dataframe tbody tr th:only-of-type {\n",
       "        vertical-align: middle;\n",
       "    }\n",
       "\n",
       "    .dataframe tbody tr th {\n",
       "        vertical-align: top;\n",
       "    }\n",
       "\n",
       "    .dataframe thead th {\n",
       "        text-align: right;\n",
       "    }\n",
       "</style>\n",
       "<table border=\"1\" class=\"dataframe\">\n",
       "  <thead>\n",
       "    <tr style=\"text-align: right;\">\n",
       "      <th></th>\n",
       "      <th>Unnamed: 0</th>\n",
       "      <th>id</th>\n",
       "      <th>teacher_id</th>\n",
       "      <th>teacher_prefix</th>\n",
       "      <th>school_state</th>\n",
       "      <th>Date</th>\n",
       "      <th>project_grade_category</th>\n",
       "      <th>project_title</th>\n",
       "      <th>project_essay_1</th>\n",
       "      <th>project_essay_2</th>\n",
       "      <th>...</th>\n",
       "      <th>teacher_number_of_previously_posted_projects</th>\n",
       "      <th>project_is_approved</th>\n",
       "      <th>clean_categories</th>\n",
       "      <th>clean_sub_categories</th>\n",
       "      <th>essay</th>\n",
       "      <th>preprocessed_essays</th>\n",
       "      <th>preprocessed_titles</th>\n",
       "      <th>essay_sentiment</th>\n",
       "      <th>title_size</th>\n",
       "      <th>essay_size</th>\n",
       "    </tr>\n",
       "  </thead>\n",
       "  <tbody>\n",
       "    <tr>\n",
       "      <th>0</th>\n",
       "      <td>8393</td>\n",
       "      <td>p205479</td>\n",
       "      <td>2bf07ba08945e5d8b2a3f269b2b3cfe5</td>\n",
       "      <td>Mrs</td>\n",
       "      <td>CA</td>\n",
       "      <td>2016-04-27 00:27:36</td>\n",
       "      <td>Grades_PreK-2</td>\n",
       "      <td>Engineering STEAM into the Primary Classroom</td>\n",
       "      <td>I have been fortunate enough to use the Fairy ...</td>\n",
       "      <td>My students come from a variety of backgrounds...</td>\n",
       "      <td>...</td>\n",
       "      <td>53</td>\n",
       "      <td>1</td>\n",
       "      <td>Math_Science</td>\n",
       "      <td>AppliedSciences Health_LifeScience</td>\n",
       "      <td>I have been fortunate enough to use the Fairy ...</td>\n",
       "      <td>i fortunate enough use fairy tale stem kits cl...</td>\n",
       "      <td>engineering steam primary classroom</td>\n",
       "      <td>0.9885</td>\n",
       "      <td>6</td>\n",
       "      <td>288</td>\n",
       "    </tr>\n",
       "    <tr>\n",
       "      <th>1</th>\n",
       "      <td>37728</td>\n",
       "      <td>p043609</td>\n",
       "      <td>3f60494c61921b3b43ab61bdde2904df</td>\n",
       "      <td>Ms</td>\n",
       "      <td>UT</td>\n",
       "      <td>2016-04-27 00:31:25</td>\n",
       "      <td>Grades_3-5</td>\n",
       "      <td>Sensory Tools for Focus</td>\n",
       "      <td>Imagine being 8-9 years old. You're in your th...</td>\n",
       "      <td>Most of my students have autism, anxiety, anot...</td>\n",
       "      <td>...</td>\n",
       "      <td>4</td>\n",
       "      <td>1</td>\n",
       "      <td>SpecialNeeds</td>\n",
       "      <td>SpecialNeeds</td>\n",
       "      <td>Imagine being 8-9 years old. You're in your th...</td>\n",
       "      <td>imagine 8 9 years old you third grade classroo...</td>\n",
       "      <td>sensory tools focus</td>\n",
       "      <td>0.9950</td>\n",
       "      <td>4</td>\n",
       "      <td>349</td>\n",
       "    </tr>\n",
       "    <tr>\n",
       "      <th>2</th>\n",
       "      <td>74477</td>\n",
       "      <td>p189804</td>\n",
       "      <td>4a97f3a390bfe21b99cf5e2b81981c73</td>\n",
       "      <td>Mrs</td>\n",
       "      <td>CA</td>\n",
       "      <td>2016-04-27 00:46:53</td>\n",
       "      <td>Grades_PreK-2</td>\n",
       "      <td>Mobile Learning with a Mobile Listening Center</td>\n",
       "      <td>Having a class of 24 students comes with diver...</td>\n",
       "      <td>I have a class of twenty-four kindergarten stu...</td>\n",
       "      <td>...</td>\n",
       "      <td>10</td>\n",
       "      <td>1</td>\n",
       "      <td>Literacy_Language</td>\n",
       "      <td>Literacy</td>\n",
       "      <td>Having a class of 24 students comes with diver...</td>\n",
       "      <td>having class 24 students comes diverse learner...</td>\n",
       "      <td>mobile learning mobile listening center</td>\n",
       "      <td>0.9866</td>\n",
       "      <td>7</td>\n",
       "      <td>177</td>\n",
       "    </tr>\n",
       "    <tr>\n",
       "      <th>3</th>\n",
       "      <td>100660</td>\n",
       "      <td>p234804</td>\n",
       "      <td>cbc0e38f522143b86d372f8b43d4cff3</td>\n",
       "      <td>Mrs</td>\n",
       "      <td>GA</td>\n",
       "      <td>2016-04-27 00:53:00</td>\n",
       "      <td>Grades_PreK-2</td>\n",
       "      <td>Flexible Seating for Flexible Learning</td>\n",
       "      <td>I recently read an article about giving studen...</td>\n",
       "      <td>I teach at a low-income (Title 1) school. Ever...</td>\n",
       "      <td>...</td>\n",
       "      <td>2</td>\n",
       "      <td>1</td>\n",
       "      <td>AppliedLearning</td>\n",
       "      <td>EarlyDevelopment</td>\n",
       "      <td>I recently read an article about giving studen...</td>\n",
       "      <td>i recently read article giving students choice...</td>\n",
       "      <td>flexible seating flexible learning</td>\n",
       "      <td>0.9595</td>\n",
       "      <td>5</td>\n",
       "      <td>225</td>\n",
       "    </tr>\n",
       "    <tr>\n",
       "      <th>4</th>\n",
       "      <td>33679</td>\n",
       "      <td>p137682</td>\n",
       "      <td>06f6e62e17de34fcf81020c77549e1d5</td>\n",
       "      <td>Mrs</td>\n",
       "      <td>WA</td>\n",
       "      <td>2016-04-27 01:05:25</td>\n",
       "      <td>Grades_3-5</td>\n",
       "      <td>Going Deep: The Art of Inner Thinking!</td>\n",
       "      <td>My students crave challenge, they eat obstacle...</td>\n",
       "      <td>We are an urban, public k-5 elementary school....</td>\n",
       "      <td>...</td>\n",
       "      <td>2</td>\n",
       "      <td>1</td>\n",
       "      <td>Literacy_Language</td>\n",
       "      <td>Literacy</td>\n",
       "      <td>My students crave challenge, they eat obstacle...</td>\n",
       "      <td>my students crave challenge eat obstacles brea...</td>\n",
       "      <td>going deep the art inner thinking</td>\n",
       "      <td>0.9885</td>\n",
       "      <td>7</td>\n",
       "      <td>185</td>\n",
       "    </tr>\n",
       "  </tbody>\n",
       "</table>\n",
       "<p>5 rows × 23 columns</p>\n",
       "</div>"
      ],
      "text/plain": [
       "   Unnamed: 0       id                        teacher_id teacher_prefix  \\\n",
       "0        8393  p205479  2bf07ba08945e5d8b2a3f269b2b3cfe5            Mrs   \n",
       "1       37728  p043609  3f60494c61921b3b43ab61bdde2904df             Ms   \n",
       "2       74477  p189804  4a97f3a390bfe21b99cf5e2b81981c73            Mrs   \n",
       "3      100660  p234804  cbc0e38f522143b86d372f8b43d4cff3            Mrs   \n",
       "4       33679  p137682  06f6e62e17de34fcf81020c77549e1d5            Mrs   \n",
       "\n",
       "  school_state                 Date project_grade_category  \\\n",
       "0           CA  2016-04-27 00:27:36          Grades_PreK-2   \n",
       "1           UT  2016-04-27 00:31:25             Grades_3-5   \n",
       "2           CA  2016-04-27 00:46:53          Grades_PreK-2   \n",
       "3           GA  2016-04-27 00:53:00          Grades_PreK-2   \n",
       "4           WA  2016-04-27 01:05:25             Grades_3-5   \n",
       "\n",
       "                                    project_title  \\\n",
       "0    Engineering STEAM into the Primary Classroom   \n",
       "1                         Sensory Tools for Focus   \n",
       "2  Mobile Learning with a Mobile Listening Center   \n",
       "3          Flexible Seating for Flexible Learning   \n",
       "4          Going Deep: The Art of Inner Thinking!   \n",
       "\n",
       "                                     project_essay_1  \\\n",
       "0  I have been fortunate enough to use the Fairy ...   \n",
       "1  Imagine being 8-9 years old. You're in your th...   \n",
       "2  Having a class of 24 students comes with diver...   \n",
       "3  I recently read an article about giving studen...   \n",
       "4  My students crave challenge, they eat obstacle...   \n",
       "\n",
       "                                     project_essay_2  ...  \\\n",
       "0  My students come from a variety of backgrounds...  ...   \n",
       "1  Most of my students have autism, anxiety, anot...  ...   \n",
       "2  I have a class of twenty-four kindergarten stu...  ...   \n",
       "3  I teach at a low-income (Title 1) school. Ever...  ...   \n",
       "4  We are an urban, public k-5 elementary school....  ...   \n",
       "\n",
       "  teacher_number_of_previously_posted_projects project_is_approved  \\\n",
       "0                                           53                   1   \n",
       "1                                            4                   1   \n",
       "2                                           10                   1   \n",
       "3                                            2                   1   \n",
       "4                                            2                   1   \n",
       "\n",
       "    clean_categories                clean_sub_categories  \\\n",
       "0       Math_Science  AppliedSciences Health_LifeScience   \n",
       "1       SpecialNeeds                        SpecialNeeds   \n",
       "2  Literacy_Language                            Literacy   \n",
       "3    AppliedLearning                    EarlyDevelopment   \n",
       "4  Literacy_Language                            Literacy   \n",
       "\n",
       "                                               essay  \\\n",
       "0  I have been fortunate enough to use the Fairy ...   \n",
       "1  Imagine being 8-9 years old. You're in your th...   \n",
       "2  Having a class of 24 students comes with diver...   \n",
       "3  I recently read an article about giving studen...   \n",
       "4  My students crave challenge, they eat obstacle...   \n",
       "\n",
       "                                 preprocessed_essays  \\\n",
       "0  i fortunate enough use fairy tale stem kits cl...   \n",
       "1  imagine 8 9 years old you third grade classroo...   \n",
       "2  having class 24 students comes diverse learner...   \n",
       "3  i recently read article giving students choice...   \n",
       "4  my students crave challenge eat obstacles brea...   \n",
       "\n",
       "                       preprocessed_titles essay_sentiment title_size  \\\n",
       "0      engineering steam primary classroom          0.9885          6   \n",
       "1                      sensory tools focus          0.9950          4   \n",
       "2  mobile learning mobile listening center          0.9866          7   \n",
       "3       flexible seating flexible learning          0.9595          5   \n",
       "4        going deep the art inner thinking          0.9885          7   \n",
       "\n",
       "  essay_size  \n",
       "0        288  \n",
       "1        349  \n",
       "2        177  \n",
       "3        225  \n",
       "4        185  \n",
       "\n",
       "[5 rows x 23 columns]"
      ]
     },
     "execution_count": 12,
     "metadata": {},
     "output_type": "execute_result"
    }
   ],
   "source": [
    "data_projects.head()"
   ]
  },
  {
   "cell_type": "code",
   "execution_count": 13,
   "metadata": {},
   "outputs": [
    {
     "data": {
      "text/plain": [
       "(50000, 23)"
      ]
     },
     "execution_count": 13,
     "metadata": {},
     "output_type": "execute_result"
    }
   ],
   "source": [
    "data_projects = data_projects.iloc[:50000,:]\n",
    "data_projects.shape"
   ]
  },
  {
   "cell_type": "markdown",
   "metadata": {},
   "source": [
    "<h1> 3. Preparing Data for Models </h1>\n"
   ]
  },
  {
   "cell_type": "code",
   "execution_count": 14,
   "metadata": {},
   "outputs": [],
   "source": [
    "y = data_projects['project_is_approved'].values\n",
    "data_projects.drop(['project_is_approved'], axis = 1, inplace = True)\n",
    "X = data_projects"
   ]
  },
  {
   "cell_type": "code",
   "execution_count": 15,
   "metadata": {},
   "outputs": [
    {
     "data": {
      "text/html": [
       "<div>\n",
       "<style scoped>\n",
       "    .dataframe tbody tr th:only-of-type {\n",
       "        vertical-align: middle;\n",
       "    }\n",
       "\n",
       "    .dataframe tbody tr th {\n",
       "        vertical-align: top;\n",
       "    }\n",
       "\n",
       "    .dataframe thead th {\n",
       "        text-align: right;\n",
       "    }\n",
       "</style>\n",
       "<table border=\"1\" class=\"dataframe\">\n",
       "  <thead>\n",
       "    <tr style=\"text-align: right;\">\n",
       "      <th></th>\n",
       "      <th>Unnamed: 0</th>\n",
       "      <th>id</th>\n",
       "      <th>teacher_id</th>\n",
       "      <th>teacher_prefix</th>\n",
       "      <th>school_state</th>\n",
       "      <th>Date</th>\n",
       "      <th>project_grade_category</th>\n",
       "      <th>project_title</th>\n",
       "      <th>project_essay_1</th>\n",
       "      <th>project_essay_2</th>\n",
       "      <th>...</th>\n",
       "      <th>project_resource_summary</th>\n",
       "      <th>teacher_number_of_previously_posted_projects</th>\n",
       "      <th>clean_categories</th>\n",
       "      <th>clean_sub_categories</th>\n",
       "      <th>essay</th>\n",
       "      <th>preprocessed_essays</th>\n",
       "      <th>preprocessed_titles</th>\n",
       "      <th>essay_sentiment</th>\n",
       "      <th>title_size</th>\n",
       "      <th>essay_size</th>\n",
       "    </tr>\n",
       "  </thead>\n",
       "  <tbody>\n",
       "    <tr>\n",
       "      <th>0</th>\n",
       "      <td>8393</td>\n",
       "      <td>p205479</td>\n",
       "      <td>2bf07ba08945e5d8b2a3f269b2b3cfe5</td>\n",
       "      <td>Mrs</td>\n",
       "      <td>CA</td>\n",
       "      <td>2016-04-27 00:27:36</td>\n",
       "      <td>Grades_PreK-2</td>\n",
       "      <td>Engineering STEAM into the Primary Classroom</td>\n",
       "      <td>I have been fortunate enough to use the Fairy ...</td>\n",
       "      <td>My students come from a variety of backgrounds...</td>\n",
       "      <td>...</td>\n",
       "      <td>My students need STEM kits to learn critical s...</td>\n",
       "      <td>53</td>\n",
       "      <td>Math_Science</td>\n",
       "      <td>AppliedSciences Health_LifeScience</td>\n",
       "      <td>I have been fortunate enough to use the Fairy ...</td>\n",
       "      <td>i fortunate enough use fairy tale stem kits cl...</td>\n",
       "      <td>engineering steam primary classroom</td>\n",
       "      <td>0.9885</td>\n",
       "      <td>6</td>\n",
       "      <td>288</td>\n",
       "    </tr>\n",
       "  </tbody>\n",
       "</table>\n",
       "<p>1 rows × 22 columns</p>\n",
       "</div>"
      ],
      "text/plain": [
       "   Unnamed: 0       id                        teacher_id teacher_prefix  \\\n",
       "0        8393  p205479  2bf07ba08945e5d8b2a3f269b2b3cfe5            Mrs   \n",
       "\n",
       "  school_state                 Date project_grade_category  \\\n",
       "0           CA  2016-04-27 00:27:36          Grades_PreK-2   \n",
       "\n",
       "                                  project_title  \\\n",
       "0  Engineering STEAM into the Primary Classroom   \n",
       "\n",
       "                                     project_essay_1  \\\n",
       "0  I have been fortunate enough to use the Fairy ...   \n",
       "\n",
       "                                     project_essay_2  ...  \\\n",
       "0  My students come from a variety of backgrounds...  ...   \n",
       "\n",
       "                            project_resource_summary  \\\n",
       "0  My students need STEM kits to learn critical s...   \n",
       "\n",
       "  teacher_number_of_previously_posted_projects clean_categories  \\\n",
       "0                                           53     Math_Science   \n",
       "\n",
       "                 clean_sub_categories  \\\n",
       "0  AppliedSciences Health_LifeScience   \n",
       "\n",
       "                                               essay  \\\n",
       "0  I have been fortunate enough to use the Fairy ...   \n",
       "\n",
       "                                 preprocessed_essays  \\\n",
       "0  i fortunate enough use fairy tale stem kits cl...   \n",
       "\n",
       "                   preprocessed_titles essay_sentiment title_size  essay_size  \n",
       "0  engineering steam primary classroom          0.9885          6         288  \n",
       "\n",
       "[1 rows x 22 columns]"
      ]
     },
     "execution_count": 15,
     "metadata": {},
     "output_type": "execute_result"
    }
   ],
   "source": [
    "X.head(1)\n"
   ]
  },
  {
   "cell_type": "markdown",
   "metadata": {},
   "source": [
    "<h2><b> $3.1$ Splitting data into Train and test set</b></h2>"
   ]
  },
  {
   "cell_type": "code",
   "execution_count": 16,
   "metadata": {},
   "outputs": [],
   "source": [
    "#Since we perform hyper-parameter tuning using gridSearchCV, we need only train set and test set as cross validation set\n",
    "#is formed while performing gridSearchCV(python sklearn implementation)\n",
    "# default cv = 5 which performs 5 fold cross validatiion for sklearns's gridSearchcv\n",
    "#https://scikit-learn.org/stable/modules/generated/sklearn.model_selection.GridSearchCV.html\n",
    "from sklearn.model_selection import train_test_split\n",
    "X_train, X_test, y_train, y_test = train_test_split(X, y, test_size=0.20, stratify=y)"
   ]
  },
  {
   "cell_type": "code",
   "execution_count": 17,
   "metadata": {},
   "outputs": [
    {
     "name": "stdout",
     "output_type": "stream",
     "text": [
      "Shape  of Train dataset : (40000, 22)\n",
      "******************************\n",
      "Shape  of Test dataset : (10000, 22)\n"
     ]
    }
   ],
   "source": [
    "print(\"Shape  of Train dataset :\",X_train.shape)\n",
    "print(\"***\"*10)\n",
    "print(\"Shape  of Test dataset :\",X_test.shape)"
   ]
  },
  {
   "cell_type": "markdown",
   "metadata": {},
   "source": [
    "<h2> $3.2$ One Hot Encoding of categorical features: </h2>\n"
   ]
  },
  {
   "cell_type": "code",
   "execution_count": 18,
   "metadata": {},
   "outputs": [
    {
     "data": {
      "text/plain": [
       "Index(['Unnamed: 0', 'id', 'teacher_id', 'teacher_prefix', 'school_state',\n",
       "       'Date', 'project_grade_category', 'project_title', 'project_essay_1',\n",
       "       'project_essay_2', 'project_essay_3', 'project_essay_4',\n",
       "       'project_resource_summary',\n",
       "       'teacher_number_of_previously_posted_projects', 'clean_categories',\n",
       "       'clean_sub_categories', 'essay', 'preprocessed_essays',\n",
       "       'preprocessed_titles', 'essay_sentiment', 'title_size', 'essay_size'],\n",
       "      dtype='object')"
      ]
     },
     "execution_count": 18,
     "metadata": {},
     "output_type": "execute_result"
    }
   ],
   "source": [
    "data_projects.columns"
   ]
  },
  {
   "cell_type": "markdown",
   "metadata": {},
   "source": [
    "<h3> 3.2.2. clean_categories: </h3>"
   ]
  },
  {
   "cell_type": "code",
   "execution_count": 19,
   "metadata": {},
   "outputs": [
    {
     "name": "stdout",
     "output_type": "stream",
     "text": [
      "(40000, 9)\n",
      "(10000, 9)\n",
      "['Warmth', 'Care_Hunger', 'History_Civics', 'Music_Arts', 'AppliedLearning', 'SpecialNeeds', 'Health_Sports', 'Math_Science', 'Literacy_Language']\n"
     ]
    }
   ],
   "source": [
    "from sklearn.feature_extraction.text import CountVectorizer\n",
    "vec = CountVectorizer(vocabulary=list(sorted_coll_dict.keys()), lowercase=False, binary=True)\n",
    "vec.fit(X_train['clean_categories'].values)\n",
    "\n",
    "cat_one_hot_train = vec.transform(X_train['clean_categories'].values)\n",
    "cat_one_hot_test = vec.transform(X_test['clean_categories'].values)\n",
    "\n",
    "print(cat_one_hot_train.shape)\n",
    "print(cat_one_hot_test.shape)\n",
    "print(vec.get_feature_names())\n"
   ]
  },
  {
   "cell_type": "markdown",
   "metadata": {},
   "source": [
    "<h3> 3.2.3 clean_sub_categories:</h3>"
   ]
  },
  {
   "cell_type": "code",
   "execution_count": 20,
   "metadata": {},
   "outputs": [
    {
     "name": "stdout",
     "output_type": "stream",
     "text": [
      "(40000, 30)\n",
      "(10000, 30)\n",
      "['Economics', 'CommunityService', 'FinancialLiteracy', 'ParentInvolvement', 'Extracurricular', 'Civics_Government', 'ForeignLanguages', 'NutritionEducation', 'Warmth', 'Care_Hunger', 'SocialSciences', 'PerformingArts', 'CharacterEducation', 'TeamSports', 'Other', 'College_CareerPrep', 'Music', 'History_Geography', 'Health_LifeScience', 'EarlyDevelopment', 'ESL', 'Gym_Fitness', 'EnvironmentalScience', 'VisualArts', 'Health_Wellness', 'AppliedSciences', 'SpecialNeeds', 'Literature_Writing', 'Mathematics', 'Literacy']\n"
     ]
    }
   ],
   "source": [
    "from sklearn.feature_extraction.text import CountVectorizer\n",
    "vec = CountVectorizer(vocabulary=list(sorted_coll_dict_sub.keys()),lowercase=False, binary=True)\n",
    "vec.fit(X_train['clean_categories'].values)\n",
    "\n",
    "sub_cat_one_hot_train = vec.transform(X_train['clean_categories'].values)\n",
    "sub_cat_one_hot_test = vec.transform(X_test['clean_categories'].values)\n",
    "\n",
    "print(sub_cat_one_hot_train.shape)\n",
    "print(sub_cat_one_hot_test.shape)\n",
    "print(vec.get_feature_names())\n"
   ]
  },
  {
   "cell_type": "markdown",
   "metadata": {},
   "source": [
    "<h3> 3.2.4. school_state </h3>"
   ]
  },
  {
   "cell_type": "code",
   "execution_count": 21,
   "metadata": {},
   "outputs": [],
   "source": [
    "state = Counter()\n",
    "for st in data_projects['school_state'].values:\n",
    "    state.update(st.split())\n",
    "dict_state = dict(state)\n",
    "sorted_state_dict = dict(sorted(state.items(), key=lambda x: x[1]))"
   ]
  },
  {
   "cell_type": "code",
   "execution_count": 22,
   "metadata": {},
   "outputs": [
    {
     "name": "stdout",
     "output_type": "stream",
     "text": [
      "Shape of Train data - one hot encoding (40000, 51)\n",
      "Shape of Test data - one hot encoding (10000, 51)\n",
      "['WY', 'VT', 'ND', 'MT', 'RI', 'SD', 'NH', 'NE', 'AK', 'DE', 'HI', 'ME', 'NM', 'DC', 'WV', 'KS', 'ID', 'IA', 'CO', 'MN', 'AR', 'KY', 'MS', 'NV', 'OR', 'CT', 'AL', 'MD', 'NJ', 'WI', 'TN', 'VA', 'UT', 'AZ', 'WA', 'MA', 'OK', 'OH', 'LA', 'IN', 'MO', 'MI', 'PA', 'SC', 'IL', 'GA', 'NC', 'NY', 'FL', 'TX', 'CA']\n"
     ]
    }
   ],
   "source": [
    "vec = CountVectorizer(vocabulary=list(sorted_state_dict.keys()), lowercase=False, binary=True)\n",
    "vec.fit(X_train['school_state'].values)\n",
    "\n",
    "school_state_one_hot_train = vec.transform(X_train['school_state'].values)\n",
    "school_state_one_hot_test = vec.transform(X_test['school_state'].values)\n",
    "\n",
    "print(\"Shape of Train data - one hot encoding\",school_state_one_hot_train.shape)\n",
    "print(\"Shape of Test data - one hot encoding\",school_state_one_hot_test.shape)\n",
    "print(vec.get_feature_names())"
   ]
  },
  {
   "cell_type": "markdown",
   "metadata": {},
   "source": [
    "<h3> 3.2.5. PROJECT GRADE CATEGORIES: </h3>"
   ]
  },
  {
   "cell_type": "code",
   "execution_count": 23,
   "metadata": {},
   "outputs": [],
   "source": [
    "grade = Counter()\n",
    "for gd in data_projects['project_grade_category'].values:\n",
    "    grade.update(gd.split())\n",
    "dict_grade = dict(grade)\n",
    "sorted_grade_dict = dict(sorted(dict_grade.items(), key=lambda x: x[1]))"
   ]
  },
  {
   "cell_type": "code",
   "execution_count": 24,
   "metadata": {},
   "outputs": [
    {
     "name": "stdout",
     "output_type": "stream",
     "text": [
      "Shape of Train data - one hot encoding (40000, 4)\n",
      "Shape of Test data - one hot encoding (10000, 4)\n",
      "['Grades_9-12', 'Grades_6-8', 'Grades_3-5', 'Grades_PreK-2']\n"
     ]
    }
   ],
   "source": [
    "vec = CountVectorizer(vocabulary=list(sorted_grade_dict.keys()), lowercase=False, binary=True)\n",
    "vec.fit(X_train['project_grade_category'].values)\n",
    "\n",
    "grade_one_hot_train = vec.transform(X_train['school_state'].values)\n",
    "grade_one_hot_test = vec.transform(X_test['school_state'].values)\n",
    "\n",
    "print(\"Shape of Train data - one hot encoding\",grade_one_hot_train.shape)\n",
    "print(\"Shape of Test data - one hot encoding\",grade_one_hot_test.shape)\n",
    "\n",
    "print(vec.get_feature_names())"
   ]
  },
  {
   "cell_type": "markdown",
   "metadata": {},
   "source": [
    "<h3> 3.2.6. teacher_prefix </h3>"
   ]
  },
  {
   "cell_type": "code",
   "execution_count": 25,
   "metadata": {},
   "outputs": [],
   "source": [
    "prefix = Counter()\n",
    "for tp in data_projects['teacher_prefix'].values:\n",
    "    tp = str(tp)\n",
    "    prefix.update(tp.split())\n",
    "\n",
    "dict_prefix = dict(prefix)\n",
    "sorted_teacher_prefix_dict = dict(sorted(dict_prefix.items(), key=lambda x: x[1]))"
   ]
  },
  {
   "cell_type": "code",
   "execution_count": 26,
   "metadata": {},
   "outputs": [
    {
     "name": "stdout",
     "output_type": "stream",
     "text": [
      "Shape of Train data - one hot encoding (40000, 6)\n",
      "Shape of Test data - one hot encoding  (10000, 6)\n",
      "['nan', 'Dr', 'Teacher', 'Mr', 'Ms', 'Mrs']\n"
     ]
    }
   ],
   "source": [
    "vec = CountVectorizer(vocabulary=list(sorted_teacher_prefix_dict.keys()), lowercase=False, binary=True)\n",
    "vec.fit(X_train['teacher_prefix'].values.astype(\"U\"))\n",
    "\n",
    "teacher_prefix_one_hot_train = vec.transform(X_train['teacher_prefix'].values.astype(\"U\"))\n",
    "teacher_prefix_one_hot_test = vec.transform(X_test['teacher_prefix'].values.astype(\"U\"))\n",
    "\n",
    "print(\"Shape of Train data - one hot encoding\",teacher_prefix_one_hot_train.shape)\n",
    "print(\"Shape of Test data - one hot encoding \",teacher_prefix_one_hot_test.shape)\n",
    "\n",
    "print(vec.get_feature_names())"
   ]
  },
  {
   "cell_type": "code",
   "execution_count": 10,
   "metadata": {},
   "outputs": [],
   "source": []
  },
  {
   "cell_type": "code",
   "execution_count": 11,
   "metadata": {},
   "outputs": [],
   "source": []
  },
  {
   "cell_type": "code",
   "execution_count": 12,
   "metadata": {},
   "outputs": [],
   "source": []
  },
  {
   "cell_type": "code",
   "execution_count": 13,
   "metadata": {},
   "outputs": [
    {
     "name": "stdout",
     "output_type": "stream",
     "text": [
      "[[3. 2. 2.]\n",
      " [2. 4. 1.]\n",
      " [3. 2. 2.]]\n"
     ]
    }
   ],
   "source": [
    "print(co_occur_matrix)"
   ]
  },
  {
   "cell_type": "code",
   "execution_count": 27,
   "metadata": {},
   "outputs": [],
   "source": [
    "essay_title_list = (list(X_train['preprocessed_essays'])+list(X_test['preprocessed_titles']))\n",
    "\n",
    "tfidf_vect = TfidfVectorizer()\n",
    "tfidf_vect.fit_transform(essay_title_list)\n",
    "\n",
    "idf_score = tfidf_vect.idf_\n",
    "feature_names  = tfidf_vect.get_feature_names() \n",
    "\n",
    "idf_score_features = []\n",
    "for i in range(len(idf_score)):\n",
    "    idf_score_features.append([idf_score[i],feature_names[i]])"
   ]
  },
  {
   "cell_type": "code",
   "execution_count": 28,
   "metadata": {},
   "outputs": [],
   "source": [
    "idf_score_features.sort(key = lambda x: x[0] , reverse=True)\n",
    "idf_score_features = idf_score_features[:2000]"
   ]
  },
  {
   "cell_type": "code",
   "execution_count": 29,
   "metadata": {},
   "outputs": [],
   "source": [
    "#Co-occurence matrix\n",
    "co_occur_matrix = np.zeros((2000,2000))\n",
    "window_size = 5\n",
    "\n",
    "final_features_2000 = []\n",
    "for i in range(2000):\n",
    "    final_features_2000.append(idf_score_features[i][1])"
   ]
  },
  {
   "cell_type": "code",
   "execution_count": 30,
   "metadata": {},
   "outputs": [],
   "source": [
    "for x in essay_title_list:\n",
    "    words = x.split()\n",
    "    for id,word in enumerate(words):\n",
    "        if word in final_features_2000:\n",
    "            for i in range(max(0,id - window_size),min(id + window_size,len(words))):\n",
    "                if words[i] in final_features_2000:\n",
    "                    co_occur_matrix[final_features_2000.index(words[i]),final_features_2000.index(word)]+=1"
   ]
  },
  {
   "cell_type": "code",
   "execution_count": 31,
   "metadata": {},
   "outputs": [
    {
     "data": {
      "text/plain": [
       "(2000, 2000)"
      ]
     },
     "execution_count": 31,
     "metadata": {},
     "output_type": "execute_result"
    }
   ],
   "source": [
    "co_occur_matrix.shape"
   ]
  },
  {
   "cell_type": "code",
   "execution_count": 32,
   "metadata": {},
   "outputs": [],
   "source": [
    "with open('co_occur_matrix.pkl','wb') as f:\n",
    "    pickle.dump(co_occur_matrix, f)"
   ]
  },
  {
   "cell_type": "code",
   "execution_count": 33,
   "metadata": {},
   "outputs": [],
   "source": [
    "co_occur_matrix = np.array(co_occur_matrix)"
   ]
  },
  {
   "cell_type": "code",
   "execution_count": 34,
   "metadata": {},
   "outputs": [
    {
     "name": "stdout",
     "output_type": "stream",
     "text": [
      "n_components= 10 variance= 0.08402300893771256\n",
      "n_components= 30 variance= 0.1769713732202846\n",
      "n_components= 50 variance= 0.23078361443656797\n",
      "n_components= 100 variance= 0.30061861057286315\n",
      "n_components= 200 variance= 0.38889887978436805\n",
      "n_components= 300 variance= 0.42376121395508265\n",
      "n_components= 400 variance= 0.45862068499789727\n",
      "n_components= 500 variance= 0.49347061226174116\n",
      "n_components= 1000 variance= 0.6677560508192523\n",
      "n_components= 1200 variance= 0.737459836083392\n",
      "n_components= 1500 variance= 0.842047692510348\n",
      "n_components= 1600 variance= 0.8768986180468028\n",
      "n_components= 1700 variance= 0.9117535029013584\n",
      "n_components= 1800 variance= 0.9466201107747396\n",
      "n_components= 1900 variance= 0.9814696892183729\n",
      "n_components= 1999 variance= 0.9999999999999817\n"
     ]
    }
   ],
   "source": [
    "# finding optimal value of n_componenets(n) using truncated svd\n",
    "from sklearn.decomposition import TruncatedSVD\n",
    "\n",
    "n_components = [10,30,50,100,200,300,400,500,1000,1200,1500,1600,1700,1800,1900,1999]\n",
    "explained_variance = []\n",
    "for x in n_components:\n",
    "    svd=TruncatedSVD(n_components = x,random_state=42)\n",
    "    svd.fit(co_occur_matrix)\n",
    "    exp_var = svd.explained_variance_ratio_.sum()\n",
    "    explained_variance.append(exp_var) \n",
    "    print('n_components=',x,'variance=',exp_var) "
   ]
  },
  {
   "cell_type": "code",
   "execution_count": 35,
   "metadata": {},
   "outputs": [
    {
     "data": {
      "image/png": "[encoded data removed]",
      "text/plain": [
       "<Figure size 432x288 with 1 Axes>"
      ]
     },
     "metadata": {
      "needs_background": "light"
     },
     "output_type": "display_data"
    }
   ],
   "source": [
    "#plotting curve between n_components and explained variance\n",
    "plt.plot(n_components, explained_variance)\n",
    "plt.xlabel('n_components')\n",
    "plt.ylabel(\"Explained variance\")\n",
    "plt.title(\"n_components v/s Explained variance\")\n",
    "plt.show()"
   ]
  },
  {
   "cell_type": "code",
   "execution_count": 36,
   "metadata": {},
   "outputs": [
    {
     "data": {
      "text/plain": [
       "(2000, 1800)"
      ]
     },
     "execution_count": 36,
     "metadata": {},
     "output_type": "execute_result"
    }
   ],
   "source": [
    "# we take n_components = 1800 as it explains about 95% of variance in the matrix\n",
    "from sklearn.decomposition import TruncatedSVD\n",
    "\n",
    "t_svd = TruncatedSVD(n_components=1800,random_state=42)\n",
    "final_co_occur_matrix = t_svd.fit_transform(co_occur_matrix)\n",
    "final_co_occur_matrix.shape"
   ]
  },
  {
   "cell_type": "code",
   "execution_count": 37,
   "metadata": {},
   "outputs": [],
   "source": [
    "dict_word_vect = {}\n",
    "for i in range(len(final_features_2000)):\n",
    "    dict_word_vect[final_features_2000[i]] = final_co_occur_matrix[i]"
   ]
  },
  {
   "cell_type": "code",
   "execution_count": 38,
   "metadata": {},
   "outputs": [],
   "source": [
    "# model = final_2000_features\n",
    "glove_words =  set(dict_word_vect.keys())"
   ]
  },
  {
   "cell_type": "code",
   "execution_count": 39,
   "metadata": {},
   "outputs": [],
   "source": [
    "# average Word2Vec\n",
    "# compute average word2vec for each review.\n",
    "essays_train_avg_w2v = []; # the avg-w2v for each sentence/review is stored in this list\n",
    "for sentence in X_train['preprocessed_essays']: # for each review/sentence\n",
    "    vector = np.zeros(1800) # as word vectors are of zero length\n",
    "    cnt_words =0; # num of words with a valid vector in the sentence/review\n",
    "    for word in sentence.split(): # for each word in a review/sentence\n",
    "        if word in glove_words:\n",
    "            vector += dict_word_vect[word]\n",
    "            cnt_words += 1\n",
    "    if cnt_words != 0:\n",
    "        vector /= cnt_words\n",
    "    essays_train_avg_w2v.append(vector)"
   ]
  },
  {
   "cell_type": "code",
   "execution_count": 40,
   "metadata": {},
   "outputs": [],
   "source": [
    "# average Word2Vec\n",
    "# compute average word2vec for each review.\n",
    "titles_train_avg_w2v = []; # the avg-w2v for each sentence/review is stored in this list\n",
    "for sentence in X_train['preprocessed_titles']: # for each review/sentence\n",
    "    vector = np.zeros(1800) # as word vectors are of zero length\n",
    "    cnt_words =0; # num of words with a valid vector in the sentence/review\n",
    "    for word in sentence.split(): # for each word in a review/sentence\n",
    "        if word in glove_words:\n",
    "            vector += dict_word_vect[word]\n",
    "            cnt_words += 1\n",
    "    if cnt_words != 0:\n",
    "        vector /= cnt_words\n",
    "    titles_train_avg_w2v.append(vector)"
   ]
  },
  {
   "cell_type": "code",
   "execution_count": 41,
   "metadata": {},
   "outputs": [
    {
     "data": {
      "text/plain": [
       "40000"
      ]
     },
     "execution_count": 41,
     "metadata": {},
     "output_type": "execute_result"
    }
   ],
   "source": [
    "len(titles_train_avg_w2v)"
   ]
  },
  {
   "cell_type": "code",
   "execution_count": 42,
   "metadata": {},
   "outputs": [],
   "source": [
    "# average Word2Vec\n",
    "# compute average word2vec for each review.\n",
    "titles_test_avg_w2v = []; # the avg-w2v for each sentence/review is stored in this list\n",
    "for sentence in X_test['preprocessed_titles']: # for each review/sentence\n",
    "    vector = np.zeros(1800) # as word vectors are of zero length\n",
    "    cnt_words =0; # num of words with a valid vector in the sentence/review\n",
    "    for word in sentence.split(): # for each word in a review/sentence\n",
    "        if word in glove_words:\n",
    "            vector += dict_word_vect[word]\n",
    "            cnt_words += 1\n",
    "    if cnt_words != 0:\n",
    "        vector /= cnt_words\n",
    "    titles_test_avg_w2v.append(vector)"
   ]
  },
  {
   "cell_type": "code",
   "execution_count": 43,
   "metadata": {},
   "outputs": [],
   "source": [
    "# average Word2Vec\n",
    "# compute average word2vec for each review.\n",
    "essays_test_avg_w2v = []; # the avg-w2v for each sentence/review is stored in this list\n",
    "for sentence in X_test['preprocessed_essays']: # for each review/sentence\n",
    "    vector = np.zeros(1800) # as word vectors are of zero length\n",
    "    cnt_words =0; # num of words with a valid vector in the sentence/review\n",
    "    for word in sentence.split(): # for each word in a review/sentence\n",
    "        if word in glove_words:\n",
    "            vector += dict_word_vect[word]\n",
    "            cnt_words += 1\n",
    "    if cnt_words != 0:\n",
    "        vector /= cnt_words\n",
    "    essays_test_avg_w2v.append(vector)"
   ]
  },
  {
   "cell_type": "markdown",
   "metadata": {},
   "source": [
    "<h2> $3.7.$ Vectorizing Numerical Data </h2>\n",
    "PRICE , QUANTITY , Number of Projects Proposed Previously by the Teacher"
   ]
  },
  {
   "cell_type": "markdown",
   "metadata": {},
   "source": [
    "<h3> 3.7.1 Price </h3>"
   ]
  },
  {
   "cell_type": "code",
   "execution_count": 44,
   "metadata": {},
   "outputs": [
    {
     "data": {
      "text/html": [
       "<div>\n",
       "<style scoped>\n",
       "    .dataframe tbody tr th:only-of-type {\n",
       "        vertical-align: middle;\n",
       "    }\n",
       "\n",
       "    .dataframe tbody tr th {\n",
       "        vertical-align: top;\n",
       "    }\n",
       "\n",
       "    .dataframe thead th {\n",
       "        text-align: right;\n",
       "    }\n",
       "</style>\n",
       "<table border=\"1\" class=\"dataframe\">\n",
       "  <thead>\n",
       "    <tr style=\"text-align: right;\">\n",
       "      <th></th>\n",
       "      <th>id</th>\n",
       "      <th>price</th>\n",
       "      <th>quantity</th>\n",
       "    </tr>\n",
       "  </thead>\n",
       "  <tbody>\n",
       "    <tr>\n",
       "      <th>0</th>\n",
       "      <td>p000001</td>\n",
       "      <td>459.56</td>\n",
       "      <td>7</td>\n",
       "    </tr>\n",
       "    <tr>\n",
       "      <th>1</th>\n",
       "      <td>p000002</td>\n",
       "      <td>515.89</td>\n",
       "      <td>21</td>\n",
       "    </tr>\n",
       "    <tr>\n",
       "      <th>2</th>\n",
       "      <td>p000003</td>\n",
       "      <td>298.97</td>\n",
       "      <td>4</td>\n",
       "    </tr>\n",
       "  </tbody>\n",
       "</table>\n",
       "</div>"
      ],
      "text/plain": [
       "        id   price  quantity\n",
       "0  p000001  459.56         7\n",
       "1  p000002  515.89        21\n",
       "2  p000003  298.97         4"
      ]
     },
     "execution_count": 44,
     "metadata": {},
     "output_type": "execute_result"
    }
   ],
   "source": [
    "price_data = data_resources.groupby('id').agg({'price':'sum', 'quantity':'sum'}).reset_index()\n",
    "price_data.head(3)"
   ]
  },
  {
   "cell_type": "code",
   "execution_count": 45,
   "metadata": {},
   "outputs": [],
   "source": [
    "X_train = pd.merge(X_train, price_data, on='id', how='left')\n",
    "X_test = pd.merge(X_test, price_data, on='id', how='left')"
   ]
  },
  {
   "cell_type": "code",
   "execution_count": 46,
   "metadata": {},
   "outputs": [
    {
     "name": "stdout",
     "output_type": "stream",
     "text": [
      "(40000, 1) and (40000,)\n",
      "(10000, 1) and (10000,)\n"
     ]
    }
   ],
   "source": [
    "from sklearn.preprocessing import StandardScaler\n",
    "price_numerical = StandardScaler()\n",
    "price_numerical.fit(X_train['price'].values.reshape(-1,1))\n",
    "\n",
    "standardized_price_train = price_numerical.transform(X_train['price'].values.reshape(-1,1))\n",
    "standardized_price_test = price_numerical.transform(X_test['price'].values.reshape(-1,1))\n",
    "\n",
    "print(standardized_price_train.shape,\"and\",y_train.shape)\n",
    "print(standardized_price_test.shape,\"and\",y_test.shape)"
   ]
  },
  {
   "cell_type": "markdown",
   "metadata": {},
   "source": [
    "<h3> 3.7.2 Quantity </h3>"
   ]
  },
  {
   "cell_type": "code",
   "execution_count": 47,
   "metadata": {},
   "outputs": [
    {
     "name": "stdout",
     "output_type": "stream",
     "text": [
      "(40000, 1) and (40000,)\n",
      "(10000, 1) and (10000,)\n"
     ]
    }
   ],
   "source": [
    "quantity_numerical = StandardScaler()\n",
    "quantity_numerical.fit(X_train['quantity'].values.reshape(-1,1)) \n",
    "\n",
    "standardized_quantity_train = quantity_numerical.transform(X_train['quantity'].values.reshape(-1,1))\n",
    "standardized_quantity_test = quantity_numerical.transform(X_test['quantity'].values.reshape(-1,1))\n",
    "\n",
    "print(standardized_quantity_train.shape,\"and\",y_train.shape)\n",
    "print(standardized_quantity_test.shape,\"and\",y_test.shape)"
   ]
  },
  {
   "cell_type": "markdown",
   "metadata": {},
   "source": [
    "<h3> 3.7.3 Number of previously posted projects by teachers </h3>"
   ]
  },
  {
   "cell_type": "code",
   "execution_count": 48,
   "metadata": {},
   "outputs": [
    {
     "name": "stdout",
     "output_type": "stream",
     "text": [
      "(40000, 1) and (40000,)\n",
      "(10000, 1) and (10000,)\n"
     ]
    }
   ],
   "source": [
    "teacher_no_previous_project_numerical = StandardScaler()\n",
    "teacher_no_previous_project_numerical.fit(X_train['teacher_number_of_previously_posted_projects'].values.reshape(-1,1)) \n",
    "\n",
    "standardized_teacher_no_train = teacher_no_previous_project_numerical.transform(X_train['teacher_number_of_previously_posted_projects'].values.reshape(-1,1))\n",
    "standardized_teacher_no_test = teacher_no_previous_project_numerical.transform(X_test['teacher_number_of_previously_posted_projects'].values.reshape(-1,1))\n",
    "\n",
    "print(standardized_teacher_no_train.shape,\"and\",y_train.shape)\n",
    "print(standardized_teacher_no_test.shape,\"and\",y_test.shape)"
   ]
  },
  {
   "cell_type": "markdown",
   "metadata": {},
   "source": [
    "<h3> <font color='blue'>$3.7.4$ Sentiment Scores of essay text</h3>"
   ]
  },
  {
   "cell_type": "code",
   "execution_count": 49,
   "metadata": {},
   "outputs": [
    {
     "name": "stdout",
     "output_type": "stream",
     "text": [
      "(40000, 1) and (40000,)\n",
      "(10000, 1) and (10000,)\n"
     ]
    }
   ],
   "source": [
    "scale = StandardScaler()\n",
    "scale.fit(X_train['essay_sentiment'].values.reshape(-1,1)) \n",
    "\n",
    "standardized_sentiment_train = scale.transform(X_train['essay_sentiment'].values.reshape(-1,1))\n",
    "standardized_sentiment_test = scale.transform(X_test['essay_sentiment'].values.reshape(-1,1))\n",
    "\n",
    "print(standardized_sentiment_train.shape,\"and\",y_train.shape)\n",
    "print(standardized_sentiment_test.shape,\"and\",y_test.shape)"
   ]
  },
  {
   "cell_type": "markdown",
   "metadata": {},
   "source": [
    "<h3> <font color='blue'>$3.7.5$ Project Essay Length</h3>"
   ]
  },
  {
   "cell_type": "code",
   "execution_count": 50,
   "metadata": {},
   "outputs": [
    {
     "name": "stdout",
     "output_type": "stream",
     "text": [
      "(40000, 1) and (40000,)\n",
      "(10000, 1) and (10000,)\n"
     ]
    }
   ],
   "source": [
    "scale = StandardScaler()\n",
    "scale.fit(X_train['essay_size'].values.reshape(-1,1)) \n",
    "\n",
    "standardized_essay_size_train = scale.transform(X_train['essay_size'].values.reshape(-1,1))\n",
    "standardized_essay_size_test = scale.transform(X_test['essay_size'].values.reshape(-1,1))\n",
    "\n",
    "print(standardized_essay_size_train.shape,\"and\",y_train.shape)\n",
    "print(standardized_essay_size_test.shape,\"and\",y_test.shape)"
   ]
  },
  {
   "cell_type": "markdown",
   "metadata": {},
   "source": [
    "<h3> <font color='blue'>$3.7.6$ Project Title Length</h3>"
   ]
  },
  {
   "cell_type": "code",
   "execution_count": 51,
   "metadata": {},
   "outputs": [
    {
     "name": "stdout",
     "output_type": "stream",
     "text": [
      "(40000, 1) and (40000,)\n",
      "(10000, 1) and (10000,)\n"
     ]
    }
   ],
   "source": [
    "scale = StandardScaler()\n",
    "scale.fit(X_train['title_size'].values.reshape(-1,1)) \n",
    "\n",
    "standardized_title_size_train = scale.transform(X_train['title_size'].values.reshape(-1,1))\n",
    "standardized_title_size_test = scale.transform(X_test['title_size'].values.reshape(-1,1))\n",
    "\n",
    "print(standardized_title_size_train.shape,\"and\",y_train.shape)\n",
    "print(standardized_title_size_test.shape,\"and\",y_test.shape)"
   ]
  },
  {
   "cell_type": "markdown",
   "metadata": {},
   "source": [
    "# Assignment 11: TruncatedSVD\n",
    "\n",
    "- <font color='red'>step 1</font> Select the top 2k words from essay text and project_title (concatinate essay text with project title and then find the top 2k words) based on their <a href='https://scikit-learn.org/stable/modules/generated/sklearn.feature_extraction.text.TfidfVectorizer.html'>`idf_`</a> values \n",
    "- <font color='red'>step 2</font> Compute the co-occurance matrix with these 2k words, with window size=5 (<a href='https://www.analyticsvidhya.com/blog/2017/06/word-embeddings-count-word2veec/'>ref</a>)\n",
    "    <img src='cooc.JPG' width=300px>\n",
    "- <font color='red'>step 3</font> Use <a href='http://scikit-learn.org/stable/modules/generated/sklearn.decomposition.TruncatedSVD.html'>TruncatedSVD</a> on calculated co-occurance matrix and reduce its dimensions, choose the number of components (`n_components`) using <a href='https://www.appliedaicourse.com/course/applied-ai-course-online/lessons/pca-code-example-using-non-visualization/'>elbow method</a>\n",
    " >- The shape of the matrix after TruncatedSVD will be 2000\\*n, i.e. each row represents a vector form of the corresponding word. <br>\n",
    " >- Vectorize the essay text and project titles using these word vectors. (while vectorizing, do ignore all the words which are not in top 2k words)\n",
    "- <font color='red'>step 4</font> Concatenate these truncatedSVD matrix, with the matrix with features\n",
    "<ul>\n",
    "    <li><strong>school_state</strong> : categorical data</li>\n",
    "    <li><strong>clean_categories</strong> : categorical data</li>\n",
    "    <li><strong>clean_subcategories</strong> : categorical data</li>\n",
    "    <li><strong>project_grade_category</strong> :categorical data</li>\n",
    "    <li><strong>teacher_prefix</strong> : categorical data</li>\n",
    "    <li><strong>quantity</strong> : numerical data</li>\n",
    "    <li><strong>teacher_number_of_previously_posted_projects</strong> : numerical data</li>\n",
    "    <li><strong>price</strong> : numerical data</li>\n",
    "    <li><strong>sentiment score's of each of the essay</strong> : numerical data</li>\n",
    "    <li><strong>number of words in the title</strong> : numerical data</li>\n",
    "    <li><strong>number of words in the combine essays</strong> : numerical data</li>\n",
    "    <li><strong>word vectors calculated in</strong> <font color='red'>step 3</font> : numerical data</li>\n",
    "</ul>\n",
    "- <font color='red'>step 5</font>: Apply GBDT on matrix that was formed in <font color='red'>step 4</font> of this assignment, <font color='blue'><strong>DO REFER THIS BLOG: <a href='https://www.kdnuggets.com/2017/03/simple-xgboost-tutorial-iris-dataset.html'>XGBOOST DMATRIX<strong></a></font>\n",
    "<li><font color='red'>step 6</font>:Hyper parameter tuning (Consider any two hyper parameters)<ul><li>Find the best hyper parameter which will give the maximum <a href='https://www.appliedaicourse.com/course/applied-ai-course-online/lessons/receiver-operating-characteristic-curve-roc-curve-and-auc-1/'>AUC</a> value</li>\n",
    "    <li>Find the best hyper paramter using k-fold cross validation or simple cross validation data</li>\n",
    "    <li>Use gridsearch cv or randomsearch cv or you can also write your own for loops to do this task of hyperparameter tuning</li> \n",
    "        </ul>\n",
    "    </li>\n",
    "\n"
   ]
  },
  {
   "cell_type": "code",
   "execution_count": 52,
   "metadata": {},
   "outputs": [],
   "source": [
    "#Functions required for all further tasks.\n",
    "#REFERENCES:\n",
    "#https://scikit-learn.org/stable/modules/generated/sklearn.model_selection.GridSearchCV.html\n",
    "#https://datascience.stackexchange.com/questions/22762/understanding-predict-proba-from-multioutputclassifier/22821#22821\n",
    "#Xgboost: https://www.analyticsvidhya.com/blog/2016/03/complete-guide-parameter-tuning-xgboost-with-codes-python/\n",
    "#CONFUSION MATRIX: https://stackoverflow.com/questions/19233771/sklearn-plot-confusion-matrix-with-labels/48018785\n",
    "#ROC: https://www.codespeedy.com/how-to-plot-roc-curve-using-sklearn-library-in-python/\n",
    "#https://seaborn.pydata.org/generated/seaborn.heatmap.html\n",
    "import xgboost as xgb\n",
    "\n",
    "def prob_scores(clf,data):\n",
    "    y_pred = []\n",
    "    loop = data.shape[0] - data.shape[0]%1000\n",
    "    for i in range(0,loop,1000):\n",
    "        y_pred.extend(clf.predict_proba(data[i:i+1000])[:,1])\n",
    "    y_pred.extend(clf.predict_proba(data[loop:])[:,1])\n",
    "    return y_pred\n",
    "\n",
    "def getAUC(X, y):\n",
    "    auc_train = []\n",
    "    auc_cv = []\n",
    "    parameters = [{'n_estimators': [50,100,200,300,450] , 'max_depth': [10,20,50,100]}]\n",
    "    #https://www.analyticsvidhya.com/blog/2016/03/complete-guide-parameter-tuning-xgboost-with-codes-python/\n",
    "    gbdt = xgb.XGBClassifier(n_jobs=-1,class_weight='balanced')\n",
    "    clf = GridSearchCV(gbdt, parameters, cv=3, scoring='roc_auc',return_train_score=True)\n",
    "    clf.fit(X, y)\n",
    "    return clf \n",
    "\n",
    "def plotPerformance(clf):\n",
    "    sns.set()\n",
    "    max_scores1 = pd.DataFrame(clf.cv_results_).groupby(['param_n_estimators', 'param_max_depth']).max().unstack()[['mean_test_score', \\\n",
    "                                                                                                                    'mean_train_score']]\n",
    "    fig, ax = plt.subplots(1,2, figsize=(20,6))\n",
    "    sns.heatmap(max_scores1.mean_train_score, annot = True, fmt='.4g', ax=ax[0])\n",
    "    sns.heatmap(max_scores1.mean_test_score, annot = True, fmt='.4g', ax=ax[1])\n",
    "    ax[0].set_title('Train Set')\n",
    "    ax[1].set_title('CV Set')\n",
    "    plt.show()\n",
    "    \n",
    "\n",
    "def train_using_optimal_hyperparameter(clf, X_train):\n",
    "    print(\"Optimal Estimator\", clf.best_estimator_)\n",
    "    gbdt = clf.best_estimator_\n",
    "    gbdt.fit(X_train, y_train)\n",
    "    return gbdt\n",
    "\n",
    "def get_plot_ROC_confusion_matrix(clf, X_tr , X_te ):\n",
    "    y_train_pred1 = prob_scores(clf , X_tr)\n",
    "    y_test_pred1 =  prob_scores(clf , X_te)\n",
    "    train_fpr1, train_tpr1, tr_thresholds1 = roc_curve(y_train, y_train_pred1)\n",
    "    test_fpr1, test_tpr1, te_thresholds1 = roc_curve(y_test, y_test_pred1)\n",
    "    plt.plot(train_fpr1, train_tpr1, label=\"train AUC =\"+str(auc(train_fpr1, train_tpr1)))\n",
    "    plt.plot(test_fpr1, test_tpr1, label=\"test AUC =\"+str(auc(test_fpr1, test_tpr1)))\n",
    "    plt.legend()\n",
    "    plt.xlabel(\"False Positive Rate\")\n",
    "    plt.ylabel(\"True Positive Rate\")\n",
    "    plt.title(\"ERROR PLOTS\")\n",
    "    plt.grid(True)\n",
    "    plt.show()\n",
    "    \n",
    "    \n",
    "    sns.set()\n",
    "    conf_train = confusion_matrix(y_train, predicted_Values(y_train_pred1, tr_thresholds1, train_fpr1, train_tpr1))\n",
    "    conf_test = confusion_matrix(y_test, predicted_Values(y_test_pred1, te_thresholds1, test_fpr1, test_tpr1))\n",
    "    key = (np.asarray([['TN','FP'], ['FN', 'TP']]))\n",
    "    fig, ax = plt.subplots(1,2, figsize=(15,5))\n",
    "    labels_train = (np.asarray([\"{0} = {1:.2f}\" .format(key, value) for key, value in zip(key.flatten(), conf_train.flatten())])).reshape(2,2)\n",
    "    labels_test = (np.asarray([\"{0} = {1:.2f}\" .format(key, value) for key, value in zip(key.flatten(),conf_test.flatten())])).reshape(2,2)\n",
    "    sns.heatmap(conf_train, linewidths=.5, xticklabels=['PREDICTED : NO', 'PREDICTED : YES'],\\\n",
    "                yticklabels=['ACTUAL : NO', 'ACTUAL : YES'], annot = labels_train, fmt = '', ax=ax[0])\n",
    "    sns.heatmap(conf_test, linewidths=.5, xticklabels=['PREDICTED : NO', 'PREDICTED : YES'],\\\n",
    "                yticklabels=['ACTUAL : NO', 'ACTUAL : YES'], annot = labels_test, fmt = '', ax=ax[1])\n",
    "    ax[0].set_title('Train Set')\n",
    "    ax[1].set_title('Test Set')\n",
    "    plt.show()\n",
    "\n",
    "\n",
    "def predicted_Values( prob_values, thresholds , tpr , fpr):\n",
    "    threshold_optimal = thresholds[np.argmax(tpr*(1-fpr))] \n",
    "    # threshold for max value of tpr*(1-fpr)\n",
    "    # (tpr*(1-fpr)) will be maximum if your fpr is very low and tpr is very high\n",
    "    print(\"Maximum value of tpr*(1-fpr)\", max(tpr*(1-fpr)), \"for optimal threshold\", threshold_optimal)\n",
    "    predicted_value_list = []\n",
    "    for item in prob_values:\n",
    "        if item >= threshold_optimal:\n",
    "            predicted_value_list.append(1)# we are assigning a class value of 1 if the probability score given by  classifier  \n",
    "            #is greater than the optimal threshold else 0.\n",
    "        else:\n",
    "            predicted_value_list.append(0)\n",
    "    return predicted_value_list\n"
   ]
  },
  {
   "cell_type": "markdown",
   "metadata": {},
   "source": [
    "<span>Set 1: categorical, numerical features + project_title(BOW) + preprocessed_essay (BOW)</span>"
   ]
  },
  {
   "cell_type": "markdown",
   "metadata": {},
   "source": [
    "* ### $2.4.1$ Applying Support Vector Machine(SVM) on BOW<font color='yellow'> SET $1$</font>"
   ]
  },
  {
   "cell_type": "code",
   "execution_count": 53,
   "metadata": {},
   "outputs": [
    {
     "name": "stdout",
     "output_type": "stream",
     "text": [
      "FINAL DATA MATRIX FOR BOW\n",
      "(40000, 3706) (40000,)\n",
      "(10000, 3706) (10000,)\n"
     ]
    }
   ],
   "source": [
    "# merge two sparse matrices: https://stackoverflow.com/a/19710648/4084039\n",
    "from scipy.sparse import hstack\n",
    "\n",
    "X_train_merged = hstack((cat_one_hot_train, sub_cat_one_hot_train, school_state_one_hot_train, grade_one_hot_train, \\\n",
    "                         teacher_prefix_one_hot_train, standardized_price_train, standardized_quantity_train, \\\n",
    "                         standardized_teacher_no_train,standardized_sentiment_train,standardized_essay_size_train,\\\n",
    "                         standardized_title_size_train,titles_train_avg_w2v, essays_train_avg_w2v)).tocsr()\n",
    "X_test_merged = hstack((cat_one_hot_test, sub_cat_one_hot_test, school_state_one_hot_test, grade_one_hot_test, \\\n",
    "                        teacher_prefix_one_hot_test, standardized_price_test, standardized_quantity_test, standardized_teacher_no_test,\\\n",
    "                        standardized_sentiment_test,standardized_essay_size_test,standardized_title_size_test,titles_test_avg_w2v,\\\n",
    "                        essays_test_avg_w2v)).tocsr()\n",
    "\n",
    "\n",
    "print(\"FINAL DATA MATRIX FOR BOW\")\n",
    "print(X_train_merged.shape, y_train.shape)\n",
    "print(X_test_merged.shape, y_test.shape)"
   ]
  },
  {
   "cell_type": "markdown",
   "metadata": {},
   "source": [
    "$l1$ regulization"
   ]
  },
  {
   "cell_type": "code",
   "execution_count": 55,
   "metadata": {},
   "outputs": [
    {
     "data": {
      "image/png": "[encoded data removed]",
      "text/plain": [
       "<Figure size 1440x432 with 4 Axes>"
      ]
     },
     "metadata": {},
     "output_type": "display_data"
    },
    {
     "name": "stdout",
     "output_type": "stream",
     "text": [
      "Optimal Estimator XGBClassifier(base_score=0.5, booster=None, class_weight='balanced',\n",
      "              colsample_bylevel=1, colsample_bynode=1, colsample_bytree=1,\n",
      "              gamma=0, gpu_id=-1, importance_type='gain',\n",
      "              interaction_constraints=None, learning_rate=0.300000012,\n",
      "              max_delta_step=0, max_depth=10, min_child_weight=1, missing=nan,\n",
      "              monotone_constraints=None, n_estimators=50, n_jobs=-1,\n",
      "              num_parallel_tree=1, objective='binary:logistic', random_state=0,\n",
      "              reg_alpha=0, reg_lambda=1, scale_pos_weight=1, subsample=1,\n",
      "              tree_method=None, validate_parameters=False, verbosity=None)\n"
     ]
    },
    {
     "data": {
      "image/png": "[encoded data removed]",
      "text/plain": [
       "<Figure size 432x288 with 1 Axes>"
      ]
     },
     "metadata": {},
     "output_type": "display_data"
    },
    {
     "name": "stdout",
     "output_type": "stream",
     "text": [
      "Maximum value of tpr*(1-fpr) 0.02292996491445637 for optimal threshold 0.7976943\n",
      "Maximum value of tpr*(1-fpr) 0.15257906361209086 for optimal threshold 0.8834285\n"
     ]
    },
    {
     "data": {
      "image/png": "[encoded data removed]",
      "text/plain": [
       "<Figure size 1080x360 with 4 Axes>"
      ]
     },
     "metadata": {},
     "output_type": "display_data"
    }
   ],
   "source": [
    "title1 = 'Avg W2V'\n",
    "\n",
    "grid_clf = getAUC(X_train_merged, y_train)\n",
    "plotPerformance(grid_clf)\n",
    "gbdt_opt = train_using_optimal_hyperparameter(grid_clf,X_train_merged)\n",
    "get_plot_ROC_confusion_matrix(gbdt_opt, X_train_merged , X_test_merged)"
   ]
  },
  {
   "cell_type": "markdown",
   "metadata": {},
   "source": [
    "$Observations and Conclusions$"
   ]
  },
  {
   "cell_type": "code",
   "execution_count": 1,
   "metadata": {},
   "outputs": [
    {
     "name": "stdout",
     "output_type": "stream",
     "text": [
      "+------------+---------+--------------------------------+-----------+----------+\n",
      "| Vectorizer |  Model  |        Hyper Parameter         | Train AUC | Test AUC |\n",
      "+------------+---------+--------------------------------+-----------+----------+\n",
      "|  AVG W2V   | XGBoost | Max Depth:10 , n_estimators:50 |   0.935   |  0.653   |\n",
      "+------------+---------+--------------------------------+-----------+----------+\n"
     ]
    }
   ],
   "source": [
    "from prettytable import PrettyTable\n",
    "x = PrettyTable()\n",
    "x.field_names = [\"Vectorizer\", \"Model\", \"Hyper Parameter\", \"Train AUC\",\"Test AUC\"]\n",
    "x.add_row([\"AVG W2V\", \"XGBoost\", \"Max Depth:10 , n_estimators:50\",0.935 ,0.653])\n",
    "print(x)"
   ]
  },
  {
   "cell_type": "markdown",
   "metadata": {},
   "source": [
    "<h1> TOY EXAMPLE FOR CO-OCCURENCE MATRIX </h1>"
   ]
  },
  {
   "cell_type": "code",
   "execution_count": 59,
   "metadata": {},
   "outputs": [],
   "source": [
    "#TOY EXAMPLE\n",
    "top_words =  [\"abc\", \"pqr\", \"def\"]\n",
    "corpus = [\"abc def ijk pqr\",\"pqr klm opq\",\"lmn pqr xyz abc def pqr abc\"]"
   ]
  },
  {
   "cell_type": "code",
   "execution_count": 60,
   "metadata": {},
   "outputs": [
    {
     "name": "stdout",
     "output_type": "stream",
     "text": [
      "[[0. 0. 0.]\n",
      " [0. 0. 0.]\n",
      " [0. 0. 0.]]\n"
     ]
    }
   ],
   "source": [
    "co_mat = np.zeros((3,3))\n",
    "window_size = 2\n",
    "print(co_mat)"
   ]
  },
  {
   "cell_type": "code",
   "execution_count": 61,
   "metadata": {},
   "outputs": [
    {
     "name": "stdout",
     "output_type": "stream",
     "text": [
      "['abc', 'def', 'ijk', 'pqr']\n",
      "['pqr', 'klm', 'opq']\n",
      "['lmn', 'pqr', 'xyz', 'abc', 'def', 'pqr', 'abc']\n"
     ]
    }
   ],
   "source": [
    "for x in corpus:\n",
    "    words = x.split()\n",
    "    print(words)\n",
    "    for id,word in enumerate(words):\n",
    "        if word in top_words:\n",
    "            for i in range(max(0,id - window_size),min(id + window_size +1,len(words))):\n",
    "                if words[i] in top_words and i != id:\n",
    "                    co_mat[top_words.index(words[i]),top_words.index(word)] += 1"
   ]
  },
  {
   "cell_type": "code",
   "execution_count": 62,
   "metadata": {},
   "outputs": [
    {
     "name": "stdout",
     "output_type": "stream",
     "text": [
      "[[0. 3. 3.]\n",
      " [3. 0. 2.]\n",
      " [3. 2. 0.]]\n"
     ]
    }
   ],
   "source": [
    "print(co_mat)"
   ]
  },
  {
   "cell_type": "code",
   "execution_count": null,
   "metadata": {},
   "outputs": [],
   "source": []
  }
 ],
 "metadata": {
  "kernelspec": {
   "display_name": "Python 3",
   "language": "python",
   "name": "python3"
  },
  "language_info": {
   "codemirror_mode": {
    "name": "ipython",
    "version": 3
   },
   "file_extension": ".py",
   "mimetype": "text/x-python",
   "name": "python",
   "nbconvert_exporter": "python",
   "pygments_lexer": "ipython3",
   "version": "3.8.1"
  }
 },
 "nbformat": 4,
 "nbformat_minor": 2
}
